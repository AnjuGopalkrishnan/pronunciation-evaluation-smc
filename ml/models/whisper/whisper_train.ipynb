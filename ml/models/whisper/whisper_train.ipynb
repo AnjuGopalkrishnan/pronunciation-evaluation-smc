{
 "cells": [
  {
   "cell_type": "markdown",
   "source": [
    "# NOTE: We are not using whisper in our project because the WER is really poor\n",
    "\n",
    "This is probably because fine tuning whisper to phoneme level needs to be done with more care which we were not able to figure out"
   ],
   "metadata": {
    "collapsed": false
   }
  },
  {
   "cell_type": "markdown",
   "source": [
    "# Install required packages"
   ],
   "metadata": {
    "collapsed": false
   }
  },
  {
   "cell_type": "code",
   "execution_count": 1,
   "metadata": {
    "collapsed": true,
    "colab": {
     "base_uri": "https://localhost:8080/"
    },
    "id": "9DGKHVbmXwLD",
    "outputId": "f5f4c882-9eff-4fd5-aee7-0c1f680541ff"
   },
   "outputs": [
    {
     "output_type": "stream",
     "name": "stdout",
     "text": [
      "Requirement already satisfied: speechbrain in /usr/local/lib/python3.10/dist-packages (0.5.15)\n",
      "Requirement already satisfied: hyperpyyaml in /usr/local/lib/python3.10/dist-packages (from speechbrain) (1.2.2)\n",
      "Requirement already satisfied: joblib in /usr/local/lib/python3.10/dist-packages (from speechbrain) (1.3.2)\n",
      "Requirement already satisfied: numpy in /usr/local/lib/python3.10/dist-packages (from speechbrain) (1.23.5)\n",
      "Requirement already satisfied: packaging in /usr/local/lib/python3.10/dist-packages (from speechbrain) (23.2)\n",
      "Requirement already satisfied: scipy in /usr/local/lib/python3.10/dist-packages (from speechbrain) (1.11.3)\n",
      "Requirement already satisfied: sentencepiece in /usr/local/lib/python3.10/dist-packages (from speechbrain) (0.1.99)\n",
      "Requirement already satisfied: torch>=1.9 in /usr/local/lib/python3.10/dist-packages (from speechbrain) (2.1.0+cu118)\n",
      "Requirement already satisfied: torchaudio in /usr/local/lib/python3.10/dist-packages (from speechbrain) (2.1.0+cu118)\n",
      "Requirement already satisfied: tqdm in /usr/local/lib/python3.10/dist-packages (from speechbrain) (4.66.1)\n",
      "Requirement already satisfied: huggingface-hub in /usr/local/lib/python3.10/dist-packages (from speechbrain) (0.19.3)\n",
      "Requirement already satisfied: filelock in /usr/local/lib/python3.10/dist-packages (from torch>=1.9->speechbrain) (3.13.1)\n",
      "Requirement already satisfied: typing-extensions in /usr/local/lib/python3.10/dist-packages (from torch>=1.9->speechbrain) (4.5.0)\n",
      "Requirement already satisfied: sympy in /usr/local/lib/python3.10/dist-packages (from torch>=1.9->speechbrain) (1.12)\n",
      "Requirement already satisfied: networkx in /usr/local/lib/python3.10/dist-packages (from torch>=1.9->speechbrain) (3.2.1)\n",
      "Requirement already satisfied: jinja2 in /usr/local/lib/python3.10/dist-packages (from torch>=1.9->speechbrain) (3.1.2)\n",
      "Requirement already satisfied: fsspec in /usr/local/lib/python3.10/dist-packages (from torch>=1.9->speechbrain) (2023.6.0)\n",
      "Requirement already satisfied: triton==2.1.0 in /usr/local/lib/python3.10/dist-packages (from torch>=1.9->speechbrain) (2.1.0)\n",
      "Requirement already satisfied: requests in /usr/local/lib/python3.10/dist-packages (from huggingface-hub->speechbrain) (2.31.0)\n",
      "Requirement already satisfied: pyyaml>=5.1 in /usr/local/lib/python3.10/dist-packages (from huggingface-hub->speechbrain) (6.0.1)\n",
      "Requirement already satisfied: ruamel.yaml>=0.17.28 in /usr/local/lib/python3.10/dist-packages (from hyperpyyaml->speechbrain) (0.18.5)\n",
      "Requirement already satisfied: ruamel.yaml.clib>=0.2.7 in /usr/local/lib/python3.10/dist-packages (from ruamel.yaml>=0.17.28->hyperpyyaml->speechbrain) (0.2.8)\n",
      "Requirement already satisfied: MarkupSafe>=2.0 in /usr/local/lib/python3.10/dist-packages (from jinja2->torch>=1.9->speechbrain) (2.1.3)\n",
      "Requirement already satisfied: charset-normalizer<4,>=2 in /usr/local/lib/python3.10/dist-packages (from requests->huggingface-hub->speechbrain) (3.3.2)\n",
      "Requirement already satisfied: idna<4,>=2.5 in /usr/local/lib/python3.10/dist-packages (from requests->huggingface-hub->speechbrain) (3.4)\n",
      "Requirement already satisfied: urllib3<3,>=1.21.1 in /usr/local/lib/python3.10/dist-packages (from requests->huggingface-hub->speechbrain) (2.0.7)\n",
      "Requirement already satisfied: certifi>=2017.4.17 in /usr/local/lib/python3.10/dist-packages (from requests->huggingface-hub->speechbrain) (2023.7.22)\n",
      "Requirement already satisfied: mpmath>=0.19 in /usr/local/lib/python3.10/dist-packages (from sympy->torch>=1.9->speechbrain) (1.3.0)\n",
      "Requirement already satisfied: textgrid in /usr/local/lib/python3.10/dist-packages (1.5)\n",
      "Requirement already satisfied: transformers in /usr/local/lib/python3.10/dist-packages (4.35.2)\n",
      "Requirement already satisfied: librosa in /usr/local/lib/python3.10/dist-packages (0.10.1)\n",
      "Requirement already satisfied: filelock in /usr/local/lib/python3.10/dist-packages (from transformers) (3.13.1)\n",
      "Requirement already satisfied: huggingface-hub<1.0,>=0.16.4 in /usr/local/lib/python3.10/dist-packages (from transformers) (0.19.3)\n",
      "Requirement already satisfied: numpy>=1.17 in /usr/local/lib/python3.10/dist-packages (from transformers) (1.23.5)\n",
      "Requirement already satisfied: packaging>=20.0 in /usr/local/lib/python3.10/dist-packages (from transformers) (23.2)\n",
      "Requirement already satisfied: pyyaml>=5.1 in /usr/local/lib/python3.10/dist-packages (from transformers) (6.0.1)\n",
      "Requirement already satisfied: regex!=2019.12.17 in /usr/local/lib/python3.10/dist-packages (from transformers) (2023.6.3)\n",
      "Requirement already satisfied: requests in /usr/local/lib/python3.10/dist-packages (from transformers) (2.31.0)\n",
      "Requirement already satisfied: tokenizers<0.19,>=0.14 in /usr/local/lib/python3.10/dist-packages (from transformers) (0.15.0)\n",
      "Requirement already satisfied: safetensors>=0.3.1 in /usr/local/lib/python3.10/dist-packages (from transformers) (0.4.0)\n",
      "Requirement already satisfied: tqdm>=4.27 in /usr/local/lib/python3.10/dist-packages (from transformers) (4.66.1)\n",
      "Requirement already satisfied: audioread>=2.1.9 in /usr/local/lib/python3.10/dist-packages (from librosa) (3.0.1)\n",
      "Requirement already satisfied: scipy>=1.2.0 in /usr/local/lib/python3.10/dist-packages (from librosa) (1.11.3)\n",
      "Requirement already satisfied: scikit-learn>=0.20.0 in /usr/local/lib/python3.10/dist-packages (from librosa) (1.2.2)\n",
      "Requirement already satisfied: joblib>=0.14 in /usr/local/lib/python3.10/dist-packages (from librosa) (1.3.2)\n",
      "Requirement already satisfied: decorator>=4.3.0 in /usr/local/lib/python3.10/dist-packages (from librosa) (4.4.2)\n",
      "Requirement already satisfied: numba>=0.51.0 in /usr/local/lib/python3.10/dist-packages (from librosa) (0.58.1)\n",
      "Requirement already satisfied: soundfile>=0.12.1 in /usr/local/lib/python3.10/dist-packages (from librosa) (0.12.1)\n",
      "Requirement already satisfied: pooch>=1.0 in /usr/local/lib/python3.10/dist-packages (from librosa) (1.8.0)\n",
      "Requirement already satisfied: soxr>=0.3.2 in /usr/local/lib/python3.10/dist-packages (from librosa) (0.3.7)\n",
      "Requirement already satisfied: typing-extensions>=4.1.1 in /usr/local/lib/python3.10/dist-packages (from librosa) (4.5.0)\n",
      "Requirement already satisfied: lazy-loader>=0.1 in /usr/local/lib/python3.10/dist-packages (from librosa) (0.3)\n",
      "Requirement already satisfied: msgpack>=1.0 in /usr/local/lib/python3.10/dist-packages (from librosa) (1.0.7)\n",
      "Requirement already satisfied: fsspec>=2023.5.0 in /usr/local/lib/python3.10/dist-packages (from huggingface-hub<1.0,>=0.16.4->transformers) (2023.6.0)\n",
      "Requirement already satisfied: llvmlite<0.42,>=0.41.0dev0 in /usr/local/lib/python3.10/dist-packages (from numba>=0.51.0->librosa) (0.41.1)\n",
      "Requirement already satisfied: platformdirs>=2.5.0 in /usr/local/lib/python3.10/dist-packages (from pooch>=1.0->librosa) (4.0.0)\n",
      "Requirement already satisfied: charset-normalizer<4,>=2 in /usr/local/lib/python3.10/dist-packages (from requests->transformers) (3.3.2)\n",
      "Requirement already satisfied: idna<4,>=2.5 in /usr/local/lib/python3.10/dist-packages (from requests->transformers) (3.4)\n",
      "Requirement already satisfied: urllib3<3,>=1.21.1 in /usr/local/lib/python3.10/dist-packages (from requests->transformers) (2.0.7)\n",
      "Requirement already satisfied: certifi>=2017.4.17 in /usr/local/lib/python3.10/dist-packages (from requests->transformers) (2023.7.22)\n",
      "Requirement already satisfied: threadpoolctl>=2.0.0 in /usr/local/lib/python3.10/dist-packages (from scikit-learn>=0.20.0->librosa) (3.2.0)\n",
      "Requirement already satisfied: cffi>=1.0 in /usr/local/lib/python3.10/dist-packages (from soundfile>=0.12.1->librosa) (1.16.0)\n",
      "Requirement already satisfied: pycparser in /usr/local/lib/python3.10/dist-packages (from cffi>=1.0->soundfile>=0.12.1->librosa) (2.21)\n"
     ]
    }
   ],
   "source": [
    "!pip install speechbrain\n",
    "!pip install textgrid transformers librosa"
   ]
  },
  {
   "cell_type": "markdown",
   "source": [
    "# Import the following packages"
   ],
   "metadata": {
    "collapsed": false,
    "id": "NgLjpCHQXwLE"
   }
  },
  {
   "cell_type": "code",
   "execution_count": 2,
   "outputs": [],
   "source": [
    "import os\n",
    "import sys\n",
    "import torch\n",
    "import logging\n",
    "import speechbrain as sb\n",
    "from hyperpyyaml import load_hyperpyyaml\n",
    "import librosa\n",
    "import csv\n",
    "from google.colab import drive, files\n",
    "from speechbrain.utils.distributed import run_on_main, if_main_process\n",
    "from speechbrain.tokenizers.SentencePiece import SentencePiece\n",
    "from speechbrain.utils.data_utils import undo_padding\n",
    "from hyperpyyaml import load_hyperpyyaml\n",
    "from pathlib import Path"
   ],
   "metadata": {
    "id": "0_TiD4HAXwLE"
   }
  },
  {
   "cell_type": "markdown",
   "source": [
    "# Mount google drive"
   ],
   "metadata": {
    "collapsed": false,
    "id": "LHmupatMXwLF"
   }
  },
  {
   "cell_type": "code",
   "execution_count": 3,
   "outputs": [
    {
     "output_type": "stream",
     "name": "stdout",
     "text": [
      "Mounted at /content/drive\n"
     ]
    }
   ],
   "source": [
    "# Mount drive\n",
    "drive.mount('/content/drive', force_remount=True)"
   ],
   "metadata": {
    "colab": {
     "base_uri": "https://localhost:8080/"
    },
    "id": "ZDKjl-sSXwLF",
    "outputId": "728b5d30-e7af-46dc-f22b-c3f8411e1bbc"
   }
  },
  {
   "cell_type": "markdown",
   "source": [
    "# Define constants\n"
   ],
   "metadata": {
    "collapsed": false,
    "id": "OOVx20TbXwLF"
   }
  },
  {
   "cell_type": "code",
   "execution_count": 4,
   "outputs": [
    {
     "output_type": "stream",
     "name": "stdout",
     "text": [
      "Current Working Directory after change: /content/drive/MyDrive/CS5647_Project\n"
     ]
    }
   ],
   "source": [
    "logger = logging.getLogger(__name__)\n",
    "\n",
    "#Change directory to folder in drive\n",
    "\n",
    "folder_path = '/content/drive/MyDrive/CS5647_Project'\n",
    "os.chdir(folder_path)\n",
    "current_directory = os.getcwd()\n",
    "print(\"Current Working Directory after change:\", current_directory)\n",
    "\n",
    "#import the mpd eval stats as it is in the same directory\n",
    "from mpd_eval_v3 import MpdStats"
   ],
   "metadata": {
    "colab": {
     "base_uri": "https://localhost:8080/"
    },
    "id": "cQBgwDktXwLF",
    "outputId": "9ab2fc44-eb24-4b6f-9e84-31e5ffa4953b"
   }
  },
  {
   "cell_type": "markdown",
   "source": [
    "# Defining the speech brain class"
   ],
   "metadata": {
    "collapsed": false,
    "id": "NAk410TWXwLF"
   }
  },
  {
   "cell_type": "code",
   "execution_count": 24,
   "outputs": [],
   "source": [
    "# Define training procedure\n",
    "class ASR(sb.Brain):\n",
    "    def compute_forward(self, batch, stage):\n",
    "        \"\"\"Forward computations from the waveform batches to the output probabilities.\"\"\"\n",
    "        batch = batch.to(self.device)\n",
    "        wavs, wav_lens = batch.sig\n",
    "        wavs, wav_lens = wavs.to(self.device), wav_lens.to(self.device)\n",
    "\n",
    "        # Add augmentation if specified\n",
    "        if stage == sb.Stage.TRAIN:\n",
    "            if hasattr(self.hparams, \"augmentation\"):\n",
    "                wavs = self.hparams.augmentation(wavs, wav_lens)\n",
    "\n",
    "        # Forward pass\n",
    "\n",
    "        # Encode with Whisper and then DNN\n",
    "        feats = self.modules.whisper(wavs)\n",
    "        x = self.modules.enc(feats)\n",
    "\n",
    "        # Compute outputs\n",
    "        logits = self.modules.ctc_lin(x)\n",
    "        p_ctc = self.hparams.log_softmax(logits)\n",
    "\n",
    "        return p_ctc, wav_lens\n",
    "\n",
    "    def compute_objectives(self, predictions, batch, stage):\n",
    "        \"Given the network predictions and targets computed the NLL loss.\"\n",
    "\n",
    "        p_ctc, wav_lens = predictions\n",
    "\n",
    "        ids = batch.id\n",
    "        targets, target_lens = batch.phn_encoded_target\n",
    "        if stage != sb.Stage.TRAIN:\n",
    "            canonicals, canonical_lens = batch.phn_encoded_canonical\n",
    "            perceiveds, perceived_lens = batch.phn_encoded_perceived\n",
    "\n",
    "        loss_ctc = self.hparams.ctc_cost(p_ctc, targets, wav_lens, target_lens)\n",
    "        loss = loss_ctc\n",
    "\n",
    "        # Record losses for posterity\n",
    "        if stage != sb.Stage.TRAIN:\n",
    "            # Note: sb.decoders.ctc_greedy_decode will also remove padded tokens\n",
    "            # that is, it return a list of list with different lengths\n",
    "            sequence = sb.decoders.ctc_greedy_decode(\n",
    "                p_ctc, wav_lens, blank_id=self.hparams.blank_index\n",
    "            )\n",
    "            self.ctc_metrics.append(ids, p_ctc, targets, wav_lens, target_lens)\n",
    "\n",
    "            self.per_metrics.append(\n",
    "                ids=ids,\n",
    "                predict=sequence,\n",
    "                target=targets,\n",
    "                predict_len=None,\n",
    "                target_len=target_lens,\n",
    "                ind2lab=self.label_encoder.decode_ndim,\n",
    "            )\n",
    "            self.mpd_metrics.append(\n",
    "                ids=ids,\n",
    "                predict=sequence,\n",
    "                canonical=canonicals,\n",
    "                perceived=perceiveds,\n",
    "                predict_len=None,\n",
    "                canonical_len=canonical_lens,\n",
    "                perceived_len=perceived_lens,\n",
    "                ind2lab=self.label_encoder.decode_ndim,\n",
    "            )\n",
    "\n",
    "        return loss\n",
    "\n",
    "    def evaluate_batch(self, batch, stage):\n",
    "        \"\"\"Computations needed for validation/test batches\"\"\"\n",
    "        predictions = self.compute_forward(batch, stage=stage)\n",
    "        loss = self.compute_objectives(predictions, batch, stage=stage)\n",
    "        return loss.detach()\n",
    "\n",
    "\n",
    "    def on_stage_start(self, stage, epoch):\n",
    "        \"\"\"Gets called at the beginning of each epoch\"\"\"\n",
    "        torch.cuda.empty_cache()\n",
    "        self.ctc_metrics = self.hparams.ctc_stats()\n",
    "\n",
    "        if stage != sb.Stage.TRAIN:\n",
    "            self.per_metrics = self.hparams.per_stats()\n",
    "            self.mpd_metrics = MpdStats()\n",
    "\n",
    "    def on_stage_end(self, stage, stage_loss, epoch):\n",
    "        \"\"\"Gets called at the end of a epoch.\"\"\"\n",
    "        if stage == sb.Stage.TRAIN:\n",
    "            self.train_loss = stage_loss\n",
    "        else:\n",
    "            per = self.per_metrics.summarize(\"error_rate\")\n",
    "            mpd_f1 = self.mpd_metrics.summarize(\"mpd_f1\")\n",
    "\n",
    "        if stage == sb.Stage.VALID:\n",
    "            # old_lr_model, new_lr_model = self.hparams.lr_annealing_model(\n",
    "            #     stage_loss\n",
    "            # )\n",
    "            # old_lr_whisper, new_lr_whisper = self.hparams.lr_annealing_whisper(\n",
    "            #     stage_loss\n",
    "            # )\n",
    "            # sb.nnet.schedulers.update_learning_rate(\n",
    "            #     self.adam_optimizer, new_lr_model\n",
    "            # )\n",
    "            # sb.nnet.schedulers.update_learning_rate(\n",
    "            #     self.whisper_optimizer, new_lr_whisper\n",
    "            # )\n",
    "\n",
    "            self.hparams.train_logger.log_stats(\n",
    "                stats_meta={\n",
    "                    \"epoch\": epoch,\n",
    "                    \"lr_adam\": self.adam_optimizer.param_groups[0][\"lr\"],\n",
    "                    \"lr_whisper\": self.whisper_optimizer.param_groups[0][\"lr\"],\n",
    "                },\n",
    "                train_stats={\"loss\": self.train_loss},\n",
    "                valid_stats={\n",
    "                    \"loss\": stage_loss,\n",
    "                    \"ctc_loss\": self.ctc_metrics.summarize(\"average\"),\n",
    "                    \"PER\": per,\n",
    "                    \"mpd_f1\": mpd_f1\n",
    "                },\n",
    "            )\n",
    "            self.checkpointer.save_and_keep_only(\n",
    "                meta={\"PER\": per, \"mpd_f1\": mpd_f1}, min_keys=[\"PER\"], max_keys=[\"mpd_f1\"]\n",
    "            )\n",
    "\n",
    "        if stage == sb.Stage.TEST:\n",
    "            self.hparams.train_logger.log_stats(\n",
    "                stats_meta={\"Epoch loaded\": self.hparams.epoch_counter.current},\n",
    "                test_stats={\"loss\": stage_loss, \"PER\": per, \"mpd_f1\": mpd_f1},\n",
    "            )\n",
    "            with open(self.hparams.wer_file, \"w\") as w:\n",
    "                w.write(\"CTC loss stats:\\n\")\n",
    "                self.ctc_metrics.write_stats(w)\n",
    "                w.write(\"\\nPER stats:\\n\")\n",
    "                self.per_metrics.write_stats(w)\n",
    "                print(\n",
    "                    \"CTC and PER stats written to file\",\n",
    "                    self.hparams.wer_file,\n",
    "                )\n",
    "            with open(self.hparams.mpd_file, \"w\") as m:\n",
    "                m.write(\"MPD results and stats:\\n\")\n",
    "                self.mpd_metrics.write_stats(m)\n",
    "                print(\n",
    "                    \"MPD results and stats written to file\",\n",
    "                    self.hparams.mpd_file,\n",
    "                )\n",
    "\n",
    "    def fit_batch(self, batch):\n",
    "        \"\"\"Fit one batch, override to do multiple updates.\n",
    "\n",
    "        The default implementation depends on a few methods being defined\n",
    "        with a particular behavior:\n",
    "\n",
    "        * ``compute_forward()``\n",
    "        * ``compute_objectives()``\n",
    "\n",
    "        Also depends on having optimizers passed at initialization.\n",
    "\n",
    "        Arguments\n",
    "        ---------\n",
    "        batch : list of torch.Tensors\n",
    "            Batch of data to use for training. Default implementation assumes\n",
    "            this batch has two elements: inputs and targets.\n",
    "\n",
    "        Returns\n",
    "        -------\n",
    "        detached loss\n",
    "        \"\"\"\n",
    "        should_step = self.step % self.hparams.gradient_accumulation == 0\n",
    "\n",
    "        # Managing automatic mixed precision\n",
    "        if self.auto_mix_prec:\n",
    "            self.whisper_optimizer.zero_grad()\n",
    "            self.adam_optimizer.zero_grad()\n",
    "            with torch.cuda.amp.autocast():\n",
    "                outputs = self.compute_forward(batch, sb.Stage.TRAIN)\n",
    "            loss = self.compute_objectives(outputs, batch, sb.Stage.TRAIN)\n",
    "            self.scaler.scale(loss / self.hparams.gradient_accumulation).backward()\n",
    "            if should_step:\n",
    "                self.scaler.unscale_(self.whisper_optimizer)\n",
    "                self.scaler.unscale_(self.adam_optimizer)\n",
    "                if self.check_gradients(loss):\n",
    "                    if self.optimizer_step > self.hparams.warmup_steps:\n",
    "                        # Here we added a warmup to the CTC encoder to make sure that\n",
    "                        # it does not screw the whisper with too large gradients.\n",
    "                        self.scaler.step(self.whisper_optimizer)\n",
    "                    self.scaler.step(self.adam_optimizer)\n",
    "                self.scaler.update()\n",
    "                self.optimizer_step += 1\n",
    "        else:\n",
    "            outputs = self.compute_forward(batch, sb.Stage.TRAIN)\n",
    "\n",
    "            loss = self.compute_objectives(outputs, batch, sb.Stage.TRAIN)\n",
    "            # normalize the loss by gradient_accumulation step\n",
    "            (loss / self.hparams.gradient_accumulation).backward()\n",
    "\n",
    "            if self.step % self.hparams.gradient_accumulation == 0:\n",
    "                # gradient clipping & early stop if loss is not fini\n",
    "                if self.check_gradients(loss):\n",
    "                    self.whisper_optimizer.step()\n",
    "                    self.adam_optimizer.step()\n",
    "\n",
    "                self.whisper_optimizer.zero_grad()\n",
    "                self.adam_optimizer.zero_grad()\n",
    "\n",
    "        return loss.detach().cpu()\n",
    "\n",
    "    def init_optimizers(self):\n",
    "        \"Initializes the whisper optimizer and model optimizer\"\n",
    "        self.whisper_optimizer = self.hparams.whisper_opt_class(\n",
    "            self.modules.whisper.parameters()\n",
    "        )\n",
    "\n",
    "        self.adam_optimizer = self.hparams.adam_opt_class(\n",
    "            self.hparams.model.parameters()\n",
    "        )\n",
    "\n",
    "        if self.checkpointer is not None:\n",
    "            self.checkpointer.add_recoverable(\n",
    "                \"whisper_opt\", self.whisper_optimizer\n",
    "            )\n",
    "            self.checkpointer.add_recoverable(\"adam_opt\", self.adam_optimizer)\n",
    "\n",
    "    def on_fit_start(self):\n",
    "        \"\"\"Gets called at the beginning of ``fit()``, on multiple processes\n",
    "        if ``distributed_count > 0`` and backend is ddp.\n",
    "\n",
    "        Default implementation compiles the jit modules, initializes\n",
    "        optimizers, and loads the latest checkpoint to resume training.\n",
    "        \"\"\"\n",
    "        # Run this *after* starting all processes since jit modules cannot be\n",
    "        # pickled.\n",
    "        self._compile_jit()\n",
    "\n",
    "        # Wrap modules with parallel backend after jit\n",
    "        self._wrap_distributed()\n",
    "\n",
    "        # Initialize optimizers after parameters are configured\n",
    "        self.init_optimizers()\n",
    "\n",
    "        # Load latest checkpoint to resume training if interrupted\n",
    "        ## NOTE: make sure to use the \"best\" model to continual training\n",
    "        ## so we set the `min_key` argument\n",
    "        if self.checkpointer is not None:\n",
    "            self.checkpointer.recover_if_possible(\n",
    "                device=torch.device(self.device),\n",
    "                min_key=\"PER\"\n",
    "            )\n",
    "\n"
   ],
   "metadata": {
    "id": "2J5iXzzvXwLG"
   }
  },
  {
   "cell_type": "code",
   "execution_count": 25,
   "outputs": [],
   "source": [
    "def dataio_prep(hparams):\n",
    "    \"\"\"This function prepares the datasets to be used in the brain class.\n",
    "    It also defines the data processing pipeline through user-defined functions.\"\"\"\n",
    "    data_folder = hparams[\"data_folder_save\"]\n",
    "\n",
    "    train_data = sb.dataio.dataset.DynamicItemDataset.from_csv(\n",
    "        csv_path=hparams[\"train_annotation\"],\n",
    "        replacements={\"data_root\": data_folder},\n",
    "    )\n",
    "\n",
    "    if hparams[\"sorting\"] == \"ascending\":\n",
    "        # we sort training data to speed up training and get better results.\n",
    "        train_data = train_data.filtered_sorted(sort_key=\"duration\")\n",
    "        # when sorting do not shuffle in dataloader ! otherwise is pointless\n",
    "        hparams[\"train_dataloader_opts\"][\"shuffle\"] = False\n",
    "\n",
    "    elif hparams[\"sorting\"] == \"descending\":\n",
    "        train_data = train_data.filtered_sorted(\n",
    "            sort_key=\"duration\", reverse=True\n",
    "        )\n",
    "        # when sorting do not shuffle in dataloader ! otherwise is pointless\n",
    "        hparams[\"train_dataloader_opts\"][\"shuffle\"] = False\n",
    "\n",
    "    elif hparams[\"sorting\"] == \"random\":\n",
    "        pass\n",
    "\n",
    "    else:\n",
    "        raise NotImplementedError(\n",
    "            \"sorting must be random, ascending or descending\"\n",
    "        )\n",
    "\n",
    "    valid_data = sb.dataio.dataset.DynamicItemDataset.from_csv(\n",
    "        csv_path=hparams[\"valid_annotation\"],\n",
    "        replacements={\"data_root\": data_folder},\n",
    "    )\n",
    "    valid_data = valid_data.filtered_sorted(sort_key=\"duration\")\n",
    "\n",
    "    # test is separate\n",
    "    test_data = sb.dataio.dataset.DynamicItemDataset.from_csv(\n",
    "        csv_path=hparams[\"test_annotation\"],\n",
    "        replacements={\"data_root\": data_folder},\n",
    "    )\n",
    "    test_data = test_data.filtered_sorted(sort_key=\"duration\")\n",
    "\n",
    "    datasets = [train_data, valid_data, test_data]\n",
    "    label_encoder = sb.dataio.encoder.CTCTextEncoder()\n",
    "\n",
    "    # 2. Define audio pipeline:\n",
    "    @sb.utils.data_pipeline.takes(\"wav\")\n",
    "    @sb.utils.data_pipeline.provides(\"sig\")\n",
    "    def audio_pipeline(wav):\n",
    "        sig = sb.dataio.dataio.read_audio(wav)\n",
    "        return sig\n",
    "\n",
    "    sb.dataio.dataset.add_dynamic_item(datasets, audio_pipeline)\n",
    "\n",
    "    # 3. Define text pipeline:\n",
    "    @sb.utils.data_pipeline.takes(\"perceived_train_target\")\n",
    "    @sb.utils.data_pipeline.provides(\n",
    "        \"phn_list_target\",\n",
    "        \"phn_encoded_list_target\",\n",
    "        \"phn_encoded_target\",\n",
    "    )\n",
    "    def text_pipeline_train(phn):\n",
    "        phn_list = phn.strip().split()\n",
    "        yield phn_list\n",
    "        phn_encoded_list = label_encoder.encode_sequence(phn_list)\n",
    "        yield phn_encoded_list\n",
    "        phn_encoded = torch.LongTensor(phn_encoded_list)\n",
    "        yield phn_encoded\n",
    "\n",
    "    @sb.utils.data_pipeline.takes(\"perceived_train_target\", \"canonical_aligned\", \"perceived_aligned\")\n",
    "    @sb.utils.data_pipeline.provides(\n",
    "        \"phn_list_target\",\n",
    "        \"phn_encoded_list_target\",\n",
    "        \"phn_encoded_target\",\n",
    "        \"phn_list_canonical\",\n",
    "        \"phn_encoded_list_canonical\",\n",
    "        \"phn_encoded_canonical\",\n",
    "        \"phn_list_perceived\",\n",
    "        \"phn_encoded_list_perceived\",\n",
    "        \"phn_encoded_perceived\",\n",
    "    )\n",
    "    def text_pipeline_test(target, canonical, perceived):\n",
    "        phn_list_target = target.strip().split()\n",
    "        yield phn_list_target\n",
    "        phn_encoded_list_target = label_encoder.encode_sequence(phn_list_target)\n",
    "        yield phn_encoded_list_target\n",
    "        phn_encoded_target = torch.LongTensor(phn_encoded_list_target)\n",
    "        yield phn_encoded_target\n",
    "        phn_list_canonical = canonical.strip().split()\n",
    "        yield phn_list_canonical\n",
    "        phn_encoded_list_canonical = label_encoder.encode_sequence(phn_list_canonical)\n",
    "        yield phn_encoded_list_canonical\n",
    "        phn_encoded_canonical = torch.LongTensor(phn_encoded_list_canonical)\n",
    "        yield phn_encoded_canonical\n",
    "        phn_list_perceived = perceived.strip().split()\n",
    "        yield phn_list_perceived\n",
    "        phn_encoded_list_perceived = label_encoder.encode_sequence(phn_list_perceived)\n",
    "        yield phn_encoded_list_perceived\n",
    "        phn_encoded_perceived = torch.LongTensor(phn_encoded_list_perceived)\n",
    "        yield phn_encoded_perceived\n",
    "\n",
    "    sb.dataio.dataset.add_dynamic_item([train_data], text_pipeline_train)\n",
    "    sb.dataio.dataset.add_dynamic_item([valid_data, test_data], text_pipeline_test)\n",
    "\n",
    "    # 3. Fit encoder:\n",
    "    # Load or compute the label encoder\n",
    "    lab_enc_file = os.path.join(hparams[\"save_folder\"], \"label_encoder.txt\")\n",
    "    special_labels = {\n",
    "        \"blank_label\": hparams[\"blank_index\"],\n",
    "    }\n",
    "    label_encoder.load_or_create(\n",
    "        path=lab_enc_file,\n",
    "        from_didatasets=[train_data],\n",
    "        output_key=\"phn_list_target\",\n",
    "        special_labels=special_labels,\n",
    "        sequence_input=True,\n",
    "    )\n",
    "\n",
    "    # 4. Set output:\n",
    "    sb.dataio.dataset.set_output_keys(\n",
    "        [train_data],\n",
    "        [\"id\", \"sig\", \"phn_encoded_target\"],\n",
    "    )\n",
    "    sb.dataio.dataset.set_output_keys(\n",
    "        [valid_data, test_data],\n",
    "        [\"id\", \"sig\", \"phn_encoded_target\", \"phn_encoded_canonical\", \"phn_encoded_perceived\"],\n",
    "    )\n",
    "\n",
    "    return train_data, valid_data, test_data, label_encoder"
   ],
   "metadata": {
    "id": "dYpceldkXwLG"
   }
  },
  {
   "cell_type": "markdown",
   "source": [
    "# Prepare dataloaders"
   ],
   "metadata": {
    "collapsed": false,
    "id": "u5JX9OA3XwLH"
   }
  },
  {
   "cell_type": "code",
   "execution_count": 27,
   "outputs": [
    {
     "output_type": "stream",
     "name": "stdout",
     "text": [
      "speechbrain.core - Beginning experiment!\n",
      "speechbrain.core - Experiment folder: results/whisper_ctc\n",
      "speechbrain.dataio.encoder - Load called, but CTCTextEncoder is not empty. Loaded data will overwrite everything. This is normal if there is e.g. an unk label defined at init.\n"
     ]
    }
   ],
   "source": [
    "hparams_file = '/content/drive/MyDrive/CS5647_Project/whisper/hparams/train.yaml'\n",
    "\n",
    "# Load hyperparameters file with command-line overrides\n",
    "with open(hparams_file) as fin:\n",
    "    hparams = load_hyperpyyaml(fin)\n",
    "\n",
    "# Create experiment directory\n",
    "sb.create_experiment_directory(\n",
    "    experiment_directory=hparams[\"output_folder\"],\n",
    "    hyperparams_to_save=hparams_file,\n",
    ")\n",
    "\n",
    "# Dataset IO prep: creating Dataset objects and proper encodings for phones\n",
    "train_data, valid_data, test_data, label_encoder = dataio_prep(hparams)\n"
   ],
   "metadata": {
    "colab": {
     "base_uri": "https://localhost:8080/"
    },
    "id": "ghbVQb1EXwLH",
    "outputId": "34c45f3c-4f8d-400e-bb8c-fda0950d6402"
   }
  },
  {
   "cell_type": "code",
   "source": [
    "hparams"
   ],
   "metadata": {
    "colab": {
     "base_uri": "https://localhost:8080/"
    },
    "id": "4W03M9_cX6es",
    "outputId": "5d3e2ded-ec95-4a7d-ecca-6df4bec83562"
   },
   "execution_count": 28,
   "outputs": [
    {
     "output_type": "execute_result",
     "data": {
      "text/plain": [
       "{'seed': 3407,\n",
       " 'output_folder': 'results/whisper_ctc',\n",
       " 'wer_file': 'results/whisper_ctc/wer.txt',\n",
       " 'mpd_file': 'results/whisper_ctc/mpd.txt',\n",
       " 'save_folder': 'results/whisper_ctc/save',\n",
       " 'train_log': 'results/whisper_ctc/train_log.txt',\n",
       " 'whisper_hub': 'openai/whisper-base',\n",
       " 'whisper_folder': 'results/whisper_ctc/save/whisper_checkpoint',\n",
       " 'data_folder_save': './data',\n",
       " 'train_annotation': './data/train_data.csv',\n",
       " 'valid_annotation': './data/val_data.csv',\n",
       " 'test_annotation': './data/test_data.csv',\n",
       " 'ckpt_interval_minutes': 20,\n",
       " 'number_of_epochs': 200,\n",
       " 'warmup_steps': 400,\n",
       " 'lr': 0.0004,\n",
       " 'lr_whisper': 0.0004,\n",
       " 'sorting': 'random',\n",
       " 'auto_mix_prec': False,\n",
       " 'sample_rate': 16000,\n",
       " 'gradient_accumulation': 1.5,\n",
       " 'token_type': 'char',\n",
       " 'character_coverage': 1.0,\n",
       " 'batch_size': 4,\n",
       " 'num_workers': 4,\n",
       " 'dnn_neurons': 1024,\n",
       " 'freeze_whisper': False,\n",
       " 'freeze_encoder': False,\n",
       " 'whisper_output_dim': 512,\n",
       " 'output_neurons': 42,\n",
       " 'blank_index': 0,\n",
       " 'train_dataloader_opts': {'batch_size': 4, 'num_workers': 4},\n",
       " 'valid_dataloader_opts': {'batch_size': 4, 'num_workers': 4},\n",
       " 'test_dataloader_opts': {'batch_size': 1, 'num_workers': 1},\n",
       " 'augmentation': TimeDomainSpecAugment(\n",
       "   (speed_perturb): SpeedPerturb()\n",
       "   (drop_freq): DropFreq()\n",
       "   (drop_chunk): DropChunk()\n",
       " ),\n",
       " 'epoch_counter': <speechbrain.utils.epoch_loop.EpochCounter at 0x7e16e1886530>,\n",
       " 'enc': Sequential(\n",
       "   (linear1): Linear(\n",
       "     (w): Linear(in_features=512, out_features=1024, bias=True)\n",
       "   )\n",
       "   (bn1): LayerNorm(\n",
       "     (norm): LayerNorm((1024,), eps=1e-05, elementwise_affine=True)\n",
       "   )\n",
       "   (activation): LeakyReLU(negative_slope=0.01)\n",
       "   (drop): Dropout(p=0.15, inplace=False)\n",
       "   (linear2): Linear(\n",
       "     (w): Linear(in_features=1024, out_features=1024, bias=True)\n",
       "   )\n",
       "   (bn2): LayerNorm(\n",
       "     (norm): LayerNorm((1024,), eps=1e-05, elementwise_affine=True)\n",
       "   )\n",
       "   (activation2): LeakyReLU(negative_slope=0.01)\n",
       "   (drop2): Dropout(p=0.15, inplace=False)\n",
       "   (linear3): Linear(\n",
       "     (w): Linear(in_features=1024, out_features=1024, bias=True)\n",
       "   )\n",
       "   (bn3): LayerNorm(\n",
       "     (norm): LayerNorm((1024,), eps=1e-05, elementwise_affine=True)\n",
       "   )\n",
       "   (activation3): LeakyReLU(negative_slope=0.01)\n",
       " ),\n",
       " 'whisper': HuggingFaceWhisper(\n",
       "   (model): WhisperModel(\n",
       "     (encoder): WhisperEncoder(\n",
       "       (conv1): Conv1d(80, 512, kernel_size=(3,), stride=(1,), padding=(1,))\n",
       "       (conv2): Conv1d(512, 512, kernel_size=(3,), stride=(2,), padding=(1,))\n",
       "       (embed_positions): Embedding(1500, 512)\n",
       "       (layers): ModuleList(\n",
       "         (0-5): 6 x WhisperEncoderLayer(\n",
       "           (self_attn): WhisperAttention(\n",
       "             (k_proj): Linear(in_features=512, out_features=512, bias=False)\n",
       "             (v_proj): Linear(in_features=512, out_features=512, bias=True)\n",
       "             (q_proj): Linear(in_features=512, out_features=512, bias=True)\n",
       "             (out_proj): Linear(in_features=512, out_features=512, bias=True)\n",
       "           )\n",
       "           (self_attn_layer_norm): LayerNorm((512,), eps=1e-05, elementwise_affine=True)\n",
       "           (activation_fn): GELUActivation()\n",
       "           (fc1): Linear(in_features=512, out_features=2048, bias=True)\n",
       "           (fc2): Linear(in_features=2048, out_features=512, bias=True)\n",
       "           (final_layer_norm): LayerNorm((512,), eps=1e-05, elementwise_affine=True)\n",
       "         )\n",
       "       )\n",
       "       (layer_norm): LayerNorm((512,), eps=1e-05, elementwise_affine=True)\n",
       "     )\n",
       "     (decoder): WhisperDecoder(\n",
       "       (embed_tokens): Embedding(51865, 512, padding_idx=50257)\n",
       "       (embed_positions): WhisperPositionalEmbedding(448, 512)\n",
       "       (layers): ModuleList(\n",
       "         (0-5): 6 x WhisperDecoderLayer(\n",
       "           (self_attn): WhisperAttention(\n",
       "             (k_proj): Linear(in_features=512, out_features=512, bias=False)\n",
       "             (v_proj): Linear(in_features=512, out_features=512, bias=True)\n",
       "             (q_proj): Linear(in_features=512, out_features=512, bias=True)\n",
       "             (out_proj): Linear(in_features=512, out_features=512, bias=True)\n",
       "           )\n",
       "           (activation_fn): GELUActivation()\n",
       "           (self_attn_layer_norm): LayerNorm((512,), eps=1e-05, elementwise_affine=True)\n",
       "           (encoder_attn): WhisperAttention(\n",
       "             (k_proj): Linear(in_features=512, out_features=512, bias=False)\n",
       "             (v_proj): Linear(in_features=512, out_features=512, bias=True)\n",
       "             (q_proj): Linear(in_features=512, out_features=512, bias=True)\n",
       "             (out_proj): Linear(in_features=512, out_features=512, bias=True)\n",
       "           )\n",
       "           (encoder_attn_layer_norm): LayerNorm((512,), eps=1e-05, elementwise_affine=True)\n",
       "           (fc1): Linear(in_features=512, out_features=2048, bias=True)\n",
       "           (fc2): Linear(in_features=2048, out_features=512, bias=True)\n",
       "           (final_layer_norm): LayerNorm((512,), eps=1e-05, elementwise_affine=True)\n",
       "         )\n",
       "       )\n",
       "       (layer_norm): LayerNorm((512,), eps=1e-05, elementwise_affine=True)\n",
       "     )\n",
       "   )\n",
       " ),\n",
       " 'ctc_lin': Linear(\n",
       "   (w): Linear(in_features=1024, out_features=42, bias=True)\n",
       " ),\n",
       " 'log_softmax': Softmax(\n",
       "   (act): LogSoftmax(dim=-1)\n",
       " ),\n",
       " 'ctc_cost': functools.partial(<function ctc_loss at 0x7e15495a92d0>, blank_index=0),\n",
       " 'model': ModuleList(\n",
       "   (0): Sequential(\n",
       "     (linear1): Linear(\n",
       "       (w): Linear(in_features=512, out_features=1024, bias=True)\n",
       "     )\n",
       "     (bn1): LayerNorm(\n",
       "       (norm): LayerNorm((1024,), eps=1e-05, elementwise_affine=True)\n",
       "     )\n",
       "     (activation): LeakyReLU(negative_slope=0.01)\n",
       "     (drop): Dropout(p=0.15, inplace=False)\n",
       "     (linear2): Linear(\n",
       "       (w): Linear(in_features=1024, out_features=1024, bias=True)\n",
       "     )\n",
       "     (bn2): LayerNorm(\n",
       "       (norm): LayerNorm((1024,), eps=1e-05, elementwise_affine=True)\n",
       "     )\n",
       "     (activation2): LeakyReLU(negative_slope=0.01)\n",
       "     (drop2): Dropout(p=0.15, inplace=False)\n",
       "     (linear3): Linear(\n",
       "       (w): Linear(in_features=1024, out_features=1024, bias=True)\n",
       "     )\n",
       "     (bn3): LayerNorm(\n",
       "       (norm): LayerNorm((1024,), eps=1e-05, elementwise_affine=True)\n",
       "     )\n",
       "     (activation3): LeakyReLU(negative_slope=0.01)\n",
       "   )\n",
       "   (1): Linear(\n",
       "     (w): Linear(in_features=1024, out_features=42, bias=True)\n",
       "   )\n",
       " ),\n",
       " 'adam_opt_class': functools.partial(<class 'torch.optim.adamw.AdamW'>, lr=0.0004),\n",
       " 'whisper_opt_class': functools.partial(<class 'torch.optim.adamw.AdamW'>, lr=0.0004),\n",
       " 'modules': {'whisper': HuggingFaceWhisper(\n",
       "    (model): WhisperModel(\n",
       "      (encoder): WhisperEncoder(\n",
       "        (conv1): Conv1d(80, 512, kernel_size=(3,), stride=(1,), padding=(1,))\n",
       "        (conv2): Conv1d(512, 512, kernel_size=(3,), stride=(2,), padding=(1,))\n",
       "        (embed_positions): Embedding(1500, 512)\n",
       "        (layers): ModuleList(\n",
       "          (0-5): 6 x WhisperEncoderLayer(\n",
       "            (self_attn): WhisperAttention(\n",
       "              (k_proj): Linear(in_features=512, out_features=512, bias=False)\n",
       "              (v_proj): Linear(in_features=512, out_features=512, bias=True)\n",
       "              (q_proj): Linear(in_features=512, out_features=512, bias=True)\n",
       "              (out_proj): Linear(in_features=512, out_features=512, bias=True)\n",
       "            )\n",
       "            (self_attn_layer_norm): LayerNorm((512,), eps=1e-05, elementwise_affine=True)\n",
       "            (activation_fn): GELUActivation()\n",
       "            (fc1): Linear(in_features=512, out_features=2048, bias=True)\n",
       "            (fc2): Linear(in_features=2048, out_features=512, bias=True)\n",
       "            (final_layer_norm): LayerNorm((512,), eps=1e-05, elementwise_affine=True)\n",
       "          )\n",
       "        )\n",
       "        (layer_norm): LayerNorm((512,), eps=1e-05, elementwise_affine=True)\n",
       "      )\n",
       "      (decoder): WhisperDecoder(\n",
       "        (embed_tokens): Embedding(51865, 512, padding_idx=50257)\n",
       "        (embed_positions): WhisperPositionalEmbedding(448, 512)\n",
       "        (layers): ModuleList(\n",
       "          (0-5): 6 x WhisperDecoderLayer(\n",
       "            (self_attn): WhisperAttention(\n",
       "              (k_proj): Linear(in_features=512, out_features=512, bias=False)\n",
       "              (v_proj): Linear(in_features=512, out_features=512, bias=True)\n",
       "              (q_proj): Linear(in_features=512, out_features=512, bias=True)\n",
       "              (out_proj): Linear(in_features=512, out_features=512, bias=True)\n",
       "            )\n",
       "            (activation_fn): GELUActivation()\n",
       "            (self_attn_layer_norm): LayerNorm((512,), eps=1e-05, elementwise_affine=True)\n",
       "            (encoder_attn): WhisperAttention(\n",
       "              (k_proj): Linear(in_features=512, out_features=512, bias=False)\n",
       "              (v_proj): Linear(in_features=512, out_features=512, bias=True)\n",
       "              (q_proj): Linear(in_features=512, out_features=512, bias=True)\n",
       "              (out_proj): Linear(in_features=512, out_features=512, bias=True)\n",
       "            )\n",
       "            (encoder_attn_layer_norm): LayerNorm((512,), eps=1e-05, elementwise_affine=True)\n",
       "            (fc1): Linear(in_features=512, out_features=2048, bias=True)\n",
       "            (fc2): Linear(in_features=2048, out_features=512, bias=True)\n",
       "            (final_layer_norm): LayerNorm((512,), eps=1e-05, elementwise_affine=True)\n",
       "          )\n",
       "        )\n",
       "        (layer_norm): LayerNorm((512,), eps=1e-05, elementwise_affine=True)\n",
       "      )\n",
       "    )\n",
       "  ),\n",
       "  'enc': Sequential(\n",
       "    (linear1): Linear(\n",
       "      (w): Linear(in_features=512, out_features=1024, bias=True)\n",
       "    )\n",
       "    (bn1): LayerNorm(\n",
       "      (norm): LayerNorm((1024,), eps=1e-05, elementwise_affine=True)\n",
       "    )\n",
       "    (activation): LeakyReLU(negative_slope=0.01)\n",
       "    (drop): Dropout(p=0.15, inplace=False)\n",
       "    (linear2): Linear(\n",
       "      (w): Linear(in_features=1024, out_features=1024, bias=True)\n",
       "    )\n",
       "    (bn2): LayerNorm(\n",
       "      (norm): LayerNorm((1024,), eps=1e-05, elementwise_affine=True)\n",
       "    )\n",
       "    (activation2): LeakyReLU(negative_slope=0.01)\n",
       "    (drop2): Dropout(p=0.15, inplace=False)\n",
       "    (linear3): Linear(\n",
       "      (w): Linear(in_features=1024, out_features=1024, bias=True)\n",
       "    )\n",
       "    (bn3): LayerNorm(\n",
       "      (norm): LayerNorm((1024,), eps=1e-05, elementwise_affine=True)\n",
       "    )\n",
       "    (activation3): LeakyReLU(negative_slope=0.01)\n",
       "  ),\n",
       "  'ctc_lin': Linear(\n",
       "    (w): Linear(in_features=1024, out_features=42, bias=True)\n",
       "  )},\n",
       " 'checkpointer': <speechbrain.utils.checkpoints.Checkpointer at 0x7e16e1886860>,\n",
       " 'train_logger': <speechbrain.utils.train_logger.FileTrainLogger at 0x7e16e1886350>,\n",
       " 'ctc_stats': functools.partial(<class 'speechbrain.utils.metric_stats.MetricStats'>, metric=functools.partial(<function ctc_loss at 0x7e15495a92d0>, blank_index=0, reduction='batch')),\n",
       " 'per_stats': speechbrain.utils.metric_stats.ErrorRateStats}"
      ]
     },
     "metadata": {},
     "execution_count": 28
    }
   ]
  },
  {
   "cell_type": "markdown",
   "source": [
    "# Instantiating the ASR SB trainer"
   ],
   "metadata": {
    "collapsed": false,
    "id": "QmyEKpIHXwLH"
   }
  },
  {
   "cell_type": "code",
   "execution_count": 29,
   "outputs": [
    {
     "output_type": "stream",
     "name": "stdout",
     "text": [
      "speechbrain.core - Info: auto_mix_prec arg from hparam file is used\n",
      "speechbrain.core - Info: ckpt_interval_minutes arg from hparam file is used\n",
      "speechbrain.core - 74.5M trainable parameters in ASR\n"
     ]
    }
   ],
   "source": [
    "# Trainer initialization\n",
    "asr_brain = ASR(\n",
    "    modules=hparams[\"modules\"],\n",
    "    hparams=hparams,\n",
    "    checkpointer=hparams[\"checkpointer\"],\n",
    "    run_opts={\"device\":\"cuda\"}\n",
    ")\n",
    "\n",
    "asr_brain.label_encoder = label_encoder"
   ],
   "metadata": {
    "colab": {
     "base_uri": "https://localhost:8080/"
    },
    "id": "QQUSg11iXwLH",
    "outputId": "7e0d0d8a-bd90-40b8-8727-a110fcfb7bd6"
   }
  },
  {
   "cell_type": "markdown",
   "source": [
    "# Training the ASR"
   ],
   "metadata": {
    "collapsed": false,
    "id": "CqMH7ffEXwLH"
   }
  },
  {
   "cell_type": "code",
   "execution_count": 30,
   "outputs": [
    {
     "output_type": "stream",
     "name": "stdout",
     "text": [
      "speechbrain.utils.checkpoints - Would load a checkpoint here, but none found yet.\n",
      "speechbrain.utils.epoch_loop - Going into epoch 1\n"
     ]
    },
    {
     "output_type": "stream",
     "name": "stderr",
     "text": [
      "100%|██████████| 150/150 [00:19<00:00,  7.63it/s, train_loss=17.8]\n",
      "100%|██████████| 75/75 [00:03<00:00, 19.97it/s]\n"
     ]
    },
    {
     "output_type": "stream",
     "name": "stdout",
     "text": [
      "speechbrain.utils.train_logger - epoch: 1, lr_adam: 4.00e-04, lr_whisper: 4.00e-04 - train loss: 17.83 - valid loss: 3.56, valid ctc_loss: 3.56, valid PER: 1.00e+02, valid mpd_f1: 2.00e-01\n",
      "speechbrain.utils.checkpoints - Saved an end-of-epoch checkpoint in results/whisper_ctc/save/CKPT+2023-11-21+11-07-03+00\n",
      "speechbrain.utils.epoch_loop - Going into epoch 2\n"
     ]
    },
    {
     "output_type": "stream",
     "name": "stderr",
     "text": [
      "100%|██████████| 150/150 [00:19<00:00,  7.63it/s, train_loss=3.51]\n",
      "100%|██████████| 75/75 [00:03<00:00, 19.85it/s]\n"
     ]
    },
    {
     "output_type": "stream",
     "name": "stdout",
     "text": [
      "speechbrain.utils.train_logger - epoch: 2, lr_adam: 4.00e-04, lr_whisper: 4.00e-04 - train loss: 3.51 - valid loss: 3.61, valid ctc_loss: 3.61, valid PER: 1.00e+02, valid mpd_f1: 2.00e-01\n",
      "speechbrain.utils.checkpoints - Saved an end-of-epoch checkpoint in results/whisper_ctc/save/CKPT+2023-11-21+11-07-28+00\n",
      "speechbrain.utils.checkpoints - Deleted checkpoint in results/whisper_ctc/save/CKPT+2023-11-21+11-07-03+00\n",
      "speechbrain.utils.epoch_loop - Going into epoch 3\n"
     ]
    },
    {
     "output_type": "stream",
     "name": "stderr",
     "text": [
      "100%|██████████| 150/150 [00:19<00:00,  7.59it/s, train_loss=3.5]\n",
      "100%|██████████| 75/75 [00:03<00:00, 19.78it/s]\n"
     ]
    },
    {
     "output_type": "stream",
     "name": "stdout",
     "text": [
      "speechbrain.utils.train_logger - epoch: 3, lr_adam: 4.00e-04, lr_whisper: 4.00e-04 - train loss: 3.50 - valid loss: 3.59, valid ctc_loss: 3.59, valid PER: 1.00e+02, valid mpd_f1: 2.00e-01\n",
      "speechbrain.utils.checkpoints - Saved an end-of-epoch checkpoint in results/whisper_ctc/save/CKPT+2023-11-21+11-07-54+00\n",
      "speechbrain.utils.checkpoints - Deleted checkpoint in results/whisper_ctc/save/CKPT+2023-11-21+11-07-28+00\n",
      "speechbrain.utils.epoch_loop - Going into epoch 4\n"
     ]
    },
    {
     "output_type": "stream",
     "name": "stderr",
     "text": [
      "100%|██████████| 150/150 [00:19<00:00,  7.61it/s, train_loss=3.5]\n",
      "100%|██████████| 75/75 [00:03<00:00, 20.01it/s]\n"
     ]
    },
    {
     "output_type": "stream",
     "name": "stdout",
     "text": [
      "speechbrain.utils.train_logger - epoch: 4, lr_adam: 4.00e-04, lr_whisper: 4.00e-04 - train loss: 3.50 - valid loss: 3.57, valid ctc_loss: 3.57, valid PER: 1.00e+02, valid mpd_f1: 2.00e-01\n",
      "speechbrain.utils.checkpoints - Saved an end-of-epoch checkpoint in results/whisper_ctc/save/CKPT+2023-11-21+11-08-19+00\n",
      "speechbrain.utils.checkpoints - Deleted checkpoint in results/whisper_ctc/save/CKPT+2023-11-21+11-07-54+00\n",
      "speechbrain.utils.epoch_loop - Going into epoch 5\n"
     ]
    },
    {
     "output_type": "stream",
     "name": "stderr",
     "text": [
      "100%|██████████| 150/150 [00:19<00:00,  7.68it/s, train_loss=3.47]\n",
      "100%|██████████| 75/75 [00:03<00:00, 20.01it/s]\n"
     ]
    },
    {
     "output_type": "stream",
     "name": "stdout",
     "text": [
      "speechbrain.utils.train_logger - epoch: 5, lr_adam: 4.00e-04, lr_whisper: 4.00e-04 - train loss: 3.47 - valid loss: 3.47, valid ctc_loss: 3.47, valid PER: 1.00e+02, valid mpd_f1: 2.00e-01\n",
      "speechbrain.utils.checkpoints - Saved an end-of-epoch checkpoint in results/whisper_ctc/save/CKPT+2023-11-21+11-08-45+00\n",
      "speechbrain.utils.checkpoints - Deleted checkpoint in results/whisper_ctc/save/CKPT+2023-11-21+11-08-19+00\n",
      "speechbrain.utils.epoch_loop - Going into epoch 6\n"
     ]
    },
    {
     "output_type": "stream",
     "name": "stderr",
     "text": [
      "100%|██████████| 150/150 [00:19<00:00,  7.63it/s, train_loss=3.41]\n",
      "100%|██████████| 75/75 [00:03<00:00, 20.05it/s]\n"
     ]
    },
    {
     "output_type": "stream",
     "name": "stdout",
     "text": [
      "speechbrain.utils.train_logger - epoch: 6, lr_adam: 4.00e-04, lr_whisper: 4.00e-04 - train loss: 3.41 - valid loss: 3.41, valid ctc_loss: 3.41, valid PER: 1.00e+02, valid mpd_f1: 2.00e-01\n",
      "speechbrain.utils.checkpoints - Saved an end-of-epoch checkpoint in results/whisper_ctc/save/CKPT+2023-11-21+11-09-10+00\n",
      "speechbrain.utils.checkpoints - Deleted checkpoint in results/whisper_ctc/save/CKPT+2023-11-21+11-08-45+00\n",
      "speechbrain.utils.epoch_loop - Going into epoch 7\n"
     ]
    },
    {
     "output_type": "stream",
     "name": "stderr",
     "text": [
      "100%|██████████| 150/150 [00:19<00:00,  7.67it/s, train_loss=3.39]\n",
      "100%|██████████| 75/75 [00:03<00:00, 20.04it/s]\n"
     ]
    },
    {
     "output_type": "stream",
     "name": "stdout",
     "text": [
      "speechbrain.utils.train_logger - epoch: 7, lr_adam: 4.00e-04, lr_whisper: 4.00e-04 - train loss: 3.39 - valid loss: 3.43, valid ctc_loss: 3.43, valid PER: 1.00e+02, valid mpd_f1: 2.00e-01\n",
      "speechbrain.utils.checkpoints - Saved an end-of-epoch checkpoint in results/whisper_ctc/save/CKPT+2023-11-21+11-09-36+00\n",
      "speechbrain.utils.checkpoints - Deleted checkpoint in results/whisper_ctc/save/CKPT+2023-11-21+11-09-10+00\n",
      "speechbrain.utils.epoch_loop - Going into epoch 8\n"
     ]
    },
    {
     "output_type": "stream",
     "name": "stderr",
     "text": [
      "100%|██████████| 150/150 [00:19<00:00,  7.69it/s, train_loss=3.41]\n",
      "100%|██████████| 75/75 [00:03<00:00, 19.86it/s]"
     ]
    },
    {
     "output_type": "stream",
     "name": "stdout",
     "text": [
      "speechbrain.utils.train_logger - epoch: 8, lr_adam: 4.00e-04, lr_whisper: 4.00e-04 - train loss: 3.41 - valid loss: 3.47, valid ctc_loss: 3.47, valid PER: 1.00e+02, valid mpd_f1: 2.00e-01\n"
     ]
    },
    {
     "output_type": "stream",
     "name": "stderr",
     "text": [
      "\n"
     ]
    },
    {
     "output_type": "stream",
     "name": "stdout",
     "text": [
      "speechbrain.utils.checkpoints - Saved an end-of-epoch checkpoint in results/whisper_ctc/save/CKPT+2023-11-21+11-10-01+00\n",
      "speechbrain.utils.checkpoints - Deleted checkpoint in results/whisper_ctc/save/CKPT+2023-11-21+11-09-36+00\n",
      "speechbrain.utils.epoch_loop - Going into epoch 9\n"
     ]
    },
    {
     "output_type": "stream",
     "name": "stderr",
     "text": [
      "100%|██████████| 150/150 [00:19<00:00,  7.64it/s, train_loss=3.39]\n",
      "100%|██████████| 75/75 [00:03<00:00, 18.81it/s]\n"
     ]
    },
    {
     "output_type": "stream",
     "name": "stdout",
     "text": [
      "speechbrain.utils.train_logger - epoch: 9, lr_adam: 4.00e-04, lr_whisper: 4.00e-04 - train loss: 3.39 - valid loss: 3.42, valid ctc_loss: 3.42, valid PER: 1.00e+02, valid mpd_f1: 2.00e-01\n",
      "speechbrain.utils.checkpoints - Saved an end-of-epoch checkpoint in results/whisper_ctc/save/CKPT+2023-11-21+11-10-27+00\n",
      "speechbrain.utils.checkpoints - Deleted checkpoint in results/whisper_ctc/save/CKPT+2023-11-21+11-10-01+00\n",
      "speechbrain.utils.epoch_loop - Going into epoch 10\n"
     ]
    },
    {
     "output_type": "stream",
     "name": "stderr",
     "text": [
      "100%|██████████| 150/150 [00:19<00:00,  7.67it/s, train_loss=3.38]\n",
      "100%|██████████| 75/75 [00:03<00:00, 19.98it/s]\n"
     ]
    },
    {
     "output_type": "stream",
     "name": "stdout",
     "text": [
      "speechbrain.utils.train_logger - epoch: 10, lr_adam: 4.00e-04, lr_whisper: 4.00e-04 - train loss: 3.38 - valid loss: 3.41, valid ctc_loss: 3.41, valid PER: 1.00e+02, valid mpd_f1: 2.00e-01\n",
      "speechbrain.utils.checkpoints - Saved an end-of-epoch checkpoint in results/whisper_ctc/save/CKPT+2023-11-21+11-10-52+00\n",
      "speechbrain.utils.checkpoints - Deleted checkpoint in results/whisper_ctc/save/CKPT+2023-11-21+11-10-27+00\n",
      "speechbrain.utils.epoch_loop - Going into epoch 11\n"
     ]
    },
    {
     "output_type": "stream",
     "name": "stderr",
     "text": [
      "100%|██████████| 150/150 [00:19<00:00,  7.62it/s, train_loss=3.36]\n",
      "100%|██████████| 75/75 [00:03<00:00, 20.06it/s]\n"
     ]
    },
    {
     "output_type": "stream",
     "name": "stdout",
     "text": [
      "speechbrain.utils.train_logger - epoch: 11, lr_adam: 4.00e-04, lr_whisper: 4.00e-04 - train loss: 3.36 - valid loss: 3.37, valid ctc_loss: 3.37, valid PER: 1.00e+02, valid mpd_f1: 2.00e-01\n",
      "speechbrain.utils.checkpoints - Saved an end-of-epoch checkpoint in results/whisper_ctc/save/CKPT+2023-11-21+11-11-18+00\n",
      "speechbrain.utils.checkpoints - Deleted checkpoint in results/whisper_ctc/save/CKPT+2023-11-21+11-10-52+00\n",
      "speechbrain.utils.epoch_loop - Going into epoch 12\n"
     ]
    },
    {
     "output_type": "stream",
     "name": "stderr",
     "text": [
      "100%|██████████| 150/150 [00:19<00:00,  7.69it/s, train_loss=3.34]\n",
      "100%|██████████| 75/75 [00:03<00:00, 20.04it/s]\n"
     ]
    },
    {
     "output_type": "stream",
     "name": "stdout",
     "text": [
      "speechbrain.utils.train_logger - epoch: 12, lr_adam: 4.00e-04, lr_whisper: 4.00e-04 - train loss: 3.34 - valid loss: 3.34, valid ctc_loss: 3.34, valid PER: 1.00e+02, valid mpd_f1: 2.00e-01\n",
      "speechbrain.utils.checkpoints - Saved an end-of-epoch checkpoint in results/whisper_ctc/save/CKPT+2023-11-21+11-11-43+00\n",
      "speechbrain.utils.checkpoints - Deleted checkpoint in results/whisper_ctc/save/CKPT+2023-11-21+11-11-18+00\n",
      "speechbrain.utils.epoch_loop - Going into epoch 13\n"
     ]
    },
    {
     "output_type": "stream",
     "name": "stderr",
     "text": [
      "100%|██████████| 150/150 [00:19<00:00,  7.63it/s, train_loss=3.34]\n",
      "100%|██████████| 75/75 [00:03<00:00, 20.08it/s]\n"
     ]
    },
    {
     "output_type": "stream",
     "name": "stdout",
     "text": [
      "speechbrain.utils.train_logger - epoch: 13, lr_adam: 4.00e-04, lr_whisper: 4.00e-04 - train loss: 3.34 - valid loss: 3.35, valid ctc_loss: 3.35, valid PER: 1.00e+02, valid mpd_f1: 2.00e-01\n",
      "speechbrain.utils.checkpoints - Saved an end-of-epoch checkpoint in results/whisper_ctc/save/CKPT+2023-11-21+11-12-09+00\n",
      "speechbrain.utils.checkpoints - Deleted checkpoint in results/whisper_ctc/save/CKPT+2023-11-21+11-11-43+00\n",
      "speechbrain.utils.epoch_loop - Going into epoch 14\n"
     ]
    },
    {
     "output_type": "stream",
     "name": "stderr",
     "text": [
      "100%|██████████| 150/150 [00:19<00:00,  7.64it/s, train_loss=3.3]\n",
      "100%|██████████| 75/75 [00:03<00:00, 19.93it/s]\n"
     ]
    },
    {
     "output_type": "stream",
     "name": "stdout",
     "text": [
      "speechbrain.utils.train_logger - epoch: 14, lr_adam: 4.00e-04, lr_whisper: 4.00e-04 - train loss: 3.30 - valid loss: 3.35, valid ctc_loss: 3.35, valid PER: 1.00e+02, valid mpd_f1: 2.00e-01\n",
      "speechbrain.utils.checkpoints - Saved an end-of-epoch checkpoint in results/whisper_ctc/save/CKPT+2023-11-21+11-12-35+00\n",
      "speechbrain.utils.checkpoints - Deleted checkpoint in results/whisper_ctc/save/CKPT+2023-11-21+11-12-09+00\n",
      "speechbrain.utils.epoch_loop - Going into epoch 15\n"
     ]
    },
    {
     "output_type": "stream",
     "name": "stderr",
     "text": [
      "100%|██████████| 150/150 [00:19<00:00,  7.65it/s, train_loss=3.32]\n",
      "100%|██████████| 75/75 [00:03<00:00, 20.13it/s]\n"
     ]
    },
    {
     "output_type": "stream",
     "name": "stdout",
     "text": [
      "speechbrain.utils.train_logger - epoch: 15, lr_adam: 4.00e-04, lr_whisper: 4.00e-04 - train loss: 3.32 - valid loss: 3.30, valid ctc_loss: 3.30, valid PER: 1.00e+02, valid mpd_f1: 2.00e-01\n",
      "speechbrain.utils.checkpoints - Saved an end-of-epoch checkpoint in results/whisper_ctc/save/CKPT+2023-11-21+11-13-00+00\n",
      "speechbrain.utils.checkpoints - Deleted checkpoint in results/whisper_ctc/save/CKPT+2023-11-21+11-12-35+00\n",
      "speechbrain.utils.epoch_loop - Going into epoch 16\n"
     ]
    },
    {
     "output_type": "stream",
     "name": "stderr",
     "text": [
      "100%|██████████| 150/150 [00:19<00:00,  7.72it/s, train_loss=3.28]\n",
      "100%|██████████| 75/75 [00:03<00:00, 20.16it/s]\n"
     ]
    },
    {
     "output_type": "stream",
     "name": "stdout",
     "text": [
      "speechbrain.utils.train_logger - epoch: 16, lr_adam: 4.00e-04, lr_whisper: 4.00e-04 - train loss: 3.28 - valid loss: 3.30, valid ctc_loss: 3.30, valid PER: 1.00e+02, valid mpd_f1: 2.00e-01\n",
      "speechbrain.utils.checkpoints - Saved an end-of-epoch checkpoint in results/whisper_ctc/save/CKPT+2023-11-21+11-13-25+00\n",
      "speechbrain.utils.checkpoints - Deleted checkpoint in results/whisper_ctc/save/CKPT+2023-11-21+11-13-00+00\n",
      "speechbrain.utils.epoch_loop - Going into epoch 17\n"
     ]
    },
    {
     "output_type": "stream",
     "name": "stderr",
     "text": [
      "100%|██████████| 150/150 [00:19<00:00,  7.67it/s, train_loss=3.18]\n",
      "100%|██████████| 75/75 [00:03<00:00, 20.06it/s]\n"
     ]
    },
    {
     "output_type": "stream",
     "name": "stdout",
     "text": [
      "speechbrain.utils.train_logger - epoch: 17, lr_adam: 4.00e-04, lr_whisper: 4.00e-04 - train loss: 3.18 - valid loss: 3.19, valid ctc_loss: 3.19, valid PER: 1.00e+02, valid mpd_f1: 2.00e-01\n",
      "speechbrain.utils.checkpoints - Saved an end-of-epoch checkpoint in results/whisper_ctc/save/CKPT+2023-11-21+11-13-51+00\n",
      "speechbrain.utils.checkpoints - Deleted checkpoint in results/whisper_ctc/save/CKPT+2023-11-21+11-13-25+00\n",
      "speechbrain.utils.epoch_loop - Going into epoch 18\n"
     ]
    },
    {
     "output_type": "stream",
     "name": "stderr",
     "text": [
      "100%|██████████| 150/150 [00:19<00:00,  7.62it/s, train_loss=3.15]\n",
      "100%|██████████| 75/75 [00:03<00:00, 19.94it/s]\n"
     ]
    },
    {
     "output_type": "stream",
     "name": "stdout",
     "text": [
      "speechbrain.utils.train_logger - epoch: 18, lr_adam: 4.00e-04, lr_whisper: 4.00e-04 - train loss: 3.15 - valid loss: 3.20, valid ctc_loss: 3.20, valid PER: 1.00e+02, valid mpd_f1: 2.00e-01\n",
      "speechbrain.utils.checkpoints - Saved an end-of-epoch checkpoint in results/whisper_ctc/save/CKPT+2023-11-21+11-14-17+00\n",
      "speechbrain.utils.checkpoints - Deleted checkpoint in results/whisper_ctc/save/CKPT+2023-11-21+11-13-51+00\n",
      "speechbrain.utils.epoch_loop - Going into epoch 19\n"
     ]
    },
    {
     "output_type": "stream",
     "name": "stderr",
     "text": [
      "100%|██████████| 150/150 [00:19<00:00,  7.65it/s, train_loss=3.15]\n",
      "100%|██████████| 75/75 [00:03<00:00, 19.86it/s]\n"
     ]
    },
    {
     "output_type": "stream",
     "name": "stdout",
     "text": [
      "speechbrain.utils.train_logger - epoch: 19, lr_adam: 4.00e-04, lr_whisper: 4.00e-04 - train loss: 3.15 - valid loss: 3.16, valid ctc_loss: 3.16, valid PER: 1.00e+02, valid mpd_f1: 2.00e-01\n",
      "speechbrain.utils.checkpoints - Saved an end-of-epoch checkpoint in results/whisper_ctc/save/CKPT+2023-11-21+11-14-42+00\n",
      "speechbrain.utils.checkpoints - Deleted checkpoint in results/whisper_ctc/save/CKPT+2023-11-21+11-14-17+00\n",
      "speechbrain.utils.epoch_loop - Going into epoch 20\n"
     ]
    },
    {
     "output_type": "stream",
     "name": "stderr",
     "text": [
      "100%|██████████| 150/150 [00:19<00:00,  7.67it/s, train_loss=3.13]\n",
      "100%|██████████| 75/75 [00:03<00:00, 20.06it/s]\n"
     ]
    },
    {
     "output_type": "stream",
     "name": "stdout",
     "text": [
      "speechbrain.utils.train_logger - epoch: 20, lr_adam: 4.00e-04, lr_whisper: 4.00e-04 - train loss: 3.13 - valid loss: 3.18, valid ctc_loss: 3.18, valid PER: 1.00e+02, valid mpd_f1: 2.00e-01\n",
      "speechbrain.utils.checkpoints - Saved an end-of-epoch checkpoint in results/whisper_ctc/save/CKPT+2023-11-21+11-15-08+00\n",
      "speechbrain.utils.checkpoints - Deleted checkpoint in results/whisper_ctc/save/CKPT+2023-11-21+11-14-42+00\n",
      "speechbrain.utils.epoch_loop - Going into epoch 21\n"
     ]
    },
    {
     "output_type": "stream",
     "name": "stderr",
     "text": [
      "100%|██████████| 150/150 [00:19<00:00,  7.66it/s, train_loss=3.12]\n",
      "100%|██████████| 75/75 [00:03<00:00, 20.07it/s]\n"
     ]
    },
    {
     "output_type": "stream",
     "name": "stdout",
     "text": [
      "speechbrain.utils.train_logger - epoch: 21, lr_adam: 4.00e-04, lr_whisper: 4.00e-04 - train loss: 3.12 - valid loss: 3.19, valid ctc_loss: 3.19, valid PER: 1.00e+02, valid mpd_f1: 2.00e-01\n",
      "speechbrain.utils.checkpoints - Saved an end-of-epoch checkpoint in results/whisper_ctc/save/CKPT+2023-11-21+11-15-33+00\n",
      "speechbrain.utils.checkpoints - Deleted checkpoint in results/whisper_ctc/save/CKPT+2023-11-21+11-15-08+00\n",
      "speechbrain.utils.epoch_loop - Going into epoch 22\n"
     ]
    },
    {
     "output_type": "stream",
     "name": "stderr",
     "text": [
      "100%|██████████| 150/150 [00:19<00:00,  7.66it/s, train_loss=3.09]\n",
      "100%|██████████| 75/75 [00:03<00:00, 19.99it/s]\n"
     ]
    },
    {
     "output_type": "stream",
     "name": "stdout",
     "text": [
      "speechbrain.utils.train_logger - epoch: 22, lr_adam: 4.00e-04, lr_whisper: 4.00e-04 - train loss: 3.09 - valid loss: 3.14, valid ctc_loss: 3.14, valid PER: 1.00e+02, valid mpd_f1: 2.00e-01\n",
      "speechbrain.utils.checkpoints - Saved an end-of-epoch checkpoint in results/whisper_ctc/save/CKPT+2023-11-21+11-15-59+00\n",
      "speechbrain.utils.checkpoints - Deleted checkpoint in results/whisper_ctc/save/CKPT+2023-11-21+11-15-33+00\n",
      "speechbrain.utils.epoch_loop - Going into epoch 23\n"
     ]
    },
    {
     "output_type": "stream",
     "name": "stderr",
     "text": [
      "100%|██████████| 150/150 [00:19<00:00,  7.64it/s, train_loss=3.06]\n",
      "100%|██████████| 75/75 [00:03<00:00, 20.07it/s]\n"
     ]
    },
    {
     "output_type": "stream",
     "name": "stdout",
     "text": [
      "speechbrain.utils.train_logger - epoch: 23, lr_adam: 4.00e-04, lr_whisper: 4.00e-04 - train loss: 3.06 - valid loss: 3.08, valid ctc_loss: 3.08, valid PER: 1.00e+02, valid mpd_f1: 2.00e-01\n",
      "speechbrain.utils.checkpoints - Saved an end-of-epoch checkpoint in results/whisper_ctc/save/CKPT+2023-11-21+11-16-25+00\n",
      "speechbrain.utils.checkpoints - Deleted checkpoint in results/whisper_ctc/save/CKPT+2023-11-21+11-15-59+00\n",
      "speechbrain.utils.epoch_loop - Going into epoch 24\n"
     ]
    },
    {
     "output_type": "stream",
     "name": "stderr",
     "text": [
      "100%|██████████| 150/150 [00:19<00:00,  7.66it/s, train_loss=3.04]\n",
      "100%|██████████| 75/75 [00:03<00:00, 19.91it/s]\n"
     ]
    },
    {
     "output_type": "stream",
     "name": "stdout",
     "text": [
      "speechbrain.utils.train_logger - epoch: 24, lr_adam: 4.00e-04, lr_whisper: 4.00e-04 - train loss: 3.04 - valid loss: 3.07, valid ctc_loss: 3.07, valid PER: 1.00e+02, valid mpd_f1: 2.00e-01\n",
      "speechbrain.utils.checkpoints - Saved an end-of-epoch checkpoint in results/whisper_ctc/save/CKPT+2023-11-21+11-16-50+00\n",
      "speechbrain.utils.checkpoints - Deleted checkpoint in results/whisper_ctc/save/CKPT+2023-11-21+11-16-25+00\n",
      "speechbrain.utils.epoch_loop - Going into epoch 25\n"
     ]
    },
    {
     "output_type": "stream",
     "name": "stderr",
     "text": [
      "100%|██████████| 150/150 [00:19<00:00,  7.65it/s, train_loss=2.98]\n",
      "100%|██████████| 75/75 [00:03<00:00, 20.08it/s]\n"
     ]
    },
    {
     "output_type": "stream",
     "name": "stdout",
     "text": [
      "speechbrain.utils.train_logger - epoch: 25, lr_adam: 4.00e-04, lr_whisper: 4.00e-04 - train loss: 2.98 - valid loss: 3.05, valid ctc_loss: 3.05, valid PER: 1.00e+02, valid mpd_f1: 2.00e-01\n",
      "speechbrain.utils.checkpoints - Saved an end-of-epoch checkpoint in results/whisper_ctc/save/CKPT+2023-11-21+11-17-16+00\n",
      "speechbrain.utils.checkpoints - Deleted checkpoint in results/whisper_ctc/save/CKPT+2023-11-21+11-16-50+00\n",
      "speechbrain.utils.epoch_loop - Going into epoch 26\n"
     ]
    },
    {
     "output_type": "stream",
     "name": "stderr",
     "text": [
      "100%|██████████| 150/150 [00:19<00:00,  7.68it/s, train_loss=2.94]\n",
      "100%|██████████| 75/75 [00:03<00:00, 20.03it/s]\n"
     ]
    },
    {
     "output_type": "stream",
     "name": "stdout",
     "text": [
      "speechbrain.utils.train_logger - epoch: 26, lr_adam: 4.00e-04, lr_whisper: 4.00e-04 - train loss: 2.94 - valid loss: 3.00, valid ctc_loss: 3.00, valid PER: 1.00e+02, valid mpd_f1: 2.00e-01\n",
      "speechbrain.utils.checkpoints - Saved an end-of-epoch checkpoint in results/whisper_ctc/save/CKPT+2023-11-21+11-17-42+00\n",
      "speechbrain.utils.checkpoints - Deleted checkpoint in results/whisper_ctc/save/CKPT+2023-11-21+11-17-16+00\n",
      "speechbrain.utils.epoch_loop - Going into epoch 27\n"
     ]
    },
    {
     "output_type": "stream",
     "name": "stderr",
     "text": [
      "100%|██████████| 150/150 [00:19<00:00,  7.66it/s, train_loss=2.9]\n",
      "100%|██████████| 75/75 [00:03<00:00, 20.13it/s]\n"
     ]
    },
    {
     "output_type": "stream",
     "name": "stdout",
     "text": [
      "speechbrain.utils.train_logger - epoch: 27, lr_adam: 4.00e-04, lr_whisper: 4.00e-04 - train loss: 2.90 - valid loss: 2.93, valid ctc_loss: 2.93, valid PER: 1.00e+02, valid mpd_f1: 2.00e-01\n",
      "speechbrain.utils.checkpoints - Saved an end-of-epoch checkpoint in results/whisper_ctc/save/CKPT+2023-11-21+11-18-07+00\n",
      "speechbrain.utils.checkpoints - Deleted checkpoint in results/whisper_ctc/save/CKPT+2023-11-21+11-17-42+00\n",
      "speechbrain.utils.epoch_loop - Going into epoch 28\n"
     ]
    },
    {
     "output_type": "stream",
     "name": "stderr",
     "text": [
      "100%|██████████| 150/150 [00:19<00:00,  7.67it/s, train_loss=2.87]\n",
      "100%|██████████| 75/75 [00:03<00:00, 20.02it/s]\n"
     ]
    },
    {
     "output_type": "stream",
     "name": "stdout",
     "text": [
      "speechbrain.utils.train_logger - epoch: 28, lr_adam: 4.00e-04, lr_whisper: 4.00e-04 - train loss: 2.87 - valid loss: 2.95, valid ctc_loss: 2.95, valid PER: 1.00e+02, valid mpd_f1: 2.00e-01\n",
      "speechbrain.utils.checkpoints - Saved an end-of-epoch checkpoint in results/whisper_ctc/save/CKPT+2023-11-21+11-18-33+00\n",
      "speechbrain.utils.checkpoints - Deleted checkpoint in results/whisper_ctc/save/CKPT+2023-11-21+11-18-07+00\n",
      "speechbrain.utils.epoch_loop - Going into epoch 29\n"
     ]
    },
    {
     "output_type": "stream",
     "name": "stderr",
     "text": [
      "100%|██████████| 150/150 [00:19<00:00,  7.71it/s, train_loss=2.82]\n",
      "100%|██████████| 75/75 [00:03<00:00, 18.80it/s]\n"
     ]
    },
    {
     "output_type": "stream",
     "name": "stdout",
     "text": [
      "speechbrain.utils.train_logger - epoch: 29, lr_adam: 4.00e-04, lr_whisper: 4.00e-04 - train loss: 2.82 - valid loss: 3.01, valid ctc_loss: 3.01, valid PER: 1.00e+02, valid mpd_f1: 2.00e-01\n",
      "speechbrain.utils.checkpoints - Saved an end-of-epoch checkpoint in results/whisper_ctc/save/CKPT+2023-11-21+11-18-59+00\n",
      "speechbrain.utils.checkpoints - Deleted checkpoint in results/whisper_ctc/save/CKPT+2023-11-21+11-18-33+00\n",
      "speechbrain.utils.epoch_loop - Going into epoch 30\n"
     ]
    },
    {
     "output_type": "stream",
     "name": "stderr",
     "text": [
      "100%|██████████| 150/150 [00:19<00:00,  7.67it/s, train_loss=2.81]\n",
      "100%|██████████| 75/75 [00:03<00:00, 19.95it/s]\n"
     ]
    },
    {
     "output_type": "stream",
     "name": "stdout",
     "text": [
      "speechbrain.utils.train_logger - epoch: 30, lr_adam: 4.00e-04, lr_whisper: 4.00e-04 - train loss: 2.81 - valid loss: 2.92, valid ctc_loss: 2.92, valid PER: 1.00e+02, valid mpd_f1: 2.00e-01\n",
      "speechbrain.utils.checkpoints - Saved an end-of-epoch checkpoint in results/whisper_ctc/save/CKPT+2023-11-21+11-19-24+00\n",
      "speechbrain.utils.checkpoints - Deleted checkpoint in results/whisper_ctc/save/CKPT+2023-11-21+11-18-59+00\n",
      "speechbrain.utils.epoch_loop - Going into epoch 31\n"
     ]
    },
    {
     "output_type": "stream",
     "name": "stderr",
     "text": [
      "100%|██████████| 150/150 [00:19<00:00,  7.61it/s, train_loss=2.78]\n",
      "100%|██████████| 75/75 [00:03<00:00, 20.21it/s]\n"
     ]
    },
    {
     "output_type": "stream",
     "name": "stdout",
     "text": [
      "speechbrain.utils.train_logger - epoch: 31, lr_adam: 4.00e-04, lr_whisper: 4.00e-04 - train loss: 2.78 - valid loss: 2.84, valid ctc_loss: 2.84, valid PER: 1.00e+02, valid mpd_f1: 2.00e-01\n",
      "speechbrain.utils.checkpoints - Saved an end-of-epoch checkpoint in results/whisper_ctc/save/CKPT+2023-11-21+11-19-50+00\n",
      "speechbrain.utils.checkpoints - Deleted checkpoint in results/whisper_ctc/save/CKPT+2023-11-21+11-19-24+00\n",
      "speechbrain.utils.epoch_loop - Going into epoch 32\n"
     ]
    },
    {
     "output_type": "stream",
     "name": "stderr",
     "text": [
      "100%|██████████| 150/150 [00:19<00:00,  7.67it/s, train_loss=2.77]\n",
      "100%|██████████| 75/75 [00:03<00:00, 19.97it/s]\n"
     ]
    },
    {
     "output_type": "stream",
     "name": "stdout",
     "text": [
      "speechbrain.utils.train_logger - epoch: 32, lr_adam: 4.00e-04, lr_whisper: 4.00e-04 - train loss: 2.77 - valid loss: 2.88, valid ctc_loss: 2.88, valid PER: 1.00e+02, valid mpd_f1: 2.00e-01\n",
      "speechbrain.utils.checkpoints - Saved an end-of-epoch checkpoint in results/whisper_ctc/save/CKPT+2023-11-21+11-20-16+00\n",
      "speechbrain.utils.checkpoints - Deleted checkpoint in results/whisper_ctc/save/CKPT+2023-11-21+11-19-50+00\n",
      "speechbrain.utils.epoch_loop - Going into epoch 33\n"
     ]
    },
    {
     "output_type": "stream",
     "name": "stderr",
     "text": [
      "100%|██████████| 150/150 [00:19<00:00,  7.72it/s, train_loss=2.75]\n",
      "100%|██████████| 75/75 [00:03<00:00, 20.12it/s]\n"
     ]
    },
    {
     "output_type": "stream",
     "name": "stdout",
     "text": [
      "speechbrain.utils.train_logger - epoch: 33, lr_adam: 4.00e-04, lr_whisper: 4.00e-04 - train loss: 2.75 - valid loss: 2.86, valid ctc_loss: 2.86, valid PER: 1.00e+02, valid mpd_f1: 2.00e-01\n",
      "speechbrain.utils.checkpoints - Saved an end-of-epoch checkpoint in results/whisper_ctc/save/CKPT+2023-11-21+11-20-41+00\n",
      "speechbrain.utils.checkpoints - Deleted checkpoint in results/whisper_ctc/save/CKPT+2023-11-21+11-20-16+00\n",
      "speechbrain.utils.epoch_loop - Going into epoch 34\n"
     ]
    },
    {
     "output_type": "stream",
     "name": "stderr",
     "text": [
      "100%|██████████| 150/150 [00:19<00:00,  7.66it/s, train_loss=2.74]\n",
      "100%|██████████| 75/75 [00:03<00:00, 19.96it/s]\n"
     ]
    },
    {
     "output_type": "stream",
     "name": "stdout",
     "text": [
      "speechbrain.utils.train_logger - epoch: 34, lr_adam: 4.00e-04, lr_whisper: 4.00e-04 - train loss: 2.74 - valid loss: 2.86, valid ctc_loss: 2.86, valid PER: 1.00e+02, valid mpd_f1: 2.00e-01\n",
      "speechbrain.utils.checkpoints - Saved an end-of-epoch checkpoint in results/whisper_ctc/save/CKPT+2023-11-21+11-21-07+00\n",
      "speechbrain.utils.checkpoints - Deleted checkpoint in results/whisper_ctc/save/CKPT+2023-11-21+11-20-41+00\n",
      "speechbrain.utils.epoch_loop - Going into epoch 35\n"
     ]
    },
    {
     "output_type": "stream",
     "name": "stderr",
     "text": [
      "100%|██████████| 150/150 [00:19<00:00,  7.70it/s, train_loss=2.74]\n",
      "100%|██████████| 75/75 [00:03<00:00, 19.85it/s]\n"
     ]
    },
    {
     "output_type": "stream",
     "name": "stdout",
     "text": [
      "speechbrain.utils.train_logger - epoch: 35, lr_adam: 4.00e-04, lr_whisper: 4.00e-04 - train loss: 2.74 - valid loss: 2.86, valid ctc_loss: 2.86, valid PER: 1.00e+02, valid mpd_f1: 2.00e-01\n",
      "speechbrain.utils.checkpoints - Saved an end-of-epoch checkpoint in results/whisper_ctc/save/CKPT+2023-11-21+11-21-32+00\n",
      "speechbrain.utils.checkpoints - Deleted checkpoint in results/whisper_ctc/save/CKPT+2023-11-21+11-21-07+00\n",
      "speechbrain.utils.epoch_loop - Going into epoch 36\n"
     ]
    },
    {
     "output_type": "stream",
     "name": "stderr",
     "text": [
      "100%|██████████| 150/150 [00:19<00:00,  7.73it/s, train_loss=2.72]\n",
      "100%|██████████| 75/75 [00:03<00:00, 20.09it/s]\n"
     ]
    },
    {
     "output_type": "stream",
     "name": "stdout",
     "text": [
      "speechbrain.utils.train_logger - epoch: 36, lr_adam: 4.00e-04, lr_whisper: 4.00e-04 - train loss: 2.72 - valid loss: 2.86, valid ctc_loss: 2.86, valid PER: 1.00e+02, valid mpd_f1: 2.00e-01\n",
      "speechbrain.utils.checkpoints - Saved an end-of-epoch checkpoint in results/whisper_ctc/save/CKPT+2023-11-21+11-21-58+00\n",
      "speechbrain.utils.checkpoints - Deleted checkpoint in results/whisper_ctc/save/CKPT+2023-11-21+11-21-32+00\n",
      "speechbrain.utils.epoch_loop - Going into epoch 37\n"
     ]
    },
    {
     "output_type": "stream",
     "name": "stderr",
     "text": [
      "100%|██████████| 150/150 [00:19<00:00,  7.61it/s, train_loss=2.69]\n",
      "100%|██████████| 75/75 [00:03<00:00, 20.10it/s]\n"
     ]
    },
    {
     "output_type": "stream",
     "name": "stdout",
     "text": [
      "speechbrain.utils.train_logger - epoch: 37, lr_adam: 4.00e-04, lr_whisper: 4.00e-04 - train loss: 2.69 - valid loss: 2.85, valid ctc_loss: 2.85, valid PER: 97.54, valid mpd_f1: 2.04e-01\n",
      "speechbrain.utils.checkpoints - Saved an end-of-epoch checkpoint in results/whisper_ctc/save/CKPT+2023-11-21+11-22-24+00\n",
      "speechbrain.utils.checkpoints - Deleted checkpoint in results/whisper_ctc/save/CKPT+2023-11-21+11-21-58+00\n",
      "speechbrain.utils.epoch_loop - Going into epoch 38\n"
     ]
    },
    {
     "output_type": "stream",
     "name": "stderr",
     "text": [
      "100%|██████████| 150/150 [00:19<00:00,  7.70it/s, train_loss=2.71]\n",
      "100%|██████████| 75/75 [00:03<00:00, 20.13it/s]\n"
     ]
    },
    {
     "output_type": "stream",
     "name": "stdout",
     "text": [
      "speechbrain.utils.train_logger - epoch: 38, lr_adam: 4.00e-04, lr_whisper: 4.00e-04 - train loss: 2.71 - valid loss: 2.83, valid ctc_loss: 2.83, valid PER: 99.77, valid mpd_f1: 2.00e-01\n",
      "speechbrain.utils.checkpoints - Saved an end-of-epoch checkpoint in results/whisper_ctc/save/CKPT+2023-11-21+11-22-49+00\n",
      "speechbrain.utils.epoch_loop - Going into epoch 39\n"
     ]
    },
    {
     "output_type": "stream",
     "name": "stderr",
     "text": [
      "100%|██████████| 150/150 [00:19<00:00,  7.70it/s, train_loss=2.69]\n",
      "100%|██████████| 75/75 [00:03<00:00, 19.67it/s]\n"
     ]
    },
    {
     "output_type": "stream",
     "name": "stdout",
     "text": [
      "speechbrain.utils.train_logger - epoch: 39, lr_adam: 4.00e-04, lr_whisper: 4.00e-04 - train loss: 2.69 - valid loss: 2.82, valid ctc_loss: 2.82, valid PER: 96.77, valid mpd_f1: 2.04e-01\n",
      "speechbrain.utils.checkpoints - Saved an end-of-epoch checkpoint in results/whisper_ctc/save/CKPT+2023-11-21+11-23-15+00\n",
      "speechbrain.utils.checkpoints - Deleted checkpoint in results/whisper_ctc/save/CKPT+2023-11-21+11-22-24+00\n",
      "speechbrain.utils.checkpoints - Deleted checkpoint in results/whisper_ctc/save/CKPT+2023-11-21+11-22-49+00\n",
      "speechbrain.utils.epoch_loop - Going into epoch 40\n"
     ]
    },
    {
     "output_type": "stream",
     "name": "stderr",
     "text": [
      "100%|██████████| 150/150 [00:19<00:00,  7.68it/s, train_loss=2.66]\n",
      "100%|██████████| 75/75 [00:03<00:00, 19.68it/s]\n"
     ]
    },
    {
     "output_type": "stream",
     "name": "stdout",
     "text": [
      "speechbrain.utils.train_logger - epoch: 40, lr_adam: 4.00e-04, lr_whisper: 4.00e-04 - train loss: 2.66 - valid loss: 2.83, valid ctc_loss: 2.83, valid PER: 95.47, valid mpd_f1: 2.05e-01\n",
      "speechbrain.utils.checkpoints - Saved an end-of-epoch checkpoint in results/whisper_ctc/save/CKPT+2023-11-21+11-23-42+00\n",
      "speechbrain.utils.checkpoints - Deleted checkpoint in results/whisper_ctc/save/CKPT+2023-11-21+11-23-15+00\n",
      "speechbrain.utils.epoch_loop - Going into epoch 41\n"
     ]
    },
    {
     "output_type": "stream",
     "name": "stderr",
     "text": [
      "100%|██████████| 150/150 [00:19<00:00,  7.70it/s, train_loss=2.65]\n",
      "100%|██████████| 75/75 [00:03<00:00, 19.83it/s]\n"
     ]
    },
    {
     "output_type": "stream",
     "name": "stdout",
     "text": [
      "speechbrain.utils.train_logger - epoch: 41, lr_adam: 4.00e-04, lr_whisper: 4.00e-04 - train loss: 2.65 - valid loss: 2.81, valid ctc_loss: 2.81, valid PER: 97.12, valid mpd_f1: 2.04e-01\n",
      "speechbrain.utils.checkpoints - Saved an end-of-epoch checkpoint in results/whisper_ctc/save/CKPT+2023-11-21+11-24-07+00\n",
      "speechbrain.utils.epoch_loop - Going into epoch 42\n"
     ]
    },
    {
     "output_type": "stream",
     "name": "stderr",
     "text": [
      "100%|██████████| 150/150 [00:19<00:00,  7.68it/s, train_loss=2.66]\n",
      "100%|██████████| 75/75 [00:03<00:00, 20.12it/s]\n"
     ]
    },
    {
     "output_type": "stream",
     "name": "stdout",
     "text": [
      "speechbrain.utils.train_logger - epoch: 42, lr_adam: 4.00e-04, lr_whisper: 4.00e-04 - train loss: 2.66 - valid loss: 2.84, valid ctc_loss: 2.84, valid PER: 97.39, valid mpd_f1: 2.03e-01\n",
      "speechbrain.utils.checkpoints - Saved an end-of-epoch checkpoint in results/whisper_ctc/save/CKPT+2023-11-21+11-24-33+00\n",
      "speechbrain.utils.checkpoints - Deleted checkpoint in results/whisper_ctc/save/CKPT+2023-11-21+11-24-07+00\n",
      "speechbrain.utils.epoch_loop - Going into epoch 43\n"
     ]
    },
    {
     "output_type": "stream",
     "name": "stderr",
     "text": [
      "100%|██████████| 150/150 [00:19<00:00,  7.64it/s, train_loss=2.65]\n",
      "100%|██████████| 75/75 [00:03<00:00, 19.87it/s]\n"
     ]
    },
    {
     "output_type": "stream",
     "name": "stdout",
     "text": [
      "speechbrain.utils.train_logger - epoch: 43, lr_adam: 4.00e-04, lr_whisper: 4.00e-04 - train loss: 2.65 - valid loss: 2.83, valid ctc_loss: 2.83, valid PER: 95.13, valid mpd_f1: 2.05e-01\n",
      "speechbrain.utils.checkpoints - Saved an end-of-epoch checkpoint in results/whisper_ctc/save/CKPT+2023-11-21+11-25-01+00\n",
      "speechbrain.utils.checkpoints - Deleted checkpoint in results/whisper_ctc/save/CKPT+2023-11-21+11-24-33+00\n",
      "speechbrain.utils.checkpoints - Deleted checkpoint in results/whisper_ctc/save/CKPT+2023-11-21+11-23-42+00\n",
      "speechbrain.utils.epoch_loop - Going into epoch 44\n"
     ]
    },
    {
     "output_type": "stream",
     "name": "stderr",
     "text": [
      "100%|██████████| 150/150 [00:19<00:00,  7.62it/s, train_loss=2.62]\n",
      "100%|██████████| 75/75 [00:03<00:00, 19.95it/s]\n"
     ]
    },
    {
     "output_type": "stream",
     "name": "stdout",
     "text": [
      "speechbrain.utils.train_logger - epoch: 44, lr_adam: 4.00e-04, lr_whisper: 4.00e-04 - train loss: 2.62 - valid loss: 2.83, valid ctc_loss: 2.83, valid PER: 96.42, valid mpd_f1: 2.05e-01\n",
      "speechbrain.utils.checkpoints - Saved an end-of-epoch checkpoint in results/whisper_ctc/save/CKPT+2023-11-21+11-25-27+00\n",
      "speechbrain.utils.epoch_loop - Going into epoch 45\n"
     ]
    },
    {
     "output_type": "stream",
     "name": "stderr",
     "text": [
      "100%|██████████| 150/150 [00:19<00:00,  7.63it/s, train_loss=2.63]\n",
      "100%|██████████| 75/75 [00:03<00:00, 19.83it/s]\n"
     ]
    },
    {
     "output_type": "stream",
     "name": "stdout",
     "text": [
      "speechbrain.utils.train_logger - epoch: 45, lr_adam: 4.00e-04, lr_whisper: 4.00e-04 - train loss: 2.63 - valid loss: 2.82, valid ctc_loss: 2.82, valid PER: 95.71, valid mpd_f1: 2.05e-01\n",
      "speechbrain.utils.checkpoints - Saved an end-of-epoch checkpoint in results/whisper_ctc/save/CKPT+2023-11-21+11-25-53+00\n",
      "speechbrain.utils.checkpoints - Deleted checkpoint in results/whisper_ctc/save/CKPT+2023-11-21+11-25-27+00\n",
      "speechbrain.utils.epoch_loop - Going into epoch 46\n"
     ]
    },
    {
     "output_type": "stream",
     "name": "stderr",
     "text": [
      "100%|██████████| 150/150 [00:19<00:00,  7.69it/s, train_loss=2.62]\n",
      "100%|██████████| 75/75 [00:03<00:00, 19.89it/s]\n"
     ]
    },
    {
     "output_type": "stream",
     "name": "stdout",
     "text": [
      "speechbrain.utils.train_logger - epoch: 46, lr_adam: 4.00e-04, lr_whisper: 4.00e-04 - train loss: 2.62 - valid loss: 2.84, valid ctc_loss: 2.84, valid PER: 96.88, valid mpd_f1: 2.04e-01\n",
      "speechbrain.utils.checkpoints - Saved an end-of-epoch checkpoint in results/whisper_ctc/save/CKPT+2023-11-21+11-26-19+00\n",
      "speechbrain.utils.epoch_loop - Going into epoch 47\n"
     ]
    },
    {
     "output_type": "stream",
     "name": "stderr",
     "text": [
      "100%|██████████| 150/150 [00:19<00:00,  7.68it/s, train_loss=2.61]\n",
      "100%|██████████| 75/75 [00:03<00:00, 19.83it/s]\n"
     ]
    },
    {
     "output_type": "stream",
     "name": "stdout",
     "text": [
      "speechbrain.utils.train_logger - epoch: 47, lr_adam: 4.00e-04, lr_whisper: 4.00e-04 - train loss: 2.61 - valid loss: 2.86, valid ctc_loss: 2.86, valid PER: 95.22, valid mpd_f1: 2.04e-01\n",
      "speechbrain.utils.checkpoints - Saved an end-of-epoch checkpoint in results/whisper_ctc/save/CKPT+2023-11-21+11-26-46+00\n",
      "speechbrain.utils.checkpoints - Deleted checkpoint in results/whisper_ctc/save/CKPT+2023-11-21+11-26-19+00\n",
      "speechbrain.utils.epoch_loop - Going into epoch 48\n"
     ]
    },
    {
     "output_type": "stream",
     "name": "stderr",
     "text": [
      "100%|██████████| 150/150 [00:19<00:00,  7.71it/s, train_loss=2.59]\n",
      "100%|██████████| 75/75 [00:04<00:00, 18.71it/s]"
     ]
    },
    {
     "output_type": "stream",
     "name": "stdout",
     "text": [
      "speechbrain.utils.train_logger - epoch: 48, lr_adam: 4.00e-04, lr_whisper: 4.00e-04 - train loss: 2.59 - valid loss: 2.81, valid ctc_loss: 2.81, valid PER: 94.19, valid mpd_f1: 2.04e-01\n"
     ]
    },
    {
     "output_type": "stream",
     "name": "stderr",
     "text": [
      "\n"
     ]
    },
    {
     "output_type": "stream",
     "name": "stdout",
     "text": [
      "speechbrain.utils.checkpoints - Saved an end-of-epoch checkpoint in results/whisper_ctc/save/CKPT+2023-11-21+11-27-13+00\n",
      "speechbrain.utils.checkpoints - Deleted checkpoint in results/whisper_ctc/save/CKPT+2023-11-21+11-25-01+00\n",
      "speechbrain.utils.checkpoints - Deleted checkpoint in results/whisper_ctc/save/CKPT+2023-11-21+11-26-46+00\n",
      "speechbrain.utils.epoch_loop - Going into epoch 49\n"
     ]
    },
    {
     "output_type": "stream",
     "name": "stderr",
     "text": [
      "100%|██████████| 150/150 [00:19<00:00,  7.69it/s, train_loss=2.59]\n",
      "100%|██████████| 75/75 [00:03<00:00, 19.77it/s]\n"
     ]
    },
    {
     "output_type": "stream",
     "name": "stdout",
     "text": [
      "speechbrain.utils.train_logger - epoch: 49, lr_adam: 4.00e-04, lr_whisper: 4.00e-04 - train loss: 2.59 - valid loss: 2.79, valid ctc_loss: 2.79, valid PER: 95.74, valid mpd_f1: 2.04e-01\n",
      "speechbrain.utils.checkpoints - Saved an end-of-epoch checkpoint in results/whisper_ctc/save/CKPT+2023-11-21+11-27-40+00\n",
      "speechbrain.utils.epoch_loop - Going into epoch 50\n"
     ]
    },
    {
     "output_type": "stream",
     "name": "stderr",
     "text": [
      "100%|██████████| 150/150 [00:19<00:00,  7.70it/s, train_loss=2.58]\n",
      "100%|██████████| 75/75 [00:03<00:00, 19.82it/s]\n"
     ]
    },
    {
     "output_type": "stream",
     "name": "stdout",
     "text": [
      "speechbrain.utils.train_logger - epoch: 50, lr_adam: 4.00e-04, lr_whisper: 4.00e-04 - train loss: 2.58 - valid loss: 2.78, valid ctc_loss: 2.78, valid PER: 93.80, valid mpd_f1: 2.06e-01\n",
      "speechbrain.utils.checkpoints - Saved an end-of-epoch checkpoint in results/whisper_ctc/save/CKPT+2023-11-21+11-28-06+00\n",
      "speechbrain.utils.checkpoints - Deleted checkpoint in results/whisper_ctc/save/CKPT+2023-11-21+11-27-40+00\n",
      "speechbrain.utils.checkpoints - Deleted checkpoint in results/whisper_ctc/save/CKPT+2023-11-21+11-25-53+00\n",
      "speechbrain.utils.checkpoints - Deleted checkpoint in results/whisper_ctc/save/CKPT+2023-11-21+11-27-13+00\n",
      "speechbrain.utils.epoch_loop - Going into epoch 51\n"
     ]
    },
    {
     "output_type": "stream",
     "name": "stderr",
     "text": [
      "100%|██████████| 150/150 [00:19<00:00,  7.71it/s, train_loss=2.58]\n",
      "100%|██████████| 75/75 [00:03<00:00, 19.84it/s]\n"
     ]
    },
    {
     "output_type": "stream",
     "name": "stdout",
     "text": [
      "speechbrain.utils.train_logger - epoch: 51, lr_adam: 4.00e-04, lr_whisper: 4.00e-04 - train loss: 2.58 - valid loss: 2.80, valid ctc_loss: 2.80, valid PER: 93.31, valid mpd_f1: 2.06e-01\n",
      "speechbrain.utils.checkpoints - Saved an end-of-epoch checkpoint in results/whisper_ctc/save/CKPT+2023-11-21+11-28-33+00\n",
      "speechbrain.utils.epoch_loop - Going into epoch 52\n"
     ]
    },
    {
     "output_type": "stream",
     "name": "stderr",
     "text": [
      "100%|██████████| 150/150 [00:19<00:00,  7.69it/s, train_loss=2.57]\n",
      "100%|██████████| 75/75 [00:03<00:00, 19.84it/s]\n"
     ]
    },
    {
     "output_type": "stream",
     "name": "stdout",
     "text": [
      "speechbrain.utils.train_logger - epoch: 52, lr_adam: 4.00e-04, lr_whisper: 4.00e-04 - train loss: 2.57 - valid loss: 2.75, valid ctc_loss: 2.75, valid PER: 92.47, valid mpd_f1: 2.07e-01\n",
      "speechbrain.utils.checkpoints - Saved an end-of-epoch checkpoint in results/whisper_ctc/save/CKPT+2023-11-21+11-28-59+00\n",
      "speechbrain.utils.checkpoints - Deleted checkpoint in results/whisper_ctc/save/CKPT+2023-11-21+11-28-06+00\n",
      "speechbrain.utils.checkpoints - Deleted checkpoint in results/whisper_ctc/save/CKPT+2023-11-21+11-28-33+00\n",
      "speechbrain.utils.epoch_loop - Going into epoch 53\n"
     ]
    },
    {
     "output_type": "stream",
     "name": "stderr",
     "text": [
      "100%|██████████| 150/150 [00:19<00:00,  7.69it/s, train_loss=2.53]\n",
      "100%|██████████| 75/75 [00:03<00:00, 19.93it/s]\n"
     ]
    },
    {
     "output_type": "stream",
     "name": "stdout",
     "text": [
      "speechbrain.utils.train_logger - epoch: 53, lr_adam: 4.00e-04, lr_whisper: 4.00e-04 - train loss: 2.53 - valid loss: 2.76, valid ctc_loss: 2.76, valid PER: 92.09, valid mpd_f1: 2.07e-01\n",
      "speechbrain.utils.checkpoints - Saved an end-of-epoch checkpoint in results/whisper_ctc/save/CKPT+2023-11-21+11-29-26+00\n",
      "speechbrain.utils.checkpoints - Deleted checkpoint in results/whisper_ctc/save/CKPT+2023-11-21+11-28-59+00\n",
      "speechbrain.utils.epoch_loop - Going into epoch 54\n"
     ]
    },
    {
     "output_type": "stream",
     "name": "stderr",
     "text": [
      "100%|██████████| 150/150 [00:19<00:00,  7.70it/s, train_loss=2.53]\n",
      "100%|██████████| 75/75 [00:03<00:00, 19.86it/s]\n"
     ]
    },
    {
     "output_type": "stream",
     "name": "stdout",
     "text": [
      "speechbrain.utils.train_logger - epoch: 54, lr_adam: 4.00e-04, lr_whisper: 4.00e-04 - train loss: 2.53 - valid loss: 2.74, valid ctc_loss: 2.74, valid PER: 91.98, valid mpd_f1: 2.07e-01\n",
      "speechbrain.utils.checkpoints - Saved an end-of-epoch checkpoint in results/whisper_ctc/save/CKPT+2023-11-21+11-29-52+00\n",
      "speechbrain.utils.checkpoints - Deleted checkpoint in results/whisper_ctc/save/CKPT+2023-11-21+11-29-26+00\n",
      "speechbrain.utils.epoch_loop - Going into epoch 55\n"
     ]
    },
    {
     "output_type": "stream",
     "name": "stderr",
     "text": [
      "100%|██████████| 150/150 [00:19<00:00,  7.69it/s, train_loss=2.54]\n",
      "100%|██████████| 75/75 [00:03<00:00, 19.77it/s]\n"
     ]
    },
    {
     "output_type": "stream",
     "name": "stdout",
     "text": [
      "speechbrain.utils.train_logger - epoch: 55, lr_adam: 4.00e-04, lr_whisper: 4.00e-04 - train loss: 2.54 - valid loss: 2.75, valid ctc_loss: 2.75, valid PER: 92.06, valid mpd_f1: 2.07e-01\n",
      "speechbrain.utils.checkpoints - Saved an end-of-epoch checkpoint in results/whisper_ctc/save/CKPT+2023-11-21+11-30-18+00\n",
      "speechbrain.utils.epoch_loop - Going into epoch 56\n"
     ]
    },
    {
     "output_type": "stream",
     "name": "stderr",
     "text": [
      "100%|██████████| 150/150 [00:19<00:00,  7.65it/s, train_loss=2.56]\n",
      "100%|██████████| 75/75 [00:03<00:00, 19.66it/s]\n"
     ]
    },
    {
     "output_type": "stream",
     "name": "stdout",
     "text": [
      "speechbrain.utils.train_logger - epoch: 56, lr_adam: 4.00e-04, lr_whisper: 4.00e-04 - train loss: 2.56 - valid loss: 2.74, valid ctc_loss: 2.74, valid PER: 91.01, valid mpd_f1: 2.08e-01\n",
      "speechbrain.utils.checkpoints - Saved an end-of-epoch checkpoint in results/whisper_ctc/save/CKPT+2023-11-21+11-30-43+00\n",
      "speechbrain.utils.checkpoints - Deleted checkpoint in results/whisper_ctc/save/CKPT+2023-11-21+11-30-18+00\n",
      "speechbrain.utils.checkpoints - Deleted checkpoint in results/whisper_ctc/save/CKPT+2023-11-21+11-29-52+00\n",
      "speechbrain.utils.epoch_loop - Going into epoch 57\n"
     ]
    },
    {
     "output_type": "stream",
     "name": "stderr",
     "text": [
      "100%|██████████| 150/150 [00:19<00:00,  7.67it/s, train_loss=2.53]\n",
      "100%|██████████| 75/75 [00:03<00:00, 19.78it/s]\n"
     ]
    },
    {
     "output_type": "stream",
     "name": "stdout",
     "text": [
      "speechbrain.utils.train_logger - epoch: 57, lr_adam: 4.00e-04, lr_whisper: 4.00e-04 - train loss: 2.53 - valid loss: 2.68, valid ctc_loss: 2.68, valid PER: 92.83, valid mpd_f1: 2.08e-01\n",
      "speechbrain.utils.checkpoints - Saved an end-of-epoch checkpoint in results/whisper_ctc/save/CKPT+2023-11-21+11-31-10+00\n",
      "speechbrain.utils.epoch_loop - Going into epoch 58\n"
     ]
    },
    {
     "output_type": "stream",
     "name": "stderr",
     "text": [
      "100%|██████████| 150/150 [00:19<00:00,  7.66it/s, train_loss=2.51]\n",
      "100%|██████████| 75/75 [00:03<00:00, 19.98it/s]\n"
     ]
    },
    {
     "output_type": "stream",
     "name": "stdout",
     "text": [
      "speechbrain.utils.train_logger - epoch: 58, lr_adam: 4.00e-04, lr_whisper: 4.00e-04 - train loss: 2.51 - valid loss: 2.71, valid ctc_loss: 2.71, valid PER: 93.00, valid mpd_f1: 2.07e-01\n",
      "speechbrain.utils.checkpoints - Saved an end-of-epoch checkpoint in results/whisper_ctc/save/CKPT+2023-11-21+11-31-36+00\n",
      "speechbrain.utils.epoch_loop - Going into epoch 59\n"
     ]
    },
    {
     "output_type": "stream",
     "name": "stderr",
     "text": [
      "100%|██████████| 150/150 [00:19<00:00,  7.70it/s, train_loss=2.5]\n",
      "100%|██████████| 75/75 [00:03<00:00, 19.80it/s]\n"
     ]
    },
    {
     "output_type": "stream",
     "name": "stdout",
     "text": [
      "speechbrain.utils.train_logger - epoch: 59, lr_adam: 4.00e-04, lr_whisper: 4.00e-04 - train loss: 2.50 - valid loss: 2.69, valid ctc_loss: 2.69, valid PER: 93.09, valid mpd_f1: 2.06e-01\n",
      "speechbrain.utils.checkpoints - Saved an end-of-epoch checkpoint in results/whisper_ctc/save/CKPT+2023-11-21+11-32-02+00\n",
      "speechbrain.utils.checkpoints - Deleted checkpoint in results/whisper_ctc/save/CKPT+2023-11-21+11-31-36+00\n",
      "speechbrain.utils.epoch_loop - Going into epoch 60\n"
     ]
    },
    {
     "output_type": "stream",
     "name": "stderr",
     "text": [
      "100%|██████████| 150/150 [00:19<00:00,  7.73it/s, train_loss=2.5]\n",
      "100%|██████████| 75/75 [00:03<00:00, 19.90it/s]\n"
     ]
    },
    {
     "output_type": "stream",
     "name": "stdout",
     "text": [
      "speechbrain.utils.train_logger - epoch: 60, lr_adam: 4.00e-04, lr_whisper: 4.00e-04 - train loss: 2.50 - valid loss: 2.67, valid ctc_loss: 2.67, valid PER: 93.10, valid mpd_f1: 2.06e-01\n",
      "speechbrain.utils.checkpoints - Saved an end-of-epoch checkpoint in results/whisper_ctc/save/CKPT+2023-11-21+11-32-29+00\n",
      "speechbrain.utils.checkpoints - Deleted checkpoint in results/whisper_ctc/save/CKPT+2023-11-21+11-32-02+00\n",
      "speechbrain.utils.epoch_loop - Going into epoch 61\n"
     ]
    },
    {
     "output_type": "stream",
     "name": "stderr",
     "text": [
      "100%|██████████| 150/150 [00:19<00:00,  7.63it/s, train_loss=2.48]\n",
      "100%|██████████| 75/75 [00:03<00:00, 19.83it/s]\n"
     ]
    },
    {
     "output_type": "stream",
     "name": "stdout",
     "text": [
      "speechbrain.utils.train_logger - epoch: 61, lr_adam: 4.00e-04, lr_whisper: 4.00e-04 - train loss: 2.48 - valid loss: 2.70, valid ctc_loss: 2.70, valid PER: 92.98, valid mpd_f1: 2.06e-01\n",
      "speechbrain.utils.checkpoints - Saved an end-of-epoch checkpoint in results/whisper_ctc/save/CKPT+2023-11-21+11-32-57+00\n",
      "speechbrain.utils.checkpoints - Deleted checkpoint in results/whisper_ctc/save/CKPT+2023-11-21+11-32-29+00\n",
      "speechbrain.utils.epoch_loop - Going into epoch 62\n"
     ]
    },
    {
     "output_type": "stream",
     "name": "stderr",
     "text": [
      "100%|██████████| 150/150 [00:19<00:00,  7.68it/s, train_loss=2.48]\n",
      "100%|██████████| 75/75 [00:03<00:00, 19.94it/s]\n"
     ]
    },
    {
     "output_type": "stream",
     "name": "stdout",
     "text": [
      "speechbrain.utils.train_logger - epoch: 62, lr_adam: 4.00e-04, lr_whisper: 4.00e-04 - train loss: 2.48 - valid loss: 2.69, valid ctc_loss: 2.69, valid PER: 92.55, valid mpd_f1: 2.07e-01\n",
      "speechbrain.utils.checkpoints - Saved an end-of-epoch checkpoint in results/whisper_ctc/save/CKPT+2023-11-21+11-33-24+00\n",
      "speechbrain.utils.checkpoints - Deleted checkpoint in results/whisper_ctc/save/CKPT+2023-11-21+11-32-57+00\n",
      "speechbrain.utils.epoch_loop - Going into epoch 63\n"
     ]
    },
    {
     "output_type": "stream",
     "name": "stderr",
     "text": [
      "100%|██████████| 150/150 [00:19<00:00,  7.66it/s, train_loss=2.51]\n",
      "100%|██████████| 75/75 [00:03<00:00, 19.79it/s]\n"
     ]
    },
    {
     "output_type": "stream",
     "name": "stdout",
     "text": [
      "speechbrain.utils.train_logger - epoch: 63, lr_adam: 4.00e-04, lr_whisper: 4.00e-04 - train loss: 2.51 - valid loss: 2.66, valid ctc_loss: 2.66, valid PER: 93.99, valid mpd_f1: 2.06e-01\n",
      "speechbrain.utils.checkpoints - Saved an end-of-epoch checkpoint in results/whisper_ctc/save/CKPT+2023-11-21+11-33-51+00\n",
      "speechbrain.utils.checkpoints - Deleted checkpoint in results/whisper_ctc/save/CKPT+2023-11-21+11-33-24+00\n",
      "speechbrain.utils.epoch_loop - Going into epoch 64\n"
     ]
    },
    {
     "output_type": "stream",
     "name": "stderr",
     "text": [
      "100%|██████████| 150/150 [00:19<00:00,  7.70it/s, train_loss=2.46]\n",
      "100%|██████████| 75/75 [00:03<00:00, 19.77it/s]\n"
     ]
    },
    {
     "output_type": "stream",
     "name": "stdout",
     "text": [
      "speechbrain.utils.train_logger - epoch: 64, lr_adam: 4.00e-04, lr_whisper: 4.00e-04 - train loss: 2.46 - valid loss: 2.66, valid ctc_loss: 2.66, valid PER: 92.54, valid mpd_f1: 2.06e-01\n",
      "speechbrain.utils.checkpoints - Saved an end-of-epoch checkpoint in results/whisper_ctc/save/CKPT+2023-11-21+11-34-18+00\n",
      "speechbrain.utils.checkpoints - Deleted checkpoint in results/whisper_ctc/save/CKPT+2023-11-21+11-33-51+00\n",
      "speechbrain.utils.epoch_loop - Going into epoch 65\n"
     ]
    },
    {
     "output_type": "stream",
     "name": "stderr",
     "text": [
      "100%|██████████| 150/150 [00:19<00:00,  7.73it/s, train_loss=2.47]\n",
      "100%|██████████| 75/75 [00:03<00:00, 19.66it/s]\n"
     ]
    },
    {
     "output_type": "stream",
     "name": "stdout",
     "text": [
      "speechbrain.utils.train_logger - epoch: 65, lr_adam: 4.00e-04, lr_whisper: 4.00e-04 - train loss: 2.47 - valid loss: 2.66, valid ctc_loss: 2.66, valid PER: 92.30, valid mpd_f1: 2.06e-01\n",
      "speechbrain.utils.checkpoints - Saved an end-of-epoch checkpoint in results/whisper_ctc/save/CKPT+2023-11-21+11-34-46+00\n",
      "speechbrain.utils.checkpoints - Deleted checkpoint in results/whisper_ctc/save/CKPT+2023-11-21+11-34-18+00\n",
      "speechbrain.utils.epoch_loop - Going into epoch 66\n"
     ]
    },
    {
     "output_type": "stream",
     "name": "stderr",
     "text": [
      "100%|██████████| 150/150 [00:19<00:00,  7.65it/s, train_loss=2.43]\n",
      "100%|██████████| 75/75 [00:03<00:00, 19.77it/s]\n"
     ]
    },
    {
     "output_type": "stream",
     "name": "stdout",
     "text": [
      "speechbrain.utils.train_logger - epoch: 66, lr_adam: 4.00e-04, lr_whisper: 4.00e-04 - train loss: 2.43 - valid loss: 2.65, valid ctc_loss: 2.65, valid PER: 92.20, valid mpd_f1: 2.06e-01\n",
      "speechbrain.utils.checkpoints - Saved an end-of-epoch checkpoint in results/whisper_ctc/save/CKPT+2023-11-21+11-35-13+00\n",
      "speechbrain.utils.checkpoints - Deleted checkpoint in results/whisper_ctc/save/CKPT+2023-11-21+11-34-46+00\n",
      "speechbrain.utils.epoch_loop - Going into epoch 67\n"
     ]
    },
    {
     "output_type": "stream",
     "name": "stderr",
     "text": [
      "100%|██████████| 150/150 [00:19<00:00,  7.72it/s, train_loss=2.44]\n",
      "100%|██████████| 75/75 [00:03<00:00, 19.80it/s]\n"
     ]
    },
    {
     "output_type": "stream",
     "name": "stdout",
     "text": [
      "speechbrain.utils.train_logger - epoch: 67, lr_adam: 4.00e-04, lr_whisper: 4.00e-04 - train loss: 2.44 - valid loss: 2.61, valid ctc_loss: 2.61, valid PER: 92.04, valid mpd_f1: 2.07e-01\n",
      "speechbrain.utils.checkpoints - Saved an end-of-epoch checkpoint in results/whisper_ctc/save/CKPT+2023-11-21+11-35-40+00\n",
      "speechbrain.utils.checkpoints - Deleted checkpoint in results/whisper_ctc/save/CKPT+2023-11-21+11-35-13+00\n",
      "speechbrain.utils.epoch_loop - Going into epoch 68\n"
     ]
    },
    {
     "output_type": "stream",
     "name": "stderr",
     "text": [
      "100%|██████████| 150/150 [00:19<00:00,  7.70it/s, train_loss=2.43]\n",
      "100%|██████████| 75/75 [00:03<00:00, 19.78it/s]\n"
     ]
    },
    {
     "output_type": "stream",
     "name": "stdout",
     "text": [
      "speechbrain.utils.train_logger - epoch: 68, lr_adam: 4.00e-04, lr_whisper: 4.00e-04 - train loss: 2.43 - valid loss: 2.68, valid ctc_loss: 2.68, valid PER: 92.84, valid mpd_f1: 2.06e-01\n",
      "speechbrain.utils.checkpoints - Saved an end-of-epoch checkpoint in results/whisper_ctc/save/CKPT+2023-11-21+11-36-07+00\n",
      "speechbrain.utils.checkpoints - Deleted checkpoint in results/whisper_ctc/save/CKPT+2023-11-21+11-35-40+00\n",
      "speechbrain.utils.epoch_loop - Going into epoch 69\n"
     ]
    },
    {
     "output_type": "stream",
     "name": "stderr",
     "text": [
      "100%|██████████| 150/150 [00:19<00:00,  7.73it/s, train_loss=2.44]\n",
      "100%|██████████| 75/75 [00:03<00:00, 19.76it/s]\n"
     ]
    },
    {
     "output_type": "stream",
     "name": "stdout",
     "text": [
      "speechbrain.utils.train_logger - epoch: 69, lr_adam: 4.00e-04, lr_whisper: 4.00e-04 - train loss: 2.44 - valid loss: 2.66, valid ctc_loss: 2.66, valid PER: 92.61, valid mpd_f1: 2.06e-01\n",
      "speechbrain.utils.checkpoints - Saved an end-of-epoch checkpoint in results/whisper_ctc/save/CKPT+2023-11-21+11-36-34+00\n",
      "speechbrain.utils.checkpoints - Deleted checkpoint in results/whisper_ctc/save/CKPT+2023-11-21+11-36-07+00\n",
      "speechbrain.utils.epoch_loop - Going into epoch 70\n"
     ]
    },
    {
     "output_type": "stream",
     "name": "stderr",
     "text": [
      "100%|██████████| 150/150 [00:19<00:00,  7.73it/s, train_loss=2.42]\n",
      "100%|██████████| 75/75 [00:03<00:00, 19.89it/s]\n"
     ]
    },
    {
     "output_type": "stream",
     "name": "stdout",
     "text": [
      "speechbrain.utils.train_logger - epoch: 70, lr_adam: 4.00e-04, lr_whisper: 4.00e-04 - train loss: 2.42 - valid loss: 2.60, valid ctc_loss: 2.60, valid PER: 91.26, valid mpd_f1: 2.08e-01\n",
      "speechbrain.utils.checkpoints - Saved an end-of-epoch checkpoint in results/whisper_ctc/save/CKPT+2023-11-21+11-37-01+00\n",
      "speechbrain.utils.checkpoints - Deleted checkpoint in results/whisper_ctc/save/CKPT+2023-11-21+11-36-34+00\n",
      "speechbrain.utils.epoch_loop - Going into epoch 71\n"
     ]
    },
    {
     "output_type": "stream",
     "name": "stderr",
     "text": [
      "100%|██████████| 150/150 [00:19<00:00,  7.66it/s, train_loss=2.4]\n",
      "100%|██████████| 75/75 [00:03<00:00, 19.89it/s]\n"
     ]
    },
    {
     "output_type": "stream",
     "name": "stdout",
     "text": [
      "speechbrain.utils.train_logger - epoch: 71, lr_adam: 4.00e-04, lr_whisper: 4.00e-04 - train loss: 2.40 - valid loss: 2.61, valid ctc_loss: 2.61, valid PER: 91.98, valid mpd_f1: 2.08e-01\n",
      "speechbrain.utils.checkpoints - Saved an end-of-epoch checkpoint in results/whisper_ctc/save/CKPT+2023-11-21+11-37-29+00\n",
      "speechbrain.utils.checkpoints - Deleted checkpoint in results/whisper_ctc/save/CKPT+2023-11-21+11-37-01+00\n",
      "speechbrain.utils.epoch_loop - Going into epoch 72\n"
     ]
    },
    {
     "output_type": "stream",
     "name": "stderr",
     "text": [
      "100%|██████████| 150/150 [00:19<00:00,  7.70it/s, train_loss=2.4]\n",
      "100%|██████████| 75/75 [00:03<00:00, 19.85it/s]\n"
     ]
    },
    {
     "output_type": "stream",
     "name": "stdout",
     "text": [
      "speechbrain.utils.train_logger - epoch: 72, lr_adam: 4.00e-04, lr_whisper: 4.00e-04 - train loss: 2.40 - valid loss: 2.62, valid ctc_loss: 2.62, valid PER: 92.47, valid mpd_f1: 2.08e-01\n",
      "speechbrain.utils.checkpoints - Saved an end-of-epoch checkpoint in results/whisper_ctc/save/CKPT+2023-11-21+11-37-56+00\n",
      "speechbrain.utils.checkpoints - Deleted checkpoint in results/whisper_ctc/save/CKPT+2023-11-21+11-37-29+00\n",
      "speechbrain.utils.epoch_loop - Going into epoch 73\n"
     ]
    },
    {
     "output_type": "stream",
     "name": "stderr",
     "text": [
      "100%|██████████| 150/150 [00:19<00:00,  7.62it/s, train_loss=2.39]\n",
      "100%|██████████| 75/75 [00:03<00:00, 19.76it/s]\n"
     ]
    },
    {
     "output_type": "stream",
     "name": "stdout",
     "text": [
      "speechbrain.utils.train_logger - epoch: 73, lr_adam: 4.00e-04, lr_whisper: 4.00e-04 - train loss: 2.39 - valid loss: 2.60, valid ctc_loss: 2.60, valid PER: 91.55, valid mpd_f1: 2.08e-01\n",
      "speechbrain.utils.checkpoints - Saved an end-of-epoch checkpoint in results/whisper_ctc/save/CKPT+2023-11-21+11-38-24+00\n",
      "speechbrain.utils.checkpoints - Deleted checkpoint in results/whisper_ctc/save/CKPT+2023-11-21+11-37-56+00\n",
      "speechbrain.utils.epoch_loop - Going into epoch 74\n"
     ]
    },
    {
     "output_type": "stream",
     "name": "stderr",
     "text": [
      "100%|██████████| 150/150 [00:19<00:00,  7.62it/s, train_loss=2.4]\n",
      "100%|██████████| 75/75 [00:03<00:00, 19.76it/s]\n"
     ]
    },
    {
     "output_type": "stream",
     "name": "stdout",
     "text": [
      "speechbrain.utils.train_logger - epoch: 74, lr_adam: 4.00e-04, lr_whisper: 4.00e-04 - train loss: 2.40 - valid loss: 2.63, valid ctc_loss: 2.63, valid PER: 92.00, valid mpd_f1: 2.07e-01\n",
      "speechbrain.utils.checkpoints - Saved an end-of-epoch checkpoint in results/whisper_ctc/save/CKPT+2023-11-21+11-38-52+00\n",
      "speechbrain.utils.checkpoints - Deleted checkpoint in results/whisper_ctc/save/CKPT+2023-11-21+11-38-24+00\n",
      "speechbrain.utils.epoch_loop - Going into epoch 75\n"
     ]
    },
    {
     "output_type": "stream",
     "name": "stderr",
     "text": [
      "100%|██████████| 150/150 [00:19<00:00,  7.63it/s, train_loss=2.39]\n",
      "100%|██████████| 75/75 [00:03<00:00, 19.62it/s]\n"
     ]
    },
    {
     "output_type": "stream",
     "name": "stdout",
     "text": [
      "speechbrain.utils.train_logger - epoch: 75, lr_adam: 4.00e-04, lr_whisper: 4.00e-04 - train loss: 2.39 - valid loss: 2.59, valid ctc_loss: 2.59, valid PER: 91.55, valid mpd_f1: 2.08e-01\n",
      "speechbrain.utils.checkpoints - Saved an end-of-epoch checkpoint in results/whisper_ctc/save/CKPT+2023-11-21+11-39-19+00\n",
      "speechbrain.utils.checkpoints - Deleted checkpoint in results/whisper_ctc/save/CKPT+2023-11-21+11-38-52+00\n",
      "speechbrain.utils.checkpoints - Deleted checkpoint in results/whisper_ctc/save/CKPT+2023-11-21+11-31-10+00\n",
      "speechbrain.utils.epoch_loop - Going into epoch 76\n"
     ]
    },
    {
     "output_type": "stream",
     "name": "stderr",
     "text": [
      "100%|██████████| 150/150 [00:19<00:00,  7.63it/s, train_loss=2.37]\n",
      "100%|██████████| 75/75 [00:03<00:00, 19.90it/s]\n"
     ]
    },
    {
     "output_type": "stream",
     "name": "stdout",
     "text": [
      "speechbrain.utils.train_logger - epoch: 76, lr_adam: 4.00e-04, lr_whisper: 4.00e-04 - train loss: 2.37 - valid loss: 2.73, valid ctc_loss: 2.73, valid PER: 92.67, valid mpd_f1: 2.06e-01\n",
      "speechbrain.utils.checkpoints - Saved an end-of-epoch checkpoint in results/whisper_ctc/save/CKPT+2023-11-21+11-39-47+00\n",
      "speechbrain.utils.epoch_loop - Going into epoch 77\n"
     ]
    },
    {
     "output_type": "stream",
     "name": "stderr",
     "text": [
      "100%|██████████| 150/150 [00:19<00:00,  7.64it/s, train_loss=2.4]\n",
      "100%|██████████| 75/75 [00:03<00:00, 19.80it/s]\n"
     ]
    },
    {
     "output_type": "stream",
     "name": "stdout",
     "text": [
      "speechbrain.utils.train_logger - epoch: 77, lr_adam: 4.00e-04, lr_whisper: 4.00e-04 - train loss: 2.40 - valid loss: 2.64, valid ctc_loss: 2.64, valid PER: 91.92, valid mpd_f1: 2.07e-01\n",
      "speechbrain.utils.checkpoints - Saved an end-of-epoch checkpoint in results/whisper_ctc/save/CKPT+2023-11-21+11-40-13+00\n",
      "speechbrain.utils.checkpoints - Deleted checkpoint in results/whisper_ctc/save/CKPT+2023-11-21+11-39-47+00\n",
      "speechbrain.utils.epoch_loop - Going into epoch 78\n"
     ]
    },
    {
     "output_type": "stream",
     "name": "stderr",
     "text": [
      "100%|██████████| 150/150 [00:19<00:00,  7.72it/s, train_loss=2.37]\n",
      "100%|██████████| 75/75 [00:03<00:00, 19.84it/s]\n"
     ]
    },
    {
     "output_type": "stream",
     "name": "stdout",
     "text": [
      "speechbrain.utils.train_logger - epoch: 78, lr_adam: 4.00e-04, lr_whisper: 4.00e-04 - train loss: 2.37 - valid loss: 2.68, valid ctc_loss: 2.68, valid PER: 92.23, valid mpd_f1: 2.07e-01\n",
      "speechbrain.utils.checkpoints - Saved an end-of-epoch checkpoint in results/whisper_ctc/save/CKPT+2023-11-21+11-40-41+00\n",
      "speechbrain.utils.checkpoints - Deleted checkpoint in results/whisper_ctc/save/CKPT+2023-11-21+11-40-13+00\n",
      "speechbrain.utils.epoch_loop - Going into epoch 79\n"
     ]
    },
    {
     "output_type": "stream",
     "name": "stderr",
     "text": [
      "100%|██████████| 150/150 [00:19<00:00,  7.63it/s, train_loss=2.38]\n",
      "100%|██████████| 75/75 [00:03<00:00, 19.61it/s]\n"
     ]
    },
    {
     "output_type": "stream",
     "name": "stdout",
     "text": [
      "speechbrain.utils.train_logger - epoch: 79, lr_adam: 4.00e-04, lr_whisper: 4.00e-04 - train loss: 2.38 - valid loss: 2.67, valid ctc_loss: 2.67, valid PER: 92.27, valid mpd_f1: 2.06e-01\n",
      "speechbrain.utils.checkpoints - Saved an end-of-epoch checkpoint in results/whisper_ctc/save/CKPT+2023-11-21+11-41-08+00\n",
      "speechbrain.utils.checkpoints - Deleted checkpoint in results/whisper_ctc/save/CKPT+2023-11-21+11-40-41+00\n",
      "speechbrain.utils.epoch_loop - Going into epoch 80\n"
     ]
    },
    {
     "output_type": "stream",
     "name": "stderr",
     "text": [
      "100%|██████████| 150/150 [00:19<00:00,  7.66it/s, train_loss=2.38]\n",
      "100%|██████████| 75/75 [00:03<00:00, 19.68it/s]\n"
     ]
    },
    {
     "output_type": "stream",
     "name": "stdout",
     "text": [
      "speechbrain.utils.train_logger - epoch: 80, lr_adam: 4.00e-04, lr_whisper: 4.00e-04 - train loss: 2.38 - valid loss: 2.65, valid ctc_loss: 2.65, valid PER: 91.76, valid mpd_f1: 2.04e-01\n",
      "speechbrain.utils.checkpoints - Saved an end-of-epoch checkpoint in results/whisper_ctc/save/CKPT+2023-11-21+11-41-36+00\n",
      "speechbrain.utils.checkpoints - Deleted checkpoint in results/whisper_ctc/save/CKPT+2023-11-21+11-41-08+00\n",
      "speechbrain.utils.epoch_loop - Going into epoch 81\n"
     ]
    },
    {
     "output_type": "stream",
     "name": "stderr",
     "text": [
      "100%|██████████| 150/150 [00:19<00:00,  7.61it/s, train_loss=2.37]\n",
      "100%|██████████| 75/75 [00:03<00:00, 19.71it/s]\n"
     ]
    },
    {
     "output_type": "stream",
     "name": "stdout",
     "text": [
      "speechbrain.utils.train_logger - epoch: 81, lr_adam: 4.00e-04, lr_whisper: 4.00e-04 - train loss: 2.37 - valid loss: 2.66, valid ctc_loss: 2.66, valid PER: 91.76, valid mpd_f1: 2.05e-01\n",
      "speechbrain.utils.checkpoints - Saved an end-of-epoch checkpoint in results/whisper_ctc/save/CKPT+2023-11-21+11-42-03+00\n",
      "speechbrain.utils.checkpoints - Deleted checkpoint in results/whisper_ctc/save/CKPT+2023-11-21+11-41-36+00\n",
      "speechbrain.utils.epoch_loop - Going into epoch 82\n"
     ]
    },
    {
     "output_type": "stream",
     "name": "stderr",
     "text": [
      "100%|██████████| 150/150 [00:19<00:00,  7.66it/s, train_loss=2.39]\n",
      "100%|██████████| 75/75 [00:03<00:00, 19.54it/s]\n"
     ]
    },
    {
     "output_type": "stream",
     "name": "stdout",
     "text": [
      "speechbrain.utils.train_logger - epoch: 82, lr_adam: 4.00e-04, lr_whisper: 4.00e-04 - train loss: 2.39 - valid loss: 2.60, valid ctc_loss: 2.60, valid PER: 92.17, valid mpd_f1: 2.08e-01\n",
      "speechbrain.utils.checkpoints - Saved an end-of-epoch checkpoint in results/whisper_ctc/save/CKPT+2023-11-21+11-42-31+00\n",
      "speechbrain.utils.checkpoints - Deleted checkpoint in results/whisper_ctc/save/CKPT+2023-11-21+11-42-03+00\n",
      "speechbrain.utils.epoch_loop - Going into epoch 83\n"
     ]
    },
    {
     "output_type": "stream",
     "name": "stderr",
     "text": [
      "100%|██████████| 150/150 [00:19<00:00,  7.66it/s, train_loss=2.37]\n",
      "100%|██████████| 75/75 [00:03<00:00, 19.51it/s]\n"
     ]
    },
    {
     "output_type": "stream",
     "name": "stdout",
     "text": [
      "speechbrain.utils.train_logger - epoch: 83, lr_adam: 4.00e-04, lr_whisper: 4.00e-04 - train loss: 2.37 - valid loss: 2.66, valid ctc_loss: 2.66, valid PER: 92.39, valid mpd_f1: 2.07e-01\n",
      "speechbrain.utils.checkpoints - Saved an end-of-epoch checkpoint in results/whisper_ctc/save/CKPT+2023-11-21+11-42-58+00\n",
      "speechbrain.utils.checkpoints - Deleted checkpoint in results/whisper_ctc/save/CKPT+2023-11-21+11-42-31+00\n",
      "speechbrain.utils.epoch_loop - Going into epoch 84\n"
     ]
    },
    {
     "output_type": "stream",
     "name": "stderr",
     "text": [
      "100%|██████████| 150/150 [00:19<00:00,  7.65it/s, train_loss=2.35]\n",
      "100%|██████████| 75/75 [00:03<00:00, 19.56it/s]\n"
     ]
    },
    {
     "output_type": "stream",
     "name": "stdout",
     "text": [
      "speechbrain.utils.train_logger - epoch: 84, lr_adam: 4.00e-04, lr_whisper: 4.00e-04 - train loss: 2.35 - valid loss: 2.64, valid ctc_loss: 2.64, valid PER: 91.16, valid mpd_f1: 2.07e-01\n",
      "speechbrain.utils.checkpoints - Saved an end-of-epoch checkpoint in results/whisper_ctc/save/CKPT+2023-11-21+11-43-26+00\n",
      "speechbrain.utils.checkpoints - Deleted checkpoint in results/whisper_ctc/save/CKPT+2023-11-21+11-42-58+00\n",
      "speechbrain.utils.epoch_loop - Going into epoch 85\n"
     ]
    },
    {
     "output_type": "stream",
     "name": "stderr",
     "text": [
      "100%|██████████| 150/150 [00:19<00:00,  7.69it/s, train_loss=2.34]\n",
      "100%|██████████| 75/75 [00:03<00:00, 19.57it/s]\n"
     ]
    },
    {
     "output_type": "stream",
     "name": "stdout",
     "text": [
      "speechbrain.utils.train_logger - epoch: 85, lr_adam: 4.00e-04, lr_whisper: 4.00e-04 - train loss: 2.34 - valid loss: 2.63, valid ctc_loss: 2.63, valid PER: 90.78, valid mpd_f1: 2.07e-01\n",
      "speechbrain.utils.checkpoints - Saved an end-of-epoch checkpoint in results/whisper_ctc/save/CKPT+2023-11-21+11-43-53+00\n",
      "speechbrain.utils.checkpoints - Deleted checkpoint in results/whisper_ctc/save/CKPT+2023-11-21+11-43-26+00\n",
      "speechbrain.utils.checkpoints - Deleted checkpoint in results/whisper_ctc/save/CKPT+2023-11-21+11-30-43+00\n",
      "speechbrain.utils.epoch_loop - Going into epoch 86\n"
     ]
    },
    {
     "output_type": "stream",
     "name": "stderr",
     "text": [
      "100%|██████████| 150/150 [00:19<00:00,  7.69it/s, train_loss=2.33]\n",
      "100%|██████████| 75/75 [00:03<00:00, 19.62it/s]\n"
     ]
    },
    {
     "output_type": "stream",
     "name": "stdout",
     "text": [
      "speechbrain.utils.train_logger - epoch: 86, lr_adam: 4.00e-04, lr_whisper: 4.00e-04 - train loss: 2.33 - valid loss: 2.64, valid ctc_loss: 2.64, valid PER: 91.27, valid mpd_f1: 2.08e-01\n",
      "speechbrain.utils.checkpoints - Saved an end-of-epoch checkpoint in results/whisper_ctc/save/CKPT+2023-11-21+11-44-21+00\n",
      "speechbrain.utils.epoch_loop - Going into epoch 87\n"
     ]
    },
    {
     "output_type": "stream",
     "name": "stderr",
     "text": [
      "100%|██████████| 150/150 [00:19<00:00,  7.73it/s, train_loss=2.33]\n",
      "100%|██████████| 75/75 [00:03<00:00, 19.89it/s]\n"
     ]
    },
    {
     "output_type": "stream",
     "name": "stdout",
     "text": [
      "speechbrain.utils.train_logger - epoch: 87, lr_adam: 4.00e-04, lr_whisper: 4.00e-04 - train loss: 2.33 - valid loss: 2.63, valid ctc_loss: 2.63, valid PER: 91.96, valid mpd_f1: 2.06e-01\n",
      "speechbrain.utils.checkpoints - Saved an end-of-epoch checkpoint in results/whisper_ctc/save/CKPT+2023-11-21+11-44-48+00\n",
      "speechbrain.utils.checkpoints - Deleted checkpoint in results/whisper_ctc/save/CKPT+2023-11-21+11-44-21+00\n",
      "speechbrain.utils.epoch_loop - Going into epoch 88\n"
     ]
    },
    {
     "output_type": "stream",
     "name": "stderr",
     "text": [
      "100%|██████████| 150/150 [00:19<00:00,  7.68it/s, train_loss=2.32]\n",
      "100%|██████████| 75/75 [00:03<00:00, 19.90it/s]\n"
     ]
    },
    {
     "output_type": "stream",
     "name": "stdout",
     "text": [
      "speechbrain.utils.train_logger - epoch: 88, lr_adam: 4.00e-04, lr_whisper: 4.00e-04 - train loss: 2.32 - valid loss: 2.63, valid ctc_loss: 2.63, valid PER: 90.87, valid mpd_f1: 2.08e-01\n",
      "speechbrain.utils.checkpoints - Saved an end-of-epoch checkpoint in results/whisper_ctc/save/CKPT+2023-11-21+11-45-15+00\n",
      "speechbrain.utils.checkpoints - Deleted checkpoint in results/whisper_ctc/save/CKPT+2023-11-21+11-39-19+00\n",
      "speechbrain.utils.checkpoints - Deleted checkpoint in results/whisper_ctc/save/CKPT+2023-11-21+11-44-48+00\n",
      "speechbrain.utils.epoch_loop - Going into epoch 89\n"
     ]
    },
    {
     "output_type": "stream",
     "name": "stderr",
     "text": [
      "100%|██████████| 150/150 [00:19<00:00,  7.70it/s, train_loss=2.31]\n",
      "100%|██████████| 75/75 [00:03<00:00, 19.62it/s]\n"
     ]
    },
    {
     "output_type": "stream",
     "name": "stdout",
     "text": [
      "speechbrain.utils.train_logger - epoch: 89, lr_adam: 4.00e-04, lr_whisper: 4.00e-04 - train loss: 2.31 - valid loss: 2.62, valid ctc_loss: 2.62, valid PER: 92.17, valid mpd_f1: 2.07e-01\n",
      "speechbrain.utils.checkpoints - Saved an end-of-epoch checkpoint in results/whisper_ctc/save/CKPT+2023-11-21+11-45-43+00\n",
      "speechbrain.utils.epoch_loop - Going into epoch 90\n"
     ]
    },
    {
     "output_type": "stream",
     "name": "stderr",
     "text": [
      "100%|██████████| 150/150 [00:19<00:00,  7.69it/s, train_loss=2.3]\n",
      "100%|██████████| 75/75 [00:03<00:00, 19.95it/s]\n"
     ]
    },
    {
     "output_type": "stream",
     "name": "stdout",
     "text": [
      "speechbrain.utils.train_logger - epoch: 90, lr_adam: 4.00e-04, lr_whisper: 4.00e-04 - train loss: 2.30 - valid loss: 2.59, valid ctc_loss: 2.59, valid PER: 91.35, valid mpd_f1: 2.07e-01\n",
      "speechbrain.utils.checkpoints - Saved an end-of-epoch checkpoint in results/whisper_ctc/save/CKPT+2023-11-21+11-46-10+00\n",
      "speechbrain.utils.checkpoints - Deleted checkpoint in results/whisper_ctc/save/CKPT+2023-11-21+11-45-43+00\n",
      "speechbrain.utils.epoch_loop - Going into epoch 91\n"
     ]
    },
    {
     "output_type": "stream",
     "name": "stderr",
     "text": [
      "100%|██████████| 150/150 [00:19<00:00,  7.57it/s, train_loss=2.32]\n",
      "100%|██████████| 75/75 [00:03<00:00, 19.76it/s]\n"
     ]
    },
    {
     "output_type": "stream",
     "name": "stdout",
     "text": [
      "speechbrain.utils.train_logger - epoch: 91, lr_adam: 4.00e-04, lr_whisper: 4.00e-04 - train loss: 2.32 - valid loss: 2.59, valid ctc_loss: 2.59, valid PER: 90.90, valid mpd_f1: 2.07e-01\n",
      "speechbrain.utils.checkpoints - Saved an end-of-epoch checkpoint in results/whisper_ctc/save/CKPT+2023-11-21+11-46-38+00\n",
      "speechbrain.utils.checkpoints - Deleted checkpoint in results/whisper_ctc/save/CKPT+2023-11-21+11-46-10+00\n",
      "speechbrain.utils.epoch_loop - Going into epoch 92\n"
     ]
    },
    {
     "output_type": "stream",
     "name": "stderr",
     "text": [
      "100%|██████████| 150/150 [00:19<00:00,  7.64it/s, train_loss=2.32]\n",
      "100%|██████████| 75/75 [00:03<00:00, 19.81it/s]"
     ]
    },
    {
     "output_type": "stream",
     "name": "stdout",
     "text": [
      "speechbrain.utils.train_logger - epoch: 92, lr_adam: 4.00e-04, lr_whisper: 4.00e-04 - train loss: 2.32 - valid loss: 2.62, valid ctc_loss: 2.62, valid PER: 90.80, valid mpd_f1: 2.06e-01\n"
     ]
    },
    {
     "output_type": "stream",
     "name": "stderr",
     "text": [
      "\n"
     ]
    },
    {
     "output_type": "stream",
     "name": "stdout",
     "text": [
      "speechbrain.utils.checkpoints - Saved an end-of-epoch checkpoint in results/whisper_ctc/save/CKPT+2023-11-21+11-47-06+00\n",
      "speechbrain.utils.checkpoints - Deleted checkpoint in results/whisper_ctc/save/CKPT+2023-11-21+11-46-38+00\n",
      "speechbrain.utils.epoch_loop - Going into epoch 93\n"
     ]
    },
    {
     "output_type": "stream",
     "name": "stderr",
     "text": [
      "100%|██████████| 150/150 [00:19<00:00,  7.62it/s, train_loss=2.28]\n",
      "100%|██████████| 75/75 [00:03<00:00, 19.73it/s]\n"
     ]
    },
    {
     "output_type": "stream",
     "name": "stdout",
     "text": [
      "speechbrain.utils.train_logger - epoch: 93, lr_adam: 4.00e-04, lr_whisper: 4.00e-04 - train loss: 2.28 - valid loss: 2.58, valid ctc_loss: 2.58, valid PER: 90.71, valid mpd_f1: 2.08e-01\n",
      "speechbrain.utils.checkpoints - Saved an end-of-epoch checkpoint in results/whisper_ctc/save/CKPT+2023-11-21+11-47-35+00\n",
      "speechbrain.utils.checkpoints - Deleted checkpoint in results/whisper_ctc/save/CKPT+2023-11-21+11-47-06+00\n",
      "speechbrain.utils.checkpoints - Deleted checkpoint in results/whisper_ctc/save/CKPT+2023-11-21+11-43-53+00\n",
      "speechbrain.utils.epoch_loop - Going into epoch 94\n"
     ]
    },
    {
     "output_type": "stream",
     "name": "stderr",
     "text": [
      "100%|██████████| 150/150 [00:19<00:00,  7.63it/s, train_loss=2.33]\n",
      "100%|██████████| 75/75 [00:03<00:00, 19.58it/s]\n"
     ]
    },
    {
     "output_type": "stream",
     "name": "stdout",
     "text": [
      "speechbrain.utils.train_logger - epoch: 94, lr_adam: 4.00e-04, lr_whisper: 4.00e-04 - train loss: 2.33 - valid loss: 2.59, valid ctc_loss: 2.59, valid PER: 90.45, valid mpd_f1: 2.07e-01\n",
      "speechbrain.utils.checkpoints - Saved an end-of-epoch checkpoint in results/whisper_ctc/save/CKPT+2023-11-21+11-48-02+00\n",
      "speechbrain.utils.checkpoints - Deleted checkpoint in results/whisper_ctc/save/CKPT+2023-11-21+11-47-35+00\n",
      "speechbrain.utils.epoch_loop - Going into epoch 95\n"
     ]
    },
    {
     "output_type": "stream",
     "name": "stderr",
     "text": [
      "100%|██████████| 150/150 [00:19<00:00,  7.67it/s, train_loss=2.31]\n",
      "100%|██████████| 75/75 [00:03<00:00, 19.75it/s]\n"
     ]
    },
    {
     "output_type": "stream",
     "name": "stdout",
     "text": [
      "speechbrain.utils.train_logger - epoch: 95, lr_adam: 4.00e-04, lr_whisper: 4.00e-04 - train loss: 2.31 - valid loss: 2.65, valid ctc_loss: 2.65, valid PER: 91.37, valid mpd_f1: 2.07e-01\n",
      "speechbrain.utils.checkpoints - Saved an end-of-epoch checkpoint in results/whisper_ctc/save/CKPT+2023-11-21+11-48-30+00\n",
      "speechbrain.utils.epoch_loop - Going into epoch 96\n"
     ]
    },
    {
     "output_type": "stream",
     "name": "stderr",
     "text": [
      "100%|██████████| 150/150 [00:19<00:00,  7.74it/s, train_loss=2.32]\n",
      "100%|██████████| 75/75 [00:03<00:00, 19.68it/s]\n"
     ]
    },
    {
     "output_type": "stream",
     "name": "stdout",
     "text": [
      "speechbrain.utils.train_logger - epoch: 96, lr_adam: 4.00e-04, lr_whisper: 4.00e-04 - train loss: 2.32 - valid loss: 2.58, valid ctc_loss: 2.58, valid PER: 91.23, valid mpd_f1: 2.07e-01\n",
      "speechbrain.utils.checkpoints - Saved an end-of-epoch checkpoint in results/whisper_ctc/save/CKPT+2023-11-21+11-48-56+00\n",
      "speechbrain.utils.checkpoints - Deleted checkpoint in results/whisper_ctc/save/CKPT+2023-11-21+11-48-30+00\n",
      "speechbrain.utils.epoch_loop - Going into epoch 97\n"
     ]
    },
    {
     "output_type": "stream",
     "name": "stderr",
     "text": [
      "100%|██████████| 150/150 [00:19<00:00,  7.62it/s, train_loss=2.32]\n",
      "100%|██████████| 75/75 [00:03<00:00, 19.74it/s]\n"
     ]
    },
    {
     "output_type": "stream",
     "name": "stdout",
     "text": [
      "speechbrain.utils.train_logger - epoch: 97, lr_adam: 4.00e-04, lr_whisper: 4.00e-04 - train loss: 2.32 - valid loss: 2.56, valid ctc_loss: 2.56, valid PER: 90.67, valid mpd_f1: 2.07e-01\n",
      "speechbrain.utils.checkpoints - Saved an end-of-epoch checkpoint in results/whisper_ctc/save/CKPT+2023-11-21+11-49-24+00\n",
      "speechbrain.utils.checkpoints - Deleted checkpoint in results/whisper_ctc/save/CKPT+2023-11-21+11-48-56+00\n",
      "speechbrain.utils.epoch_loop - Going into epoch 98\n"
     ]
    },
    {
     "output_type": "stream",
     "name": "stderr",
     "text": [
      "100%|██████████| 150/150 [00:19<00:00,  7.59it/s, train_loss=2.27]\n",
      "100%|██████████| 75/75 [00:03<00:00, 19.71it/s]\n"
     ]
    },
    {
     "output_type": "stream",
     "name": "stdout",
     "text": [
      "speechbrain.utils.train_logger - epoch: 98, lr_adam: 4.00e-04, lr_whisper: 4.00e-04 - train loss: 2.27 - valid loss: 2.59, valid ctc_loss: 2.59, valid PER: 90.70, valid mpd_f1: 2.07e-01\n",
      "speechbrain.utils.checkpoints - Saved an end-of-epoch checkpoint in results/whisper_ctc/save/CKPT+2023-11-21+11-49-53+00\n",
      "speechbrain.utils.checkpoints - Deleted checkpoint in results/whisper_ctc/save/CKPT+2023-11-21+11-49-24+00\n",
      "speechbrain.utils.epoch_loop - Going into epoch 99\n"
     ]
    },
    {
     "output_type": "stream",
     "name": "stderr",
     "text": [
      "100%|██████████| 150/150 [00:19<00:00,  7.65it/s, train_loss=2.26]\n",
      "100%|██████████| 75/75 [00:03<00:00, 19.71it/s]\n"
     ]
    },
    {
     "output_type": "stream",
     "name": "stdout",
     "text": [
      "speechbrain.utils.train_logger - epoch: 99, lr_adam: 4.00e-04, lr_whisper: 4.00e-04 - train loss: 2.26 - valid loss: 2.64, valid ctc_loss: 2.64, valid PER: 90.22, valid mpd_f1: 2.06e-01\n",
      "speechbrain.utils.checkpoints - Saved an end-of-epoch checkpoint in results/whisper_ctc/save/CKPT+2023-11-21+11-50-20+00\n",
      "speechbrain.utils.checkpoints - Deleted checkpoint in results/whisper_ctc/save/CKPT+2023-11-21+11-49-53+00\n",
      "speechbrain.utils.checkpoints - Deleted checkpoint in results/whisper_ctc/save/CKPT+2023-11-21+11-48-02+00\n",
      "speechbrain.utils.epoch_loop - Going into epoch 100\n"
     ]
    },
    {
     "output_type": "stream",
     "name": "stderr",
     "text": [
      "100%|██████████| 150/150 [00:19<00:00,  7.59it/s, train_loss=2.26]\n",
      "100%|██████████| 75/75 [00:03<00:00, 19.78it/s]\n"
     ]
    },
    {
     "output_type": "stream",
     "name": "stdout",
     "text": [
      "speechbrain.utils.train_logger - epoch: 100, lr_adam: 4.00e-04, lr_whisper: 4.00e-04 - train loss: 2.26 - valid loss: 2.63, valid ctc_loss: 2.63, valid PER: 90.32, valid mpd_f1: 2.06e-01\n",
      "speechbrain.utils.checkpoints - Saved an end-of-epoch checkpoint in results/whisper_ctc/save/CKPT+2023-11-21+11-50-49+00\n",
      "speechbrain.utils.epoch_loop - Going into epoch 101\n"
     ]
    },
    {
     "output_type": "stream",
     "name": "stderr",
     "text": [
      "100%|██████████| 150/150 [00:19<00:00,  7.64it/s, train_loss=2.26]\n",
      "100%|██████████| 75/75 [00:03<00:00, 19.72it/s]\n"
     ]
    },
    {
     "output_type": "stream",
     "name": "stdout",
     "text": [
      "speechbrain.utils.train_logger - epoch: 101, lr_adam: 4.00e-04, lr_whisper: 4.00e-04 - train loss: 2.26 - valid loss: 2.65, valid ctc_loss: 2.65, valid PER: 90.94, valid mpd_f1: 2.06e-01\n",
      "speechbrain.utils.checkpoints - Saved an end-of-epoch checkpoint in results/whisper_ctc/save/CKPT+2023-11-21+11-51-17+00\n",
      "speechbrain.utils.checkpoints - Deleted checkpoint in results/whisper_ctc/save/CKPT+2023-11-21+11-50-49+00\n",
      "speechbrain.utils.epoch_loop - Going into epoch 102\n"
     ]
    },
    {
     "output_type": "stream",
     "name": "stderr",
     "text": [
      "100%|██████████| 150/150 [00:19<00:00,  7.53it/s, train_loss=2.27]\n",
      "100%|██████████| 75/75 [00:03<00:00, 19.60it/s]\n"
     ]
    },
    {
     "output_type": "stream",
     "name": "stdout",
     "text": [
      "speechbrain.utils.train_logger - epoch: 102, lr_adam: 4.00e-04, lr_whisper: 4.00e-04 - train loss: 2.27 - valid loss: 2.59, valid ctc_loss: 2.59, valid PER: 90.78, valid mpd_f1: 2.07e-01\n",
      "speechbrain.utils.checkpoints - Saved an end-of-epoch checkpoint in results/whisper_ctc/save/CKPT+2023-11-21+11-51-46+00\n",
      "speechbrain.utils.checkpoints - Deleted checkpoint in results/whisper_ctc/save/CKPT+2023-11-21+11-51-17+00\n",
      "speechbrain.utils.epoch_loop - Going into epoch 103\n"
     ]
    },
    {
     "output_type": "stream",
     "name": "stderr",
     "text": [
      "100%|██████████| 150/150 [00:19<00:00,  7.64it/s, train_loss=2.28]\n",
      "100%|██████████| 75/75 [00:03<00:00, 19.60it/s]\n"
     ]
    },
    {
     "output_type": "stream",
     "name": "stdout",
     "text": [
      "speechbrain.utils.train_logger - epoch: 103, lr_adam: 4.00e-04, lr_whisper: 4.00e-04 - train loss: 2.28 - valid loss: 2.59, valid ctc_loss: 2.59, valid PER: 89.57, valid mpd_f1: 2.07e-01\n",
      "speechbrain.utils.checkpoints - Saved an end-of-epoch checkpoint in results/whisper_ctc/save/CKPT+2023-11-21+11-52-13+00\n",
      "speechbrain.utils.checkpoints - Deleted checkpoint in results/whisper_ctc/save/CKPT+2023-11-21+11-50-20+00\n",
      "speechbrain.utils.checkpoints - Deleted checkpoint in results/whisper_ctc/save/CKPT+2023-11-21+11-51-46+00\n",
      "speechbrain.utils.epoch_loop - Going into epoch 104\n"
     ]
    },
    {
     "output_type": "stream",
     "name": "stderr",
     "text": [
      "100%|██████████| 150/150 [00:19<00:00,  7.57it/s, train_loss=2.26]\n",
      "100%|██████████| 75/75 [00:03<00:00, 19.64it/s]\n"
     ]
    },
    {
     "output_type": "stream",
     "name": "stdout",
     "text": [
      "speechbrain.utils.train_logger - epoch: 104, lr_adam: 4.00e-04, lr_whisper: 4.00e-04 - train loss: 2.26 - valid loss: 2.61, valid ctc_loss: 2.61, valid PER: 90.27, valid mpd_f1: 2.06e-01\n",
      "speechbrain.utils.checkpoints - Saved an end-of-epoch checkpoint in results/whisper_ctc/save/CKPT+2023-11-21+11-52-41+00\n",
      "speechbrain.utils.epoch_loop - Going into epoch 105\n"
     ]
    },
    {
     "output_type": "stream",
     "name": "stderr",
     "text": [
      "100%|██████████| 150/150 [00:19<00:00,  7.63it/s, train_loss=2.26]\n",
      "100%|██████████| 75/75 [00:03<00:00, 19.66it/s]\n"
     ]
    },
    {
     "output_type": "stream",
     "name": "stdout",
     "text": [
      "speechbrain.utils.train_logger - epoch: 105, lr_adam: 4.00e-04, lr_whisper: 4.00e-04 - train loss: 2.26 - valid loss: 2.61, valid ctc_loss: 2.61, valid PER: 90.63, valid mpd_f1: 2.06e-01\n",
      "speechbrain.utils.checkpoints - Saved an end-of-epoch checkpoint in results/whisper_ctc/save/CKPT+2023-11-21+11-53-09+00\n",
      "speechbrain.utils.checkpoints - Deleted checkpoint in results/whisper_ctc/save/CKPT+2023-11-21+11-52-41+00\n",
      "speechbrain.utils.epoch_loop - Going into epoch 106\n"
     ]
    },
    {
     "output_type": "stream",
     "name": "stderr",
     "text": [
      "100%|██████████| 150/150 [00:19<00:00,  7.67it/s, train_loss=2.27]\n",
      "100%|██████████| 75/75 [00:03<00:00, 19.68it/s]\n"
     ]
    },
    {
     "output_type": "stream",
     "name": "stdout",
     "text": [
      "speechbrain.utils.train_logger - epoch: 106, lr_adam: 4.00e-04, lr_whisper: 4.00e-04 - train loss: 2.27 - valid loss: 2.60, valid ctc_loss: 2.60, valid PER: 90.34, valid mpd_f1: 2.05e-01\n",
      "speechbrain.utils.checkpoints - Saved an end-of-epoch checkpoint in results/whisper_ctc/save/CKPT+2023-11-21+11-53-37+00\n",
      "speechbrain.utils.checkpoints - Deleted checkpoint in results/whisper_ctc/save/CKPT+2023-11-21+11-53-09+00\n",
      "speechbrain.utils.epoch_loop - Going into epoch 107\n"
     ]
    },
    {
     "output_type": "stream",
     "name": "stderr",
     "text": [
      "100%|██████████| 150/150 [00:19<00:00,  7.61it/s, train_loss=2.25]\n",
      "100%|██████████| 75/75 [00:03<00:00, 19.54it/s]\n"
     ]
    },
    {
     "output_type": "stream",
     "name": "stdout",
     "text": [
      "speechbrain.utils.train_logger - epoch: 107, lr_adam: 4.00e-04, lr_whisper: 4.00e-04 - train loss: 2.25 - valid loss: 2.65, valid ctc_loss: 2.65, valid PER: 90.27, valid mpd_f1: 2.07e-01\n",
      "speechbrain.utils.checkpoints - Saved an end-of-epoch checkpoint in results/whisper_ctc/save/CKPT+2023-11-21+11-54-05+00\n",
      "speechbrain.utils.checkpoints - Deleted checkpoint in results/whisper_ctc/save/CKPT+2023-11-21+11-53-37+00\n",
      "speechbrain.utils.epoch_loop - Going into epoch 108\n"
     ]
    },
    {
     "output_type": "stream",
     "name": "stderr",
     "text": [
      "100%|██████████| 150/150 [00:19<00:00,  7.58it/s, train_loss=2.26]\n",
      "100%|██████████| 75/75 [00:03<00:00, 19.68it/s]\n"
     ]
    },
    {
     "output_type": "stream",
     "name": "stdout",
     "text": [
      "speechbrain.utils.train_logger - epoch: 108, lr_adam: 4.00e-04, lr_whisper: 4.00e-04 - train loss: 2.26 - valid loss: 2.60, valid ctc_loss: 2.60, valid PER: 90.98, valid mpd_f1: 2.05e-01\n",
      "speechbrain.utils.checkpoints - Saved an end-of-epoch checkpoint in results/whisper_ctc/save/CKPT+2023-11-21+11-54-33+00\n",
      "speechbrain.utils.checkpoints - Deleted checkpoint in results/whisper_ctc/save/CKPT+2023-11-21+11-54-05+00\n",
      "speechbrain.utils.epoch_loop - Going into epoch 109\n"
     ]
    },
    {
     "output_type": "stream",
     "name": "stderr",
     "text": [
      "100%|██████████| 150/150 [00:19<00:00,  7.55it/s, train_loss=2.23]\n",
      "100%|██████████| 75/75 [00:04<00:00, 18.45it/s]"
     ]
    },
    {
     "output_type": "stream",
     "name": "stdout",
     "text": [
      "speechbrain.utils.train_logger - epoch: 109, lr_adam: 4.00e-04, lr_whisper: 4.00e-04 - train loss: 2.23 - valid loss: 2.59, valid ctc_loss: 2.59, valid PER: 91.03, valid mpd_f1: 2.07e-01\n"
     ]
    },
    {
     "output_type": "stream",
     "name": "stderr",
     "text": [
      "\n"
     ]
    },
    {
     "output_type": "stream",
     "name": "stdout",
     "text": [
      "speechbrain.utils.checkpoints - Saved an end-of-epoch checkpoint in results/whisper_ctc/save/CKPT+2023-11-21+11-55-02+00\n",
      "speechbrain.utils.checkpoints - Deleted checkpoint in results/whisper_ctc/save/CKPT+2023-11-21+11-54-33+00\n",
      "speechbrain.utils.epoch_loop - Going into epoch 110\n"
     ]
    },
    {
     "output_type": "stream",
     "name": "stderr",
     "text": [
      "100%|██████████| 150/150 [00:19<00:00,  7.57it/s, train_loss=2.25]\n",
      "100%|██████████| 75/75 [00:03<00:00, 19.48it/s]\n"
     ]
    },
    {
     "output_type": "stream",
     "name": "stdout",
     "text": [
      "speechbrain.utils.train_logger - epoch: 110, lr_adam: 4.00e-04, lr_whisper: 4.00e-04 - train loss: 2.25 - valid loss: 2.60, valid ctc_loss: 2.60, valid PER: 90.91, valid mpd_f1: 2.06e-01\n",
      "speechbrain.utils.checkpoints - Saved an end-of-epoch checkpoint in results/whisper_ctc/save/CKPT+2023-11-21+11-55-30+00\n",
      "speechbrain.utils.checkpoints - Deleted checkpoint in results/whisper_ctc/save/CKPT+2023-11-21+11-55-02+00\n",
      "speechbrain.utils.epoch_loop - Going into epoch 111\n"
     ]
    },
    {
     "output_type": "stream",
     "name": "stderr",
     "text": [
      "100%|██████████| 150/150 [00:19<00:00,  7.64it/s, train_loss=2.27]\n",
      "100%|██████████| 75/75 [00:03<00:00, 19.65it/s]\n"
     ]
    },
    {
     "output_type": "stream",
     "name": "stdout",
     "text": [
      "speechbrain.utils.train_logger - epoch: 111, lr_adam: 4.00e-04, lr_whisper: 4.00e-04 - train loss: 2.27 - valid loss: 2.62, valid ctc_loss: 2.62, valid PER: 91.90, valid mpd_f1: 2.04e-01\n",
      "speechbrain.utils.checkpoints - Saved an end-of-epoch checkpoint in results/whisper_ctc/save/CKPT+2023-11-21+11-55-58+00\n",
      "speechbrain.utils.checkpoints - Deleted checkpoint in results/whisper_ctc/save/CKPT+2023-11-21+11-55-30+00\n",
      "speechbrain.utils.epoch_loop - Going into epoch 112\n"
     ]
    },
    {
     "output_type": "stream",
     "name": "stderr",
     "text": [
      "100%|██████████| 150/150 [00:19<00:00,  7.68it/s, train_loss=2.26]\n",
      "100%|██████████| 75/75 [00:03<00:00, 19.67it/s]\n"
     ]
    },
    {
     "output_type": "stream",
     "name": "stdout",
     "text": [
      "speechbrain.utils.train_logger - epoch: 112, lr_adam: 4.00e-04, lr_whisper: 4.00e-04 - train loss: 2.26 - valid loss: 2.56, valid ctc_loss: 2.56, valid PER: 89.43, valid mpd_f1: 2.06e-01\n",
      "speechbrain.utils.checkpoints - Saved an end-of-epoch checkpoint in results/whisper_ctc/save/CKPT+2023-11-21+11-56-26+00\n",
      "speechbrain.utils.checkpoints - Deleted checkpoint in results/whisper_ctc/save/CKPT+2023-11-21+11-55-58+00\n",
      "speechbrain.utils.checkpoints - Deleted checkpoint in results/whisper_ctc/save/CKPT+2023-11-21+11-52-13+00\n",
      "speechbrain.utils.epoch_loop - Going into epoch 113\n"
     ]
    },
    {
     "output_type": "stream",
     "name": "stderr",
     "text": [
      "100%|██████████| 150/150 [00:19<00:00,  7.60it/s, train_loss=2.26]\n",
      "100%|██████████| 75/75 [00:03<00:00, 19.48it/s]\n"
     ]
    },
    {
     "output_type": "stream",
     "name": "stdout",
     "text": [
      "speechbrain.utils.train_logger - epoch: 113, lr_adam: 4.00e-04, lr_whisper: 4.00e-04 - train loss: 2.26 - valid loss: 2.52, valid ctc_loss: 2.52, valid PER: 89.50, valid mpd_f1: 2.07e-01\n",
      "speechbrain.utils.checkpoints - Saved an end-of-epoch checkpoint in results/whisper_ctc/save/CKPT+2023-11-21+11-56-55+00\n",
      "speechbrain.utils.epoch_loop - Going into epoch 114\n"
     ]
    },
    {
     "output_type": "stream",
     "name": "stderr",
     "text": [
      "100%|██████████| 150/150 [00:19<00:00,  7.58it/s, train_loss=2.26]\n",
      "100%|██████████| 75/75 [00:03<00:00, 19.34it/s]\n"
     ]
    },
    {
     "output_type": "stream",
     "name": "stdout",
     "text": [
      "speechbrain.utils.train_logger - epoch: 114, lr_adam: 4.00e-04, lr_whisper: 4.00e-04 - train loss: 2.26 - valid loss: 2.51, valid ctc_loss: 2.51, valid PER: 89.81, valid mpd_f1: 2.09e-01\n",
      "speechbrain.utils.checkpoints - Saved an end-of-epoch checkpoint in results/whisper_ctc/save/CKPT+2023-11-21+11-57-22+00\n",
      "speechbrain.utils.checkpoints - Deleted checkpoint in results/whisper_ctc/save/CKPT+2023-11-21+11-56-55+00\n",
      "speechbrain.utils.checkpoints - Deleted checkpoint in results/whisper_ctc/save/CKPT+2023-11-21+11-45-15+00\n",
      "speechbrain.utils.epoch_loop - Going into epoch 115\n"
     ]
    },
    {
     "output_type": "stream",
     "name": "stderr",
     "text": [
      "100%|██████████| 150/150 [00:19<00:00,  7.61it/s, train_loss=2.24]\n",
      "100%|██████████| 75/75 [00:03<00:00, 19.41it/s]\n"
     ]
    },
    {
     "output_type": "stream",
     "name": "stdout",
     "text": [
      "speechbrain.utils.train_logger - epoch: 115, lr_adam: 4.00e-04, lr_whisper: 4.00e-04 - train loss: 2.24 - valid loss: 2.54, valid ctc_loss: 2.54, valid PER: 90.78, valid mpd_f1: 2.07e-01\n",
      "speechbrain.utils.checkpoints - Saved an end-of-epoch checkpoint in results/whisper_ctc/save/CKPT+2023-11-21+11-57-51+00\n",
      "speechbrain.utils.epoch_loop - Going into epoch 116\n"
     ]
    },
    {
     "output_type": "stream",
     "name": "stderr",
     "text": [
      "100%|██████████| 150/150 [00:19<00:00,  7.64it/s, train_loss=2.27]\n",
      "100%|██████████| 75/75 [00:03<00:00, 19.57it/s]\n"
     ]
    },
    {
     "output_type": "stream",
     "name": "stdout",
     "text": [
      "speechbrain.utils.train_logger - epoch: 116, lr_adam: 4.00e-04, lr_whisper: 4.00e-04 - train loss: 2.27 - valid loss: 2.55, valid ctc_loss: 2.55, valid PER: 90.20, valid mpd_f1: 2.05e-01\n",
      "speechbrain.utils.checkpoints - Saved an end-of-epoch checkpoint in results/whisper_ctc/save/CKPT+2023-11-21+11-58-18+00\n",
      "speechbrain.utils.checkpoints - Deleted checkpoint in results/whisper_ctc/save/CKPT+2023-11-21+11-57-51+00\n",
      "speechbrain.utils.epoch_loop - Going into epoch 117\n"
     ]
    },
    {
     "output_type": "stream",
     "name": "stderr",
     "text": [
      "100%|██████████| 150/150 [00:19<00:00,  7.61it/s, train_loss=2.26]\n",
      "100%|██████████| 75/75 [00:03<00:00, 19.48it/s]\n"
     ]
    },
    {
     "output_type": "stream",
     "name": "stdout",
     "text": [
      "speechbrain.utils.train_logger - epoch: 117, lr_adam: 4.00e-04, lr_whisper: 4.00e-04 - train loss: 2.26 - valid loss: 2.53, valid ctc_loss: 2.53, valid PER: 89.57, valid mpd_f1: 2.05e-01\n",
      "speechbrain.utils.checkpoints - Saved an end-of-epoch checkpoint in results/whisper_ctc/save/CKPT+2023-11-21+11-58-47+00\n",
      "speechbrain.utils.checkpoints - Deleted checkpoint in results/whisper_ctc/save/CKPT+2023-11-21+11-58-18+00\n",
      "speechbrain.utils.epoch_loop - Going into epoch 118\n"
     ]
    },
    {
     "output_type": "stream",
     "name": "stderr",
     "text": [
      "100%|██████████| 150/150 [00:19<00:00,  7.60it/s, train_loss=2.25]\n",
      "100%|██████████| 75/75 [00:03<00:00, 19.48it/s]\n"
     ]
    },
    {
     "output_type": "stream",
     "name": "stdout",
     "text": [
      "speechbrain.utils.train_logger - epoch: 118, lr_adam: 4.00e-04, lr_whisper: 4.00e-04 - train loss: 2.25 - valid loss: 2.55, valid ctc_loss: 2.55, valid PER: 90.00, valid mpd_f1: 2.06e-01\n",
      "speechbrain.utils.checkpoints - Saved an end-of-epoch checkpoint in results/whisper_ctc/save/CKPT+2023-11-21+11-59-15+00\n",
      "speechbrain.utils.checkpoints - Deleted checkpoint in results/whisper_ctc/save/CKPT+2023-11-21+11-58-47+00\n",
      "speechbrain.utils.epoch_loop - Going into epoch 119\n"
     ]
    },
    {
     "output_type": "stream",
     "name": "stderr",
     "text": [
      "100%|██████████| 150/150 [00:19<00:00,  7.66it/s, train_loss=2.25]\n",
      "100%|██████████| 75/75 [00:03<00:00, 19.55it/s]\n"
     ]
    },
    {
     "output_type": "stream",
     "name": "stdout",
     "text": [
      "speechbrain.utils.train_logger - epoch: 119, lr_adam: 4.00e-04, lr_whisper: 4.00e-04 - train loss: 2.25 - valid loss: 2.54, valid ctc_loss: 2.54, valid PER: 90.55, valid mpd_f1: 2.03e-01\n",
      "speechbrain.utils.checkpoints - Saved an end-of-epoch checkpoint in results/whisper_ctc/save/CKPT+2023-11-21+11-59-43+00\n",
      "speechbrain.utils.checkpoints - Deleted checkpoint in results/whisper_ctc/save/CKPT+2023-11-21+11-59-15+00\n",
      "speechbrain.utils.epoch_loop - Going into epoch 120\n"
     ]
    },
    {
     "output_type": "stream",
     "name": "stderr",
     "text": [
      "100%|██████████| 150/150 [00:19<00:00,  7.56it/s, train_loss=2.26]\n",
      "100%|██████████| 75/75 [00:03<00:00, 19.53it/s]\n"
     ]
    },
    {
     "output_type": "stream",
     "name": "stdout",
     "text": [
      "speechbrain.utils.train_logger - epoch: 120, lr_adam: 4.00e-04, lr_whisper: 4.00e-04 - train loss: 2.26 - valid loss: 2.51, valid ctc_loss: 2.51, valid PER: 89.87, valid mpd_f1: 2.04e-01\n",
      "speechbrain.utils.checkpoints - Saved an end-of-epoch checkpoint in results/whisper_ctc/save/CKPT+2023-11-21+12-00-12+00\n",
      "speechbrain.utils.checkpoints - Deleted checkpoint in results/whisper_ctc/save/CKPT+2023-11-21+11-59-43+00\n",
      "speechbrain.utils.epoch_loop - Going into epoch 121\n"
     ]
    },
    {
     "output_type": "stream",
     "name": "stderr",
     "text": [
      "100%|██████████| 150/150 [00:19<00:00,  7.58it/s, train_loss=2.27]\n",
      "100%|██████████| 75/75 [00:03<00:00, 19.34it/s]\n"
     ]
    },
    {
     "output_type": "stream",
     "name": "stdout",
     "text": [
      "speechbrain.utils.train_logger - epoch: 121, lr_adam: 4.00e-04, lr_whisper: 4.00e-04 - train loss: 2.27 - valid loss: 2.53, valid ctc_loss: 2.53, valid PER: 90.41, valid mpd_f1: 2.06e-01\n",
      "speechbrain.utils.checkpoints - Saved an end-of-epoch checkpoint in results/whisper_ctc/save/CKPT+2023-11-21+12-00-41+00\n",
      "speechbrain.utils.checkpoints - Deleted checkpoint in results/whisper_ctc/save/CKPT+2023-11-21+12-00-12+00\n",
      "speechbrain.utils.epoch_loop - Going into epoch 122\n"
     ]
    },
    {
     "output_type": "stream",
     "name": "stderr",
     "text": [
      "100%|██████████| 150/150 [00:19<00:00,  7.63it/s, train_loss=2.21]\n",
      "100%|██████████| 75/75 [00:03<00:00, 19.54it/s]\n"
     ]
    },
    {
     "output_type": "stream",
     "name": "stdout",
     "text": [
      "speechbrain.utils.train_logger - epoch: 122, lr_adam: 4.00e-04, lr_whisper: 4.00e-04 - train loss: 2.21 - valid loss: 2.57, valid ctc_loss: 2.57, valid PER: 89.79, valid mpd_f1: 2.04e-01\n",
      "speechbrain.utils.checkpoints - Saved an end-of-epoch checkpoint in results/whisper_ctc/save/CKPT+2023-11-21+12-01-10+00\n",
      "speechbrain.utils.checkpoints - Deleted checkpoint in results/whisper_ctc/save/CKPT+2023-11-21+12-00-41+00\n",
      "speechbrain.utils.epoch_loop - Going into epoch 123\n"
     ]
    },
    {
     "output_type": "stream",
     "name": "stderr",
     "text": [
      "100%|██████████| 150/150 [00:19<00:00,  7.59it/s, train_loss=2.25]\n",
      "100%|██████████| 75/75 [00:03<00:00, 19.61it/s]\n"
     ]
    },
    {
     "output_type": "stream",
     "name": "stdout",
     "text": [
      "speechbrain.utils.train_logger - epoch: 123, lr_adam: 4.00e-04, lr_whisper: 4.00e-04 - train loss: 2.25 - valid loss: 2.51, valid ctc_loss: 2.51, valid PER: 89.20, valid mpd_f1: 2.05e-01\n",
      "speechbrain.utils.checkpoints - Saved an end-of-epoch checkpoint in results/whisper_ctc/save/CKPT+2023-11-21+12-01-38+00\n",
      "speechbrain.utils.checkpoints - Deleted checkpoint in results/whisper_ctc/save/CKPT+2023-11-21+11-56-26+00\n",
      "speechbrain.utils.checkpoints - Deleted checkpoint in results/whisper_ctc/save/CKPT+2023-11-21+12-01-10+00\n",
      "speechbrain.utils.epoch_loop - Going into epoch 124\n"
     ]
    },
    {
     "output_type": "stream",
     "name": "stderr",
     "text": [
      "100%|██████████| 150/150 [00:19<00:00,  7.56it/s, train_loss=2.23]\n",
      "100%|██████████| 75/75 [00:03<00:00, 19.49it/s]"
     ]
    },
    {
     "output_type": "stream",
     "name": "stdout",
     "text": [
      "speechbrain.utils.train_logger - epoch: 124, lr_adam: 4.00e-04, lr_whisper: 4.00e-04 - train loss: 2.23 - valid loss: 2.52, valid ctc_loss: 2.52, valid PER: 89.77, valid mpd_f1: 2.06e-01\n"
     ]
    },
    {
     "output_type": "stream",
     "name": "stderr",
     "text": [
      "\n"
     ]
    },
    {
     "output_type": "stream",
     "name": "stdout",
     "text": [
      "speechbrain.utils.checkpoints - Saved an end-of-epoch checkpoint in results/whisper_ctc/save/CKPT+2023-11-21+12-02-07+00\n",
      "speechbrain.utils.epoch_loop - Going into epoch 125\n"
     ]
    },
    {
     "output_type": "stream",
     "name": "stderr",
     "text": [
      "100%|██████████| 150/150 [00:19<00:00,  7.66it/s, train_loss=2.25]\n",
      "100%|██████████| 75/75 [00:03<00:00, 19.50it/s]\n"
     ]
    },
    {
     "output_type": "stream",
     "name": "stdout",
     "text": [
      "speechbrain.utils.train_logger - epoch: 125, lr_adam: 4.00e-04, lr_whisper: 4.00e-04 - train loss: 2.25 - valid loss: 2.60, valid ctc_loss: 2.60, valid PER: 88.92, valid mpd_f1: 2.05e-01\n",
      "speechbrain.utils.checkpoints - Saved an end-of-epoch checkpoint in results/whisper_ctc/save/CKPT+2023-11-21+12-02-34+00\n",
      "speechbrain.utils.checkpoints - Deleted checkpoint in results/whisper_ctc/save/CKPT+2023-11-21+12-01-38+00\n",
      "speechbrain.utils.checkpoints - Deleted checkpoint in results/whisper_ctc/save/CKPT+2023-11-21+12-02-07+00\n",
      "speechbrain.utils.epoch_loop - Going into epoch 126\n"
     ]
    },
    {
     "output_type": "stream",
     "name": "stderr",
     "text": [
      "100%|██████████| 150/150 [00:19<00:00,  7.68it/s, train_loss=2.23]\n",
      "100%|██████████| 75/75 [00:03<00:00, 19.44it/s]\n"
     ]
    },
    {
     "output_type": "stream",
     "name": "stdout",
     "text": [
      "speechbrain.utils.train_logger - epoch: 126, lr_adam: 4.00e-04, lr_whisper: 4.00e-04 - train loss: 2.23 - valid loss: 2.51, valid ctc_loss: 2.51, valid PER: 89.82, valid mpd_f1: 2.05e-01\n",
      "speechbrain.utils.checkpoints - Saved an end-of-epoch checkpoint in results/whisper_ctc/save/CKPT+2023-11-21+12-03-03+00\n",
      "speechbrain.utils.epoch_loop - Going into epoch 127\n"
     ]
    },
    {
     "output_type": "stream",
     "name": "stderr",
     "text": [
      "100%|██████████| 150/150 [00:19<00:00,  7.64it/s, train_loss=2.22]\n",
      "100%|██████████| 75/75 [00:03<00:00, 19.65it/s]\n"
     ]
    },
    {
     "output_type": "stream",
     "name": "stdout",
     "text": [
      "speechbrain.utils.train_logger - epoch: 127, lr_adam: 4.00e-04, lr_whisper: 4.00e-04 - train loss: 2.22 - valid loss: 2.59, valid ctc_loss: 2.59, valid PER: 90.28, valid mpd_f1: 2.05e-01\n",
      "speechbrain.utils.checkpoints - Saved an end-of-epoch checkpoint in results/whisper_ctc/save/CKPT+2023-11-21+12-03-30+00\n",
      "speechbrain.utils.checkpoints - Deleted checkpoint in results/whisper_ctc/save/CKPT+2023-11-21+12-03-03+00\n",
      "speechbrain.utils.epoch_loop - Going into epoch 128\n"
     ]
    },
    {
     "output_type": "stream",
     "name": "stderr",
     "text": [
      "100%|██████████| 150/150 [00:19<00:00,  7.65it/s, train_loss=2.25]\n",
      "100%|██████████| 75/75 [00:03<00:00, 19.60it/s]\n"
     ]
    },
    {
     "output_type": "stream",
     "name": "stdout",
     "text": [
      "speechbrain.utils.train_logger - epoch: 128, lr_adam: 4.00e-04, lr_whisper: 4.00e-04 - train loss: 2.25 - valid loss: 2.52, valid ctc_loss: 2.52, valid PER: 89.08, valid mpd_f1: 2.06e-01\n",
      "speechbrain.utils.checkpoints - Saved an end-of-epoch checkpoint in results/whisper_ctc/save/CKPT+2023-11-21+12-03-58+00\n",
      "speechbrain.utils.checkpoints - Deleted checkpoint in results/whisper_ctc/save/CKPT+2023-11-21+12-03-30+00\n",
      "speechbrain.utils.epoch_loop - Going into epoch 129\n"
     ]
    },
    {
     "output_type": "stream",
     "name": "stderr",
     "text": [
      "100%|██████████| 150/150 [00:19<00:00,  7.69it/s, train_loss=2.26]\n",
      "100%|██████████| 75/75 [00:04<00:00, 18.45it/s]\n"
     ]
    },
    {
     "output_type": "stream",
     "name": "stdout",
     "text": [
      "speechbrain.utils.train_logger - epoch: 129, lr_adam: 4.00e-04, lr_whisper: 4.00e-04 - train loss: 2.26 - valid loss: 2.52, valid ctc_loss: 2.52, valid PER: 90.44, valid mpd_f1: 2.05e-01\n",
      "speechbrain.utils.checkpoints - Saved an end-of-epoch checkpoint in results/whisper_ctc/save/CKPT+2023-11-21+12-04-27+00\n",
      "speechbrain.utils.checkpoints - Deleted checkpoint in results/whisper_ctc/save/CKPT+2023-11-21+12-03-58+00\n",
      "speechbrain.utils.epoch_loop - Going into epoch 130\n"
     ]
    },
    {
     "output_type": "stream",
     "name": "stderr",
     "text": [
      "100%|██████████| 150/150 [00:19<00:00,  7.65it/s, train_loss=2.25]\n",
      "100%|██████████| 75/75 [00:03<00:00, 19.66it/s]\n"
     ]
    },
    {
     "output_type": "stream",
     "name": "stdout",
     "text": [
      "speechbrain.utils.train_logger - epoch: 130, lr_adam: 4.00e-04, lr_whisper: 4.00e-04 - train loss: 2.25 - valid loss: 2.52, valid ctc_loss: 2.52, valid PER: 90.12, valid mpd_f1: 2.05e-01\n",
      "speechbrain.utils.checkpoints - Saved an end-of-epoch checkpoint in results/whisper_ctc/save/CKPT+2023-11-21+12-04-56+00\n",
      "speechbrain.utils.checkpoints - Deleted checkpoint in results/whisper_ctc/save/CKPT+2023-11-21+12-04-27+00\n",
      "speechbrain.utils.epoch_loop - Going into epoch 131\n"
     ]
    },
    {
     "output_type": "stream",
     "name": "stderr",
     "text": [
      "100%|██████████| 150/150 [00:19<00:00,  7.70it/s, train_loss=2.26]\n",
      "100%|██████████| 75/75 [00:03<00:00, 19.57it/s]\n"
     ]
    },
    {
     "output_type": "stream",
     "name": "stdout",
     "text": [
      "speechbrain.utils.train_logger - epoch: 131, lr_adam: 4.00e-04, lr_whisper: 4.00e-04 - train loss: 2.26 - valid loss: 2.54, valid ctc_loss: 2.54, valid PER: 90.46, valid mpd_f1: 2.02e-01\n",
      "speechbrain.utils.checkpoints - Saved an end-of-epoch checkpoint in results/whisper_ctc/save/CKPT+2023-11-21+12-05-24+00\n",
      "speechbrain.utils.checkpoints - Deleted checkpoint in results/whisper_ctc/save/CKPT+2023-11-21+12-04-56+00\n",
      "speechbrain.utils.epoch_loop - Going into epoch 132\n"
     ]
    },
    {
     "output_type": "stream",
     "name": "stderr",
     "text": [
      "100%|██████████| 150/150 [00:19<00:00,  7.67it/s, train_loss=2.26]\n",
      "100%|██████████| 75/75 [00:03<00:00, 19.61it/s]\n"
     ]
    },
    {
     "output_type": "stream",
     "name": "stdout",
     "text": [
      "speechbrain.utils.train_logger - epoch: 132, lr_adam: 4.00e-04, lr_whisper: 4.00e-04 - train loss: 2.26 - valid loss: 2.52, valid ctc_loss: 2.52, valid PER: 89.86, valid mpd_f1: 2.06e-01\n",
      "speechbrain.utils.checkpoints - Saved an end-of-epoch checkpoint in results/whisper_ctc/save/CKPT+2023-11-21+12-05-52+00\n",
      "speechbrain.utils.checkpoints - Deleted checkpoint in results/whisper_ctc/save/CKPT+2023-11-21+12-05-24+00\n",
      "speechbrain.utils.epoch_loop - Going into epoch 133\n"
     ]
    },
    {
     "output_type": "stream",
     "name": "stderr",
     "text": [
      "100%|██████████| 150/150 [00:19<00:00,  7.61it/s, train_loss=2.25]\n",
      "100%|██████████| 75/75 [00:03<00:00, 19.38it/s]\n"
     ]
    },
    {
     "output_type": "stream",
     "name": "stdout",
     "text": [
      "speechbrain.utils.train_logger - epoch: 133, lr_adam: 4.00e-04, lr_whisper: 4.00e-04 - train loss: 2.25 - valid loss: 2.51, valid ctc_loss: 2.51, valid PER: 88.64, valid mpd_f1: 2.02e-01\n",
      "speechbrain.utils.checkpoints - Saved an end-of-epoch checkpoint in results/whisper_ctc/save/CKPT+2023-11-21+12-06-21+00\n",
      "speechbrain.utils.checkpoints - Deleted checkpoint in results/whisper_ctc/save/CKPT+2023-11-21+12-05-52+00\n",
      "speechbrain.utils.checkpoints - Deleted checkpoint in results/whisper_ctc/save/CKPT+2023-11-21+12-02-34+00\n",
      "speechbrain.utils.epoch_loop - Going into epoch 134\n"
     ]
    },
    {
     "output_type": "stream",
     "name": "stderr",
     "text": [
      "100%|██████████| 150/150 [00:19<00:00,  7.64it/s, train_loss=2.24]\n",
      "100%|██████████| 75/75 [00:03<00:00, 19.76it/s]\n"
     ]
    },
    {
     "output_type": "stream",
     "name": "stdout",
     "text": [
      "speechbrain.utils.train_logger - epoch: 134, lr_adam: 4.00e-04, lr_whisper: 4.00e-04 - train loss: 2.24 - valid loss: 2.51, valid ctc_loss: 2.51, valid PER: 91.59, valid mpd_f1: 2.06e-01\n",
      "speechbrain.utils.checkpoints - Saved an end-of-epoch checkpoint in results/whisper_ctc/save/CKPT+2023-11-21+12-06-49+00\n",
      "speechbrain.utils.epoch_loop - Going into epoch 135\n"
     ]
    },
    {
     "output_type": "stream",
     "name": "stderr",
     "text": [
      "100%|██████████| 150/150 [00:19<00:00,  7.72it/s, train_loss=2.27]\n",
      "100%|██████████| 75/75 [00:03<00:00, 19.53it/s]\n"
     ]
    },
    {
     "output_type": "stream",
     "name": "stdout",
     "text": [
      "speechbrain.utils.train_logger - epoch: 135, lr_adam: 4.00e-04, lr_whisper: 4.00e-04 - train loss: 2.27 - valid loss: 2.61, valid ctc_loss: 2.61, valid PER: 89.93, valid mpd_f1: 2.03e-01\n",
      "speechbrain.utils.checkpoints - Saved an end-of-epoch checkpoint in results/whisper_ctc/save/CKPT+2023-11-21+12-07-17+00\n",
      "speechbrain.utils.checkpoints - Deleted checkpoint in results/whisper_ctc/save/CKPT+2023-11-21+12-06-49+00\n",
      "speechbrain.utils.epoch_loop - Going into epoch 136\n"
     ]
    },
    {
     "output_type": "stream",
     "name": "stderr",
     "text": [
      "100%|██████████| 150/150 [00:19<00:00,  7.68it/s, train_loss=2.27]\n",
      "100%|██████████| 75/75 [00:03<00:00, 19.57it/s]\n"
     ]
    },
    {
     "output_type": "stream",
     "name": "stdout",
     "text": [
      "speechbrain.utils.train_logger - epoch: 136, lr_adam: 4.00e-04, lr_whisper: 4.00e-04 - train loss: 2.27 - valid loss: 2.58, valid ctc_loss: 2.58, valid PER: 90.17, valid mpd_f1: 2.03e-01\n",
      "speechbrain.utils.checkpoints - Saved an end-of-epoch checkpoint in results/whisper_ctc/save/CKPT+2023-11-21+12-07-45+00\n",
      "speechbrain.utils.checkpoints - Deleted checkpoint in results/whisper_ctc/save/CKPT+2023-11-21+12-07-17+00\n",
      "speechbrain.utils.epoch_loop - Going into epoch 137\n"
     ]
    },
    {
     "output_type": "stream",
     "name": "stderr",
     "text": [
      "100%|██████████| 150/150 [00:19<00:00,  7.70it/s, train_loss=2.23]\n",
      "100%|██████████| 75/75 [00:03<00:00, 19.60it/s]\n"
     ]
    },
    {
     "output_type": "stream",
     "name": "stdout",
     "text": [
      "speechbrain.utils.train_logger - epoch: 137, lr_adam: 4.00e-04, lr_whisper: 4.00e-04 - train loss: 2.23 - valid loss: 2.57, valid ctc_loss: 2.57, valid PER: 90.09, valid mpd_f1: 2.05e-01\n",
      "speechbrain.utils.checkpoints - Saved an end-of-epoch checkpoint in results/whisper_ctc/save/CKPT+2023-11-21+12-08-13+00\n",
      "speechbrain.utils.checkpoints - Deleted checkpoint in results/whisper_ctc/save/CKPT+2023-11-21+12-07-45+00\n",
      "speechbrain.utils.epoch_loop - Going into epoch 138\n"
     ]
    },
    {
     "output_type": "stream",
     "name": "stderr",
     "text": [
      "100%|██████████| 150/150 [00:19<00:00,  7.67it/s, train_loss=2.24]\n",
      "100%|██████████| 75/75 [00:03<00:00, 19.66it/s]\n"
     ]
    },
    {
     "output_type": "stream",
     "name": "stdout",
     "text": [
      "speechbrain.utils.train_logger - epoch: 138, lr_adam: 4.00e-04, lr_whisper: 4.00e-04 - train loss: 2.24 - valid loss: 2.53, valid ctc_loss: 2.53, valid PER: 90.09, valid mpd_f1: 2.03e-01\n",
      "speechbrain.utils.checkpoints - Saved an end-of-epoch checkpoint in results/whisper_ctc/save/CKPT+2023-11-21+12-08-42+00\n",
      "speechbrain.utils.checkpoints - Deleted checkpoint in results/whisper_ctc/save/CKPT+2023-11-21+12-08-13+00\n",
      "speechbrain.utils.epoch_loop - Going into epoch 139\n"
     ]
    },
    {
     "output_type": "stream",
     "name": "stderr",
     "text": [
      "100%|██████████| 150/150 [00:19<00:00,  7.64it/s, train_loss=2.25]\n",
      "100%|██████████| 75/75 [00:03<00:00, 19.66it/s]\n"
     ]
    },
    {
     "output_type": "stream",
     "name": "stdout",
     "text": [
      "speechbrain.utils.train_logger - epoch: 139, lr_adam: 4.00e-04, lr_whisper: 4.00e-04 - train loss: 2.25 - valid loss: 2.56, valid ctc_loss: 2.56, valid PER: 89.23, valid mpd_f1: 2.06e-01\n",
      "speechbrain.utils.checkpoints - Saved an end-of-epoch checkpoint in results/whisper_ctc/save/CKPT+2023-11-21+12-09-11+00\n",
      "speechbrain.utils.checkpoints - Deleted checkpoint in results/whisper_ctc/save/CKPT+2023-11-21+12-08-42+00\n",
      "speechbrain.utils.epoch_loop - Going into epoch 140\n"
     ]
    },
    {
     "output_type": "stream",
     "name": "stderr",
     "text": [
      "100%|██████████| 150/150 [00:19<00:00,  7.68it/s, train_loss=2.23]\n",
      "100%|██████████| 75/75 [00:03<00:00, 19.58it/s]\n"
     ]
    },
    {
     "output_type": "stream",
     "name": "stdout",
     "text": [
      "speechbrain.utils.train_logger - epoch: 140, lr_adam: 4.00e-04, lr_whisper: 4.00e-04 - train loss: 2.23 - valid loss: 2.54, valid ctc_loss: 2.54, valid PER: 89.00, valid mpd_f1: 2.04e-01\n",
      "speechbrain.utils.checkpoints - Saved an end-of-epoch checkpoint in results/whisper_ctc/save/CKPT+2023-11-21+12-09-39+00\n",
      "speechbrain.utils.checkpoints - Deleted checkpoint in results/whisper_ctc/save/CKPT+2023-11-21+12-09-11+00\n",
      "speechbrain.utils.epoch_loop - Going into epoch 141\n"
     ]
    },
    {
     "output_type": "stream",
     "name": "stderr",
     "text": [
      "100%|██████████| 150/150 [00:19<00:00,  7.68it/s, train_loss=2.22]\n",
      "100%|██████████| 75/75 [00:03<00:00, 19.58it/s]\n"
     ]
    },
    {
     "output_type": "stream",
     "name": "stdout",
     "text": [
      "speechbrain.utils.train_logger - epoch: 141, lr_adam: 4.00e-04, lr_whisper: 4.00e-04 - train loss: 2.22 - valid loss: 2.59, valid ctc_loss: 2.59, valid PER: 89.16, valid mpd_f1: 2.05e-01\n",
      "speechbrain.utils.checkpoints - Saved an end-of-epoch checkpoint in results/whisper_ctc/save/CKPT+2023-11-21+12-10-07+00\n",
      "speechbrain.utils.checkpoints - Deleted checkpoint in results/whisper_ctc/save/CKPT+2023-11-21+12-09-39+00\n",
      "speechbrain.utils.epoch_loop - Going into epoch 142\n"
     ]
    },
    {
     "output_type": "stream",
     "name": "stderr",
     "text": [
      "100%|██████████| 150/150 [00:19<00:00,  7.68it/s, train_loss=2.23]\n",
      "100%|██████████| 75/75 [00:03<00:00, 19.57it/s]\n"
     ]
    },
    {
     "output_type": "stream",
     "name": "stdout",
     "text": [
      "speechbrain.utils.train_logger - epoch: 142, lr_adam: 4.00e-04, lr_whisper: 4.00e-04 - train loss: 2.23 - valid loss: 2.57, valid ctc_loss: 2.57, valid PER: 89.63, valid mpd_f1: 2.05e-01\n",
      "speechbrain.utils.checkpoints - Saved an end-of-epoch checkpoint in results/whisper_ctc/save/CKPT+2023-11-21+12-10-36+00\n",
      "speechbrain.utils.checkpoints - Deleted checkpoint in results/whisper_ctc/save/CKPT+2023-11-21+12-10-07+00\n",
      "speechbrain.utils.epoch_loop - Going into epoch 143\n"
     ]
    },
    {
     "output_type": "stream",
     "name": "stderr",
     "text": [
      "100%|██████████| 150/150 [00:19<00:00,  7.63it/s, train_loss=2.23]\n",
      "100%|██████████| 75/75 [00:03<00:00, 19.66it/s]\n"
     ]
    },
    {
     "output_type": "stream",
     "name": "stdout",
     "text": [
      "speechbrain.utils.train_logger - epoch: 143, lr_adam: 4.00e-04, lr_whisper: 4.00e-04 - train loss: 2.23 - valid loss: 2.52, valid ctc_loss: 2.52, valid PER: 89.37, valid mpd_f1: 2.04e-01\n",
      "speechbrain.utils.checkpoints - Saved an end-of-epoch checkpoint in results/whisper_ctc/save/CKPT+2023-11-21+12-11-04+00\n",
      "speechbrain.utils.checkpoints - Deleted checkpoint in results/whisper_ctc/save/CKPT+2023-11-21+12-10-36+00\n",
      "speechbrain.utils.epoch_loop - Going into epoch 144\n"
     ]
    },
    {
     "output_type": "stream",
     "name": "stderr",
     "text": [
      "100%|██████████| 150/150 [00:19<00:00,  7.65it/s, train_loss=2.24]\n",
      "100%|██████████| 75/75 [00:03<00:00, 19.37it/s]"
     ]
    },
    {
     "output_type": "stream",
     "name": "stdout",
     "text": [
      "speechbrain.utils.train_logger - epoch: 144, lr_adam: 4.00e-04, lr_whisper: 4.00e-04 - train loss: 2.24 - valid loss: 2.53, valid ctc_loss: 2.53, valid PER: 90.04, valid mpd_f1: 2.04e-01\n"
     ]
    },
    {
     "output_type": "stream",
     "name": "stderr",
     "text": [
      "\n"
     ]
    },
    {
     "output_type": "stream",
     "name": "stdout",
     "text": [
      "speechbrain.utils.checkpoints - Saved an end-of-epoch checkpoint in results/whisper_ctc/save/CKPT+2023-11-21+12-11-33+00\n",
      "speechbrain.utils.checkpoints - Deleted checkpoint in results/whisper_ctc/save/CKPT+2023-11-21+12-11-04+00\n",
      "speechbrain.utils.epoch_loop - Going into epoch 145\n"
     ]
    },
    {
     "output_type": "stream",
     "name": "stderr",
     "text": [
      "100%|██████████| 150/150 [00:19<00:00,  7.65it/s, train_loss=2.21]\n",
      "100%|██████████| 75/75 [00:03<00:00, 19.59it/s]\n"
     ]
    },
    {
     "output_type": "stream",
     "name": "stdout",
     "text": [
      "speechbrain.utils.train_logger - epoch: 145, lr_adam: 4.00e-04, lr_whisper: 4.00e-04 - train loss: 2.21 - valid loss: 2.50, valid ctc_loss: 2.50, valid PER: 89.92, valid mpd_f1: 2.05e-01\n",
      "speechbrain.utils.checkpoints - Saved an end-of-epoch checkpoint in results/whisper_ctc/save/CKPT+2023-11-21+12-12-02+00\n",
      "speechbrain.utils.checkpoints - Deleted checkpoint in results/whisper_ctc/save/CKPT+2023-11-21+12-11-33+00\n",
      "speechbrain.utils.epoch_loop - Going into epoch 146\n"
     ]
    },
    {
     "output_type": "stream",
     "name": "stderr",
     "text": [
      "100%|██████████| 150/150 [00:19<00:00,  7.67it/s, train_loss=2.24]\n",
      "100%|██████████| 75/75 [00:03<00:00, 19.47it/s]\n"
     ]
    },
    {
     "output_type": "stream",
     "name": "stdout",
     "text": [
      "speechbrain.utils.train_logger - epoch: 146, lr_adam: 4.00e-04, lr_whisper: 4.00e-04 - train loss: 2.24 - valid loss: 2.52, valid ctc_loss: 2.52, valid PER: 88.90, valid mpd_f1: 2.06e-01\n",
      "speechbrain.utils.checkpoints - Saved an end-of-epoch checkpoint in results/whisper_ctc/save/CKPT+2023-11-21+12-12-30+00\n",
      "speechbrain.utils.checkpoints - Deleted checkpoint in results/whisper_ctc/save/CKPT+2023-11-21+12-12-02+00\n",
      "speechbrain.utils.epoch_loop - Going into epoch 147\n"
     ]
    },
    {
     "output_type": "stream",
     "name": "stderr",
     "text": [
      "100%|██████████| 150/150 [00:19<00:00,  7.55it/s, train_loss=2.24]\n",
      "100%|██████████| 75/75 [00:03<00:00, 19.66it/s]\n"
     ]
    },
    {
     "output_type": "stream",
     "name": "stdout",
     "text": [
      "speechbrain.utils.train_logger - epoch: 147, lr_adam: 4.00e-04, lr_whisper: 4.00e-04 - train loss: 2.24 - valid loss: 2.49, valid ctc_loss: 2.49, valid PER: 89.16, valid mpd_f1: 2.05e-01\n",
      "speechbrain.utils.checkpoints - Saved an end-of-epoch checkpoint in results/whisper_ctc/save/CKPT+2023-11-21+12-12-59+00\n",
      "speechbrain.utils.checkpoints - Deleted checkpoint in results/whisper_ctc/save/CKPT+2023-11-21+12-12-30+00\n",
      "speechbrain.utils.epoch_loop - Going into epoch 148\n"
     ]
    },
    {
     "output_type": "stream",
     "name": "stderr",
     "text": [
      "100%|██████████| 150/150 [00:19<00:00,  7.60it/s, train_loss=2.2]\n",
      "100%|██████████| 75/75 [00:03<00:00, 19.70it/s]\n"
     ]
    },
    {
     "output_type": "stream",
     "name": "stdout",
     "text": [
      "speechbrain.utils.train_logger - epoch: 148, lr_adam: 4.00e-04, lr_whisper: 4.00e-04 - train loss: 2.20 - valid loss: 2.53, valid ctc_loss: 2.53, valid PER: 89.82, valid mpd_f1: 2.04e-01\n",
      "speechbrain.utils.checkpoints - Saved an end-of-epoch checkpoint in results/whisper_ctc/save/CKPT+2023-11-21+12-13-28+00\n",
      "speechbrain.utils.checkpoints - Deleted checkpoint in results/whisper_ctc/save/CKPT+2023-11-21+12-12-59+00\n",
      "speechbrain.utils.epoch_loop - Going into epoch 149\n"
     ]
    },
    {
     "output_type": "stream",
     "name": "stderr",
     "text": [
      "100%|██████████| 150/150 [00:19<00:00,  7.58it/s, train_loss=2.21]\n",
      "100%|██████████| 75/75 [00:03<00:00, 19.64it/s]\n"
     ]
    },
    {
     "output_type": "stream",
     "name": "stdout",
     "text": [
      "speechbrain.utils.train_logger - epoch: 149, lr_adam: 4.00e-04, lr_whisper: 4.00e-04 - train loss: 2.21 - valid loss: 2.50, valid ctc_loss: 2.50, valid PER: 89.26, valid mpd_f1: 2.03e-01\n",
      "speechbrain.utils.checkpoints - Saved an end-of-epoch checkpoint in results/whisper_ctc/save/CKPT+2023-11-21+12-13-57+00\n",
      "speechbrain.utils.checkpoints - Deleted checkpoint in results/whisper_ctc/save/CKPT+2023-11-21+12-13-28+00\n",
      "speechbrain.utils.epoch_loop - Going into epoch 150\n"
     ]
    },
    {
     "output_type": "stream",
     "name": "stderr",
     "text": [
      "100%|██████████| 150/150 [00:19<00:00,  7.58it/s, train_loss=2.23]\n",
      "100%|██████████| 75/75 [00:03<00:00, 19.58it/s]\n"
     ]
    },
    {
     "output_type": "stream",
     "name": "stdout",
     "text": [
      "speechbrain.utils.train_logger - epoch: 150, lr_adam: 4.00e-04, lr_whisper: 4.00e-04 - train loss: 2.23 - valid loss: 2.54, valid ctc_loss: 2.54, valid PER: 89.61, valid mpd_f1: 2.06e-01\n",
      "speechbrain.utils.checkpoints - Saved an end-of-epoch checkpoint in results/whisper_ctc/save/CKPT+2023-11-21+12-14-26+00\n",
      "speechbrain.utils.checkpoints - Deleted checkpoint in results/whisper_ctc/save/CKPT+2023-11-21+12-13-57+00\n",
      "speechbrain.utils.epoch_loop - Going into epoch 151\n"
     ]
    },
    {
     "output_type": "stream",
     "name": "stderr",
     "text": [
      "100%|██████████| 150/150 [00:19<00:00,  7.67it/s, train_loss=2.18]\n",
      "100%|██████████| 75/75 [00:03<00:00, 19.50it/s]"
     ]
    },
    {
     "output_type": "stream",
     "name": "stdout",
     "text": [
      "speechbrain.utils.train_logger - epoch: 151, lr_adam: 4.00e-04, lr_whisper: 4.00e-04 - train loss: 2.18 - valid loss: 2.52, valid ctc_loss: 2.52, valid PER: 90.26, valid mpd_f1: 2.05e-01\n"
     ]
    },
    {
     "output_type": "stream",
     "name": "stderr",
     "text": [
      "\n"
     ]
    },
    {
     "output_type": "stream",
     "name": "stdout",
     "text": [
      "speechbrain.utils.checkpoints - Saved an end-of-epoch checkpoint in results/whisper_ctc/save/CKPT+2023-11-21+12-14-55+00\n",
      "speechbrain.utils.checkpoints - Deleted checkpoint in results/whisper_ctc/save/CKPT+2023-11-21+12-14-26+00\n",
      "speechbrain.utils.epoch_loop - Going into epoch 152\n"
     ]
    },
    {
     "output_type": "stream",
     "name": "stderr",
     "text": [
      "100%|██████████| 150/150 [00:19<00:00,  7.58it/s, train_loss=2.2]\n",
      "100%|██████████| 75/75 [00:03<00:00, 19.70it/s]\n"
     ]
    },
    {
     "output_type": "stream",
     "name": "stdout",
     "text": [
      "speechbrain.utils.train_logger - epoch: 152, lr_adam: 4.00e-04, lr_whisper: 4.00e-04 - train loss: 2.20 - valid loss: 2.47, valid ctc_loss: 2.47, valid PER: 89.57, valid mpd_f1: 2.05e-01\n",
      "speechbrain.utils.checkpoints - Saved an end-of-epoch checkpoint in results/whisper_ctc/save/CKPT+2023-11-21+12-15-24+00\n",
      "speechbrain.utils.checkpoints - Deleted checkpoint in results/whisper_ctc/save/CKPT+2023-11-21+12-14-55+00\n",
      "speechbrain.utils.epoch_loop - Going into epoch 153\n"
     ]
    },
    {
     "output_type": "stream",
     "name": "stderr",
     "text": [
      "100%|██████████| 150/150 [00:19<00:00,  7.61it/s, train_loss=2.21]\n",
      "100%|██████████| 75/75 [00:03<00:00, 19.67it/s]\n"
     ]
    },
    {
     "output_type": "stream",
     "name": "stdout",
     "text": [
      "speechbrain.utils.train_logger - epoch: 153, lr_adam: 4.00e-04, lr_whisper: 4.00e-04 - train loss: 2.21 - valid loss: 2.58, valid ctc_loss: 2.58, valid PER: 90.41, valid mpd_f1: 2.02e-01\n",
      "speechbrain.utils.checkpoints - Saved an end-of-epoch checkpoint in results/whisper_ctc/save/CKPT+2023-11-21+12-15-53+00\n",
      "speechbrain.utils.checkpoints - Deleted checkpoint in results/whisper_ctc/save/CKPT+2023-11-21+12-15-24+00\n",
      "speechbrain.utils.epoch_loop - Going into epoch 154\n"
     ]
    },
    {
     "output_type": "stream",
     "name": "stderr",
     "text": [
      "100%|██████████| 150/150 [00:19<00:00,  7.64it/s, train_loss=2.22]\n",
      "100%|██████████| 75/75 [00:03<00:00, 19.68it/s]\n"
     ]
    },
    {
     "output_type": "stream",
     "name": "stdout",
     "text": [
      "speechbrain.utils.train_logger - epoch: 154, lr_adam: 4.00e-04, lr_whisper: 4.00e-04 - train loss: 2.22 - valid loss: 2.56, valid ctc_loss: 2.56, valid PER: 90.20, valid mpd_f1: 2.05e-01\n",
      "speechbrain.utils.checkpoints - Saved an end-of-epoch checkpoint in results/whisper_ctc/save/CKPT+2023-11-21+12-16-21+00\n",
      "speechbrain.utils.checkpoints - Deleted checkpoint in results/whisper_ctc/save/CKPT+2023-11-21+12-15-53+00\n",
      "speechbrain.utils.epoch_loop - Going into epoch 155\n"
     ]
    },
    {
     "output_type": "stream",
     "name": "stderr",
     "text": [
      "100%|██████████| 150/150 [00:19<00:00,  7.58it/s, train_loss=2.24]\n",
      "100%|██████████| 75/75 [00:03<00:00, 19.74it/s]\n"
     ]
    },
    {
     "output_type": "stream",
     "name": "stdout",
     "text": [
      "speechbrain.utils.train_logger - epoch: 155, lr_adam: 4.00e-04, lr_whisper: 4.00e-04 - train loss: 2.24 - valid loss: 2.48, valid ctc_loss: 2.48, valid PER: 89.97, valid mpd_f1: 2.06e-01\n",
      "speechbrain.utils.checkpoints - Saved an end-of-epoch checkpoint in results/whisper_ctc/save/CKPT+2023-11-21+12-16-50+00\n",
      "speechbrain.utils.checkpoints - Deleted checkpoint in results/whisper_ctc/save/CKPT+2023-11-21+12-16-21+00\n",
      "speechbrain.utils.epoch_loop - Going into epoch 156\n"
     ]
    },
    {
     "output_type": "stream",
     "name": "stderr",
     "text": [
      "100%|██████████| 150/150 [00:19<00:00,  7.68it/s, train_loss=2.24]\n",
      "100%|██████████| 75/75 [00:03<00:00, 19.66it/s]\n"
     ]
    },
    {
     "output_type": "stream",
     "name": "stdout",
     "text": [
      "speechbrain.utils.train_logger - epoch: 156, lr_adam: 4.00e-04, lr_whisper: 4.00e-04 - train loss: 2.24 - valid loss: 2.49, valid ctc_loss: 2.49, valid PER: 89.74, valid mpd_f1: 2.06e-01\n",
      "speechbrain.utils.checkpoints - Saved an end-of-epoch checkpoint in results/whisper_ctc/save/CKPT+2023-11-21+12-17-19+00\n",
      "speechbrain.utils.checkpoints - Deleted checkpoint in results/whisper_ctc/save/CKPT+2023-11-21+12-16-50+00\n",
      "speechbrain.utils.epoch_loop - Going into epoch 157\n"
     ]
    },
    {
     "output_type": "stream",
     "name": "stderr",
     "text": [
      "100%|██████████| 150/150 [00:19<00:00,  7.59it/s, train_loss=2.21]\n",
      "100%|██████████| 75/75 [00:03<00:00, 19.64it/s]\n"
     ]
    },
    {
     "output_type": "stream",
     "name": "stdout",
     "text": [
      "speechbrain.utils.train_logger - epoch: 157, lr_adam: 4.00e-04, lr_whisper: 4.00e-04 - train loss: 2.21 - valid loss: 2.49, valid ctc_loss: 2.49, valid PER: 90.11, valid mpd_f1: 2.06e-01\n",
      "speechbrain.utils.checkpoints - Saved an end-of-epoch checkpoint in results/whisper_ctc/save/CKPT+2023-11-21+12-17-48+00\n",
      "speechbrain.utils.checkpoints - Deleted checkpoint in results/whisper_ctc/save/CKPT+2023-11-21+12-17-19+00\n",
      "speechbrain.utils.epoch_loop - Going into epoch 158\n"
     ]
    },
    {
     "output_type": "stream",
     "name": "stderr",
     "text": [
      "100%|██████████| 150/150 [00:19<00:00,  7.62it/s, train_loss=2.22]\n",
      "100%|██████████| 75/75 [00:03<00:00, 19.68it/s]\n"
     ]
    },
    {
     "output_type": "stream",
     "name": "stdout",
     "text": [
      "speechbrain.utils.train_logger - epoch: 158, lr_adam: 4.00e-04, lr_whisper: 4.00e-04 - train loss: 2.22 - valid loss: 2.47, valid ctc_loss: 2.47, valid PER: 89.47, valid mpd_f1: 2.03e-01\n",
      "speechbrain.utils.checkpoints - Saved an end-of-epoch checkpoint in results/whisper_ctc/save/CKPT+2023-11-21+12-18-17+00\n",
      "speechbrain.utils.checkpoints - Deleted checkpoint in results/whisper_ctc/save/CKPT+2023-11-21+12-17-48+00\n",
      "speechbrain.utils.epoch_loop - Going into epoch 159\n"
     ]
    },
    {
     "output_type": "stream",
     "name": "stderr",
     "text": [
      "100%|██████████| 150/150 [00:19<00:00,  7.67it/s, train_loss=2.19]\n",
      "100%|██████████| 75/75 [00:03<00:00, 19.51it/s]\n"
     ]
    },
    {
     "output_type": "stream",
     "name": "stdout",
     "text": [
      "speechbrain.utils.train_logger - epoch: 159, lr_adam: 4.00e-04, lr_whisper: 4.00e-04 - train loss: 2.19 - valid loss: 2.46, valid ctc_loss: 2.46, valid PER: 89.66, valid mpd_f1: 2.05e-01\n",
      "speechbrain.utils.checkpoints - Saved an end-of-epoch checkpoint in results/whisper_ctc/save/CKPT+2023-11-21+12-18-46+00\n",
      "speechbrain.utils.checkpoints - Deleted checkpoint in results/whisper_ctc/save/CKPT+2023-11-21+12-18-17+00\n",
      "speechbrain.utils.epoch_loop - Going into epoch 160\n"
     ]
    },
    {
     "output_type": "stream",
     "name": "stderr",
     "text": [
      "100%|██████████| 150/150 [00:19<00:00,  7.63it/s, train_loss=2.18]\n",
      "100%|██████████| 75/75 [00:03<00:00, 19.68it/s]\n"
     ]
    },
    {
     "output_type": "stream",
     "name": "stdout",
     "text": [
      "speechbrain.utils.train_logger - epoch: 160, lr_adam: 4.00e-04, lr_whisper: 4.00e-04 - train loss: 2.18 - valid loss: 2.43, valid ctc_loss: 2.43, valid PER: 90.12, valid mpd_f1: 2.04e-01\n",
      "speechbrain.utils.checkpoints - Saved an end-of-epoch checkpoint in results/whisper_ctc/save/CKPT+2023-11-21+12-19-15+00\n",
      "speechbrain.utils.checkpoints - Deleted checkpoint in results/whisper_ctc/save/CKPT+2023-11-21+12-18-46+00\n",
      "speechbrain.utils.epoch_loop - Going into epoch 161\n"
     ]
    },
    {
     "output_type": "stream",
     "name": "stderr",
     "text": [
      "100%|██████████| 150/150 [00:19<00:00,  7.68it/s, train_loss=2.21]\n",
      "100%|██████████| 75/75 [00:03<00:00, 19.63it/s]\n"
     ]
    },
    {
     "output_type": "stream",
     "name": "stdout",
     "text": [
      "speechbrain.utils.train_logger - epoch: 161, lr_adam: 4.00e-04, lr_whisper: 4.00e-04 - train loss: 2.21 - valid loss: 2.50, valid ctc_loss: 2.50, valid PER: 89.88, valid mpd_f1: 2.07e-01\n",
      "speechbrain.utils.checkpoints - Saved an end-of-epoch checkpoint in results/whisper_ctc/save/CKPT+2023-11-21+12-19-44+00\n",
      "speechbrain.utils.checkpoints - Deleted checkpoint in results/whisper_ctc/save/CKPT+2023-11-21+12-19-15+00\n",
      "speechbrain.utils.epoch_loop - Going into epoch 162\n"
     ]
    },
    {
     "output_type": "stream",
     "name": "stderr",
     "text": [
      "100%|██████████| 150/150 [00:19<00:00,  7.61it/s, train_loss=2.19]\n",
      "100%|██████████| 75/75 [00:03<00:00, 19.59it/s]\n"
     ]
    },
    {
     "output_type": "stream",
     "name": "stdout",
     "text": [
      "speechbrain.utils.train_logger - epoch: 162, lr_adam: 4.00e-04, lr_whisper: 4.00e-04 - train loss: 2.19 - valid loss: 2.46, valid ctc_loss: 2.46, valid PER: 90.26, valid mpd_f1: 2.05e-01\n",
      "speechbrain.utils.checkpoints - Saved an end-of-epoch checkpoint in results/whisper_ctc/save/CKPT+2023-11-21+12-20-14+00\n",
      "speechbrain.utils.checkpoints - Deleted checkpoint in results/whisper_ctc/save/CKPT+2023-11-21+12-19-44+00\n",
      "speechbrain.utils.epoch_loop - Going into epoch 163\n"
     ]
    },
    {
     "output_type": "stream",
     "name": "stderr",
     "text": [
      "100%|██████████| 150/150 [00:19<00:00,  7.60it/s, train_loss=2.19]\n",
      "100%|██████████| 75/75 [00:03<00:00, 19.42it/s]\n"
     ]
    },
    {
     "output_type": "stream",
     "name": "stdout",
     "text": [
      "speechbrain.utils.train_logger - epoch: 163, lr_adam: 4.00e-04, lr_whisper: 4.00e-04 - train loss: 2.19 - valid loss: 2.47, valid ctc_loss: 2.47, valid PER: 89.70, valid mpd_f1: 2.05e-01\n",
      "speechbrain.utils.checkpoints - Saved an end-of-epoch checkpoint in results/whisper_ctc/save/CKPT+2023-11-21+12-20-43+00\n",
      "speechbrain.utils.checkpoints - Deleted checkpoint in results/whisper_ctc/save/CKPT+2023-11-21+12-20-14+00\n",
      "speechbrain.utils.epoch_loop - Going into epoch 164\n"
     ]
    },
    {
     "output_type": "stream",
     "name": "stderr",
     "text": [
      "100%|██████████| 150/150 [00:19<00:00,  7.70it/s, train_loss=2.2]\n",
      "100%|██████████| 75/75 [00:03<00:00, 19.42it/s]\n"
     ]
    },
    {
     "output_type": "stream",
     "name": "stdout",
     "text": [
      "speechbrain.utils.train_logger - epoch: 164, lr_adam: 4.00e-04, lr_whisper: 4.00e-04 - train loss: 2.20 - valid loss: 2.49, valid ctc_loss: 2.49, valid PER: 89.06, valid mpd_f1: 2.06e-01\n",
      "speechbrain.utils.checkpoints - Saved an end-of-epoch checkpoint in results/whisper_ctc/save/CKPT+2023-11-21+12-21-12+00\n",
      "speechbrain.utils.checkpoints - Deleted checkpoint in results/whisper_ctc/save/CKPT+2023-11-21+12-20-43+00\n",
      "speechbrain.utils.epoch_loop - Going into epoch 165\n"
     ]
    },
    {
     "output_type": "stream",
     "name": "stderr",
     "text": [
      "100%|██████████| 150/150 [00:19<00:00,  7.65it/s, train_loss=2.21]\n",
      "100%|██████████| 75/75 [00:03<00:00, 19.44it/s]"
     ]
    },
    {
     "output_type": "stream",
     "name": "stdout",
     "text": [
      "speechbrain.utils.train_logger - epoch: 165, lr_adam: 4.00e-04, lr_whisper: 4.00e-04 - train loss: 2.21 - valid loss: 2.48, valid ctc_loss: 2.48, valid PER: 89.21, valid mpd_f1: 2.07e-01\n"
     ]
    },
    {
     "output_type": "stream",
     "name": "stderr",
     "text": [
      "\n"
     ]
    },
    {
     "output_type": "stream",
     "name": "stdout",
     "text": [
      "speechbrain.utils.checkpoints - Saved an end-of-epoch checkpoint in results/whisper_ctc/save/CKPT+2023-11-21+12-21-41+00\n",
      "speechbrain.utils.checkpoints - Deleted checkpoint in results/whisper_ctc/save/CKPT+2023-11-21+12-21-12+00\n",
      "speechbrain.utils.epoch_loop - Going into epoch 166\n"
     ]
    },
    {
     "output_type": "stream",
     "name": "stderr",
     "text": [
      "100%|██████████| 150/150 [00:19<00:00,  7.58it/s, train_loss=2.2]\n",
      "100%|██████████| 75/75 [00:03<00:00, 19.50it/s]\n"
     ]
    },
    {
     "output_type": "stream",
     "name": "stdout",
     "text": [
      "speechbrain.utils.train_logger - epoch: 166, lr_adam: 4.00e-04, lr_whisper: 4.00e-04 - train loss: 2.20 - valid loss: 2.46, valid ctc_loss: 2.46, valid PER: 89.65, valid mpd_f1: 2.05e-01\n",
      "speechbrain.utils.checkpoints - Saved an end-of-epoch checkpoint in results/whisper_ctc/save/CKPT+2023-11-21+12-22-10+00\n",
      "speechbrain.utils.checkpoints - Deleted checkpoint in results/whisper_ctc/save/CKPT+2023-11-21+12-21-41+00\n",
      "speechbrain.utils.epoch_loop - Going into epoch 167\n"
     ]
    },
    {
     "output_type": "stream",
     "name": "stderr",
     "text": [
      "100%|██████████| 150/150 [00:19<00:00,  7.63it/s, train_loss=2.19]\n",
      "100%|██████████| 75/75 [00:03<00:00, 19.47it/s]\n"
     ]
    },
    {
     "output_type": "stream",
     "name": "stdout",
     "text": [
      "speechbrain.utils.train_logger - epoch: 167, lr_adam: 4.00e-04, lr_whisper: 4.00e-04 - train loss: 2.19 - valid loss: 2.46, valid ctc_loss: 2.46, valid PER: 89.20, valid mpd_f1: 2.07e-01\n",
      "speechbrain.utils.checkpoints - Saved an end-of-epoch checkpoint in results/whisper_ctc/save/CKPT+2023-11-21+12-22-39+00\n",
      "speechbrain.utils.checkpoints - Deleted checkpoint in results/whisper_ctc/save/CKPT+2023-11-21+12-22-10+00\n",
      "speechbrain.utils.epoch_loop - Going into epoch 168\n"
     ]
    },
    {
     "output_type": "stream",
     "name": "stderr",
     "text": [
      "100%|██████████| 150/150 [00:19<00:00,  7.63it/s, train_loss=2.19]\n",
      "100%|██████████| 75/75 [00:03<00:00, 19.56it/s]\n"
     ]
    },
    {
     "output_type": "stream",
     "name": "stdout",
     "text": [
      "speechbrain.utils.train_logger - epoch: 168, lr_adam: 4.00e-04, lr_whisper: 4.00e-04 - train loss: 2.19 - valid loss: 2.46, valid ctc_loss: 2.46, valid PER: 90.20, valid mpd_f1: 2.06e-01\n",
      "speechbrain.utils.checkpoints - Saved an end-of-epoch checkpoint in results/whisper_ctc/save/CKPT+2023-11-21+12-23-08+00\n",
      "speechbrain.utils.checkpoints - Deleted checkpoint in results/whisper_ctc/save/CKPT+2023-11-21+12-22-39+00\n",
      "speechbrain.utils.epoch_loop - Going into epoch 169\n"
     ]
    },
    {
     "output_type": "stream",
     "name": "stderr",
     "text": [
      "100%|██████████| 150/150 [00:19<00:00,  7.59it/s, train_loss=2.21]\n",
      "100%|██████████| 75/75 [00:04<00:00, 18.37it/s]\n"
     ]
    },
    {
     "output_type": "stream",
     "name": "stdout",
     "text": [
      "speechbrain.utils.train_logger - epoch: 169, lr_adam: 4.00e-04, lr_whisper: 4.00e-04 - train loss: 2.21 - valid loss: 2.47, valid ctc_loss: 2.47, valid PER: 89.83, valid mpd_f1: 2.05e-01\n",
      "speechbrain.utils.checkpoints - Saved an end-of-epoch checkpoint in results/whisper_ctc/save/CKPT+2023-11-21+12-23-37+00\n",
      "speechbrain.utils.checkpoints - Deleted checkpoint in results/whisper_ctc/save/CKPT+2023-11-21+12-23-08+00\n",
      "speechbrain.utils.epoch_loop - Going into epoch 170\n"
     ]
    },
    {
     "output_type": "stream",
     "name": "stderr",
     "text": [
      "100%|██████████| 150/150 [00:19<00:00,  7.59it/s, train_loss=2.18]\n",
      "100%|██████████| 75/75 [00:03<00:00, 19.64it/s]\n"
     ]
    },
    {
     "output_type": "stream",
     "name": "stdout",
     "text": [
      "speechbrain.utils.train_logger - epoch: 170, lr_adam: 4.00e-04, lr_whisper: 4.00e-04 - train loss: 2.18 - valid loss: 2.47, valid ctc_loss: 2.47, valid PER: 90.29, valid mpd_f1: 2.08e-01\n",
      "speechbrain.utils.checkpoints - Saved an end-of-epoch checkpoint in results/whisper_ctc/save/CKPT+2023-11-21+12-24-07+00\n",
      "speechbrain.utils.checkpoints - Deleted checkpoint in results/whisper_ctc/save/CKPT+2023-11-21+12-23-37+00\n",
      "speechbrain.utils.epoch_loop - Going into epoch 171\n"
     ]
    },
    {
     "output_type": "stream",
     "name": "stderr",
     "text": [
      "100%|██████████| 150/150 [00:19<00:00,  7.64it/s, train_loss=2.22]\n",
      "100%|██████████| 75/75 [00:03<00:00, 19.53it/s]\n"
     ]
    },
    {
     "output_type": "stream",
     "name": "stdout",
     "text": [
      "speechbrain.utils.train_logger - epoch: 171, lr_adam: 4.00e-04, lr_whisper: 4.00e-04 - train loss: 2.22 - valid loss: 2.45, valid ctc_loss: 2.45, valid PER: 89.70, valid mpd_f1: 2.06e-01\n",
      "speechbrain.utils.checkpoints - Saved an end-of-epoch checkpoint in results/whisper_ctc/save/CKPT+2023-11-21+12-24-36+00\n",
      "speechbrain.utils.checkpoints - Deleted checkpoint in results/whisper_ctc/save/CKPT+2023-11-21+12-24-07+00\n",
      "speechbrain.utils.epoch_loop - Going into epoch 172\n"
     ]
    },
    {
     "output_type": "stream",
     "name": "stderr",
     "text": [
      "100%|██████████| 150/150 [00:19<00:00,  7.67it/s, train_loss=2.19]\n",
      "100%|██████████| 75/75 [00:03<00:00, 19.38it/s]"
     ]
    },
    {
     "output_type": "stream",
     "name": "stdout",
     "text": [
      "speechbrain.utils.train_logger - epoch: 172, lr_adam: 4.00e-04, lr_whisper: 4.00e-04 - train loss: 2.19 - valid loss: 2.47, valid ctc_loss: 2.47, valid PER: 89.58, valid mpd_f1: 2.05e-01\n"
     ]
    },
    {
     "output_type": "stream",
     "name": "stderr",
     "text": [
      "\n"
     ]
    },
    {
     "output_type": "stream",
     "name": "stdout",
     "text": [
      "speechbrain.utils.checkpoints - Saved an end-of-epoch checkpoint in results/whisper_ctc/save/CKPT+2023-11-21+12-25-05+00\n",
      "speechbrain.utils.checkpoints - Deleted checkpoint in results/whisper_ctc/save/CKPT+2023-11-21+12-24-36+00\n",
      "speechbrain.utils.epoch_loop - Going into epoch 173\n"
     ]
    },
    {
     "output_type": "stream",
     "name": "stderr",
     "text": [
      "100%|██████████| 150/150 [00:19<00:00,  7.62it/s, train_loss=2.22]\n",
      "100%|██████████| 75/75 [00:03<00:00, 19.60it/s]\n"
     ]
    },
    {
     "output_type": "stream",
     "name": "stdout",
     "text": [
      "speechbrain.utils.train_logger - epoch: 173, lr_adam: 4.00e-04, lr_whisper: 4.00e-04 - train loss: 2.22 - valid loss: 2.50, valid ctc_loss: 2.50, valid PER: 89.27, valid mpd_f1: 2.05e-01\n",
      "speechbrain.utils.checkpoints - Saved an end-of-epoch checkpoint in results/whisper_ctc/save/CKPT+2023-11-21+12-25-34+00\n",
      "speechbrain.utils.checkpoints - Deleted checkpoint in results/whisper_ctc/save/CKPT+2023-11-21+12-25-05+00\n",
      "speechbrain.utils.epoch_loop - Going into epoch 174\n"
     ]
    },
    {
     "output_type": "stream",
     "name": "stderr",
     "text": [
      "100%|██████████| 150/150 [00:19<00:00,  7.61it/s, train_loss=2.19]\n",
      "100%|██████████| 75/75 [00:03<00:00, 19.56it/s]\n"
     ]
    },
    {
     "output_type": "stream",
     "name": "stdout",
     "text": [
      "speechbrain.utils.train_logger - epoch: 174, lr_adam: 4.00e-04, lr_whisper: 4.00e-04 - train loss: 2.19 - valid loss: 2.47, valid ctc_loss: 2.47, valid PER: 89.95, valid mpd_f1: 2.06e-01\n",
      "speechbrain.utils.checkpoints - Saved an end-of-epoch checkpoint in results/whisper_ctc/save/CKPT+2023-11-21+12-26-04+00\n",
      "speechbrain.utils.checkpoints - Deleted checkpoint in results/whisper_ctc/save/CKPT+2023-11-21+12-25-34+00\n",
      "speechbrain.utils.epoch_loop - Going into epoch 175\n"
     ]
    },
    {
     "output_type": "stream",
     "name": "stderr",
     "text": [
      "100%|██████████| 150/150 [00:19<00:00,  7.59it/s, train_loss=2.18]\n",
      "100%|██████████| 75/75 [00:03<00:00, 19.47it/s]\n"
     ]
    },
    {
     "output_type": "stream",
     "name": "stdout",
     "text": [
      "speechbrain.utils.train_logger - epoch: 175, lr_adam: 4.00e-04, lr_whisper: 4.00e-04 - train loss: 2.18 - valid loss: 2.43, valid ctc_loss: 2.43, valid PER: 90.34, valid mpd_f1: 2.03e-01\n",
      "speechbrain.utils.checkpoints - Saved an end-of-epoch checkpoint in results/whisper_ctc/save/CKPT+2023-11-21+12-26-33+00\n",
      "speechbrain.utils.checkpoints - Deleted checkpoint in results/whisper_ctc/save/CKPT+2023-11-21+12-26-04+00\n",
      "speechbrain.utils.epoch_loop - Going into epoch 176\n"
     ]
    },
    {
     "output_type": "stream",
     "name": "stderr",
     "text": [
      "100%|██████████| 150/150 [00:19<00:00,  7.56it/s, train_loss=2.19]\n",
      "100%|██████████| 75/75 [00:03<00:00, 19.58it/s]\n"
     ]
    },
    {
     "output_type": "stream",
     "name": "stdout",
     "text": [
      "speechbrain.utils.train_logger - epoch: 176, lr_adam: 4.00e-04, lr_whisper: 4.00e-04 - train loss: 2.19 - valid loss: 2.48, valid ctc_loss: 2.48, valid PER: 90.41, valid mpd_f1: 2.07e-01\n",
      "speechbrain.utils.checkpoints - Saved an end-of-epoch checkpoint in results/whisper_ctc/save/CKPT+2023-11-21+12-27-03+00\n",
      "speechbrain.utils.checkpoints - Deleted checkpoint in results/whisper_ctc/save/CKPT+2023-11-21+12-26-33+00\n",
      "speechbrain.utils.epoch_loop - Going into epoch 177\n"
     ]
    },
    {
     "output_type": "stream",
     "name": "stderr",
     "text": [
      "100%|██████████| 150/150 [00:19<00:00,  7.64it/s, train_loss=2.17]\n",
      "100%|██████████| 75/75 [00:03<00:00, 19.56it/s]\n"
     ]
    },
    {
     "output_type": "stream",
     "name": "stdout",
     "text": [
      "speechbrain.utils.train_logger - epoch: 177, lr_adam: 4.00e-04, lr_whisper: 4.00e-04 - train loss: 2.17 - valid loss: 2.51, valid ctc_loss: 2.51, valid PER: 89.95, valid mpd_f1: 2.01e-01\n",
      "speechbrain.utils.checkpoints - Saved an end-of-epoch checkpoint in results/whisper_ctc/save/CKPT+2023-11-21+12-27-33+00\n",
      "speechbrain.utils.checkpoints - Deleted checkpoint in results/whisper_ctc/save/CKPT+2023-11-21+12-27-03+00\n",
      "speechbrain.utils.epoch_loop - Going into epoch 178\n"
     ]
    },
    {
     "output_type": "stream",
     "name": "stderr",
     "text": [
      "100%|██████████| 150/150 [00:19<00:00,  7.57it/s, train_loss=2.21]\n",
      "100%|██████████| 75/75 [00:03<00:00, 19.46it/s]\n"
     ]
    },
    {
     "output_type": "stream",
     "name": "stdout",
     "text": [
      "speechbrain.utils.train_logger - epoch: 178, lr_adam: 4.00e-04, lr_whisper: 4.00e-04 - train loss: 2.21 - valid loss: 2.48, valid ctc_loss: 2.48, valid PER: 89.18, valid mpd_f1: 2.04e-01\n",
      "speechbrain.utils.checkpoints - Saved an end-of-epoch checkpoint in results/whisper_ctc/save/CKPT+2023-11-21+12-28-02+00\n",
      "speechbrain.utils.checkpoints - Deleted checkpoint in results/whisper_ctc/save/CKPT+2023-11-21+12-27-33+00\n",
      "speechbrain.utils.epoch_loop - Going into epoch 179\n"
     ]
    },
    {
     "output_type": "stream",
     "name": "stderr",
     "text": [
      "100%|██████████| 150/150 [00:19<00:00,  7.54it/s, train_loss=2.2]\n",
      "100%|██████████| 75/75 [00:03<00:00, 19.50it/s]\n"
     ]
    },
    {
     "output_type": "stream",
     "name": "stdout",
     "text": [
      "speechbrain.utils.train_logger - epoch: 179, lr_adam: 4.00e-04, lr_whisper: 4.00e-04 - train loss: 2.20 - valid loss: 2.48, valid ctc_loss: 2.48, valid PER: 89.71, valid mpd_f1: 2.04e-01\n",
      "speechbrain.utils.checkpoints - Saved an end-of-epoch checkpoint in results/whisper_ctc/save/CKPT+2023-11-21+12-28-32+00\n",
      "speechbrain.utils.checkpoints - Deleted checkpoint in results/whisper_ctc/save/CKPT+2023-11-21+12-28-02+00\n",
      "speechbrain.utils.epoch_loop - Going into epoch 180\n"
     ]
    },
    {
     "output_type": "stream",
     "name": "stderr",
     "text": [
      "100%|██████████| 150/150 [00:19<00:00,  7.54it/s, train_loss=2.2]\n",
      "100%|██████████| 75/75 [00:03<00:00, 19.42it/s]"
     ]
    },
    {
     "output_type": "stream",
     "name": "stdout",
     "text": [
      "speechbrain.utils.train_logger - epoch: 180, lr_adam: 4.00e-04, lr_whisper: 4.00e-04 - train loss: 2.20 - valid loss: 2.48, valid ctc_loss: 2.48, valid PER: 89.41, valid mpd_f1: 2.07e-01\n"
     ]
    },
    {
     "output_type": "stream",
     "name": "stderr",
     "text": [
      "\n"
     ]
    },
    {
     "output_type": "stream",
     "name": "stdout",
     "text": [
      "speechbrain.utils.checkpoints - Saved an end-of-epoch checkpoint in results/whisper_ctc/save/CKPT+2023-11-21+12-29-01+00\n",
      "speechbrain.utils.checkpoints - Deleted checkpoint in results/whisper_ctc/save/CKPT+2023-11-21+12-28-32+00\n",
      "speechbrain.utils.epoch_loop - Going into epoch 181\n"
     ]
    },
    {
     "output_type": "stream",
     "name": "stderr",
     "text": [
      "100%|██████████| 150/150 [00:19<00:00,  7.59it/s, train_loss=2.18]\n",
      "100%|██████████| 75/75 [00:03<00:00, 19.56it/s]\n"
     ]
    },
    {
     "output_type": "stream",
     "name": "stdout",
     "text": [
      "speechbrain.utils.train_logger - epoch: 181, lr_adam: 4.00e-04, lr_whisper: 4.00e-04 - train loss: 2.18 - valid loss: 2.49, valid ctc_loss: 2.49, valid PER: 89.17, valid mpd_f1: 2.07e-01\n",
      "speechbrain.utils.checkpoints - Saved an end-of-epoch checkpoint in results/whisper_ctc/save/CKPT+2023-11-21+12-29-31+00\n",
      "speechbrain.utils.checkpoints - Deleted checkpoint in results/whisper_ctc/save/CKPT+2023-11-21+12-29-01+00\n",
      "speechbrain.utils.epoch_loop - Going into epoch 182\n"
     ]
    },
    {
     "output_type": "stream",
     "name": "stderr",
     "text": [
      "100%|██████████| 150/150 [00:19<00:00,  7.63it/s, train_loss=2.19]\n",
      "100%|██████████| 75/75 [00:03<00:00, 19.61it/s]"
     ]
    },
    {
     "output_type": "stream",
     "name": "stdout",
     "text": [
      "speechbrain.utils.train_logger - epoch: 182, lr_adam: 4.00e-04, lr_whisper: 4.00e-04 - train loss: 2.19 - valid loss: 2.53, valid ctc_loss: 2.53, valid PER: 89.27, valid mpd_f1: 2.06e-01\n"
     ]
    },
    {
     "output_type": "stream",
     "name": "stderr",
     "text": [
      "\n"
     ]
    },
    {
     "output_type": "stream",
     "name": "stdout",
     "text": [
      "speechbrain.utils.checkpoints - Saved an end-of-epoch checkpoint in results/whisper_ctc/save/CKPT+2023-11-21+12-30-01+00\n",
      "speechbrain.utils.checkpoints - Deleted checkpoint in results/whisper_ctc/save/CKPT+2023-11-21+12-29-31+00\n",
      "speechbrain.utils.epoch_loop - Going into epoch 183\n"
     ]
    },
    {
     "output_type": "stream",
     "name": "stderr",
     "text": [
      "100%|██████████| 150/150 [00:19<00:00,  7.60it/s, train_loss=2.21]\n",
      "100%|██████████| 75/75 [00:03<00:00, 19.54it/s]\n"
     ]
    },
    {
     "output_type": "stream",
     "name": "stdout",
     "text": [
      "speechbrain.utils.train_logger - epoch: 183, lr_adam: 4.00e-04, lr_whisper: 4.00e-04 - train loss: 2.21 - valid loss: 2.46, valid ctc_loss: 2.46, valid PER: 88.48, valid mpd_f1: 2.05e-01\n",
      "speechbrain.utils.checkpoints - Saved an end-of-epoch checkpoint in results/whisper_ctc/save/CKPT+2023-11-21+12-30-31+00\n",
      "speechbrain.utils.checkpoints - Deleted checkpoint in results/whisper_ctc/save/CKPT+2023-11-21+12-06-21+00\n",
      "speechbrain.utils.checkpoints - Deleted checkpoint in results/whisper_ctc/save/CKPT+2023-11-21+12-30-01+00\n",
      "speechbrain.utils.epoch_loop - Going into epoch 184\n"
     ]
    },
    {
     "output_type": "stream",
     "name": "stderr",
     "text": [
      "100%|██████████| 150/150 [00:19<00:00,  7.62it/s, train_loss=2.22]\n",
      "100%|██████████| 75/75 [00:03<00:00, 19.60it/s]\n"
     ]
    },
    {
     "output_type": "stream",
     "name": "stdout",
     "text": [
      "speechbrain.utils.train_logger - epoch: 184, lr_adam: 4.00e-04, lr_whisper: 4.00e-04 - train loss: 2.22 - valid loss: 2.43, valid ctc_loss: 2.43, valid PER: 89.40, valid mpd_f1: 2.02e-01\n",
      "speechbrain.utils.checkpoints - Saved an end-of-epoch checkpoint in results/whisper_ctc/save/CKPT+2023-11-21+12-31-01+00\n",
      "speechbrain.utils.epoch_loop - Going into epoch 185\n"
     ]
    },
    {
     "output_type": "stream",
     "name": "stderr",
     "text": [
      "100%|██████████| 150/150 [00:19<00:00,  7.59it/s, train_loss=2.18]\n",
      "100%|██████████| 75/75 [00:03<00:00, 19.54it/s]\n"
     ]
    },
    {
     "output_type": "stream",
     "name": "stdout",
     "text": [
      "speechbrain.utils.train_logger - epoch: 185, lr_adam: 4.00e-04, lr_whisper: 4.00e-04 - train loss: 2.18 - valid loss: 2.58, valid ctc_loss: 2.58, valid PER: 89.85, valid mpd_f1: 2.04e-01\n",
      "speechbrain.utils.checkpoints - Saved an end-of-epoch checkpoint in results/whisper_ctc/save/CKPT+2023-11-21+12-31-30+00\n",
      "speechbrain.utils.checkpoints - Deleted checkpoint in results/whisper_ctc/save/CKPT+2023-11-21+12-31-01+00\n",
      "speechbrain.utils.epoch_loop - Going into epoch 186\n"
     ]
    },
    {
     "output_type": "stream",
     "name": "stderr",
     "text": [
      "100%|██████████| 150/150 [00:19<00:00,  7.56it/s, train_loss=2.19]\n",
      "100%|██████████| 75/75 [00:03<00:00, 19.18it/s]\n"
     ]
    },
    {
     "output_type": "stream",
     "name": "stdout",
     "text": [
      "speechbrain.utils.train_logger - epoch: 186, lr_adam: 4.00e-04, lr_whisper: 4.00e-04 - train loss: 2.19 - valid loss: 2.46, valid ctc_loss: 2.46, valid PER: 88.99, valid mpd_f1: 2.05e-01\n",
      "speechbrain.utils.checkpoints - Saved an end-of-epoch checkpoint in results/whisper_ctc/save/CKPT+2023-11-21+12-32-00+00\n",
      "speechbrain.utils.checkpoints - Deleted checkpoint in results/whisper_ctc/save/CKPT+2023-11-21+12-31-30+00\n",
      "speechbrain.utils.epoch_loop - Going into epoch 187\n"
     ]
    },
    {
     "output_type": "stream",
     "name": "stderr",
     "text": [
      "100%|██████████| 150/150 [00:19<00:00,  7.62it/s, train_loss=2.2]\n",
      "100%|██████████| 75/75 [00:03<00:00, 19.31it/s]\n"
     ]
    },
    {
     "output_type": "stream",
     "name": "stdout",
     "text": [
      "speechbrain.utils.train_logger - epoch: 187, lr_adam: 4.00e-04, lr_whisper: 4.00e-04 - train loss: 2.20 - valid loss: 2.52, valid ctc_loss: 2.52, valid PER: 89.86, valid mpd_f1: 2.05e-01\n",
      "speechbrain.utils.checkpoints - Saved an end-of-epoch checkpoint in results/whisper_ctc/save/CKPT+2023-11-21+12-32-30+00\n",
      "speechbrain.utils.checkpoints - Deleted checkpoint in results/whisper_ctc/save/CKPT+2023-11-21+12-32-00+00\n",
      "speechbrain.utils.epoch_loop - Going into epoch 188\n"
     ]
    },
    {
     "output_type": "stream",
     "name": "stderr",
     "text": [
      "100%|██████████| 150/150 [00:19<00:00,  7.61it/s, train_loss=2.2]\n",
      "100%|██████████| 75/75 [00:03<00:00, 19.44it/s]\n"
     ]
    },
    {
     "output_type": "stream",
     "name": "stdout",
     "text": [
      "speechbrain.utils.train_logger - epoch: 188, lr_adam: 4.00e-04, lr_whisper: 4.00e-04 - train loss: 2.20 - valid loss: 2.46, valid ctc_loss: 2.46, valid PER: 89.86, valid mpd_f1: 2.05e-01\n",
      "speechbrain.utils.checkpoints - Saved an end-of-epoch checkpoint in results/whisper_ctc/save/CKPT+2023-11-21+12-32-59+00\n",
      "speechbrain.utils.checkpoints - Deleted checkpoint in results/whisper_ctc/save/CKPT+2023-11-21+12-32-30+00\n",
      "speechbrain.utils.epoch_loop - Going into epoch 189\n"
     ]
    },
    {
     "output_type": "stream",
     "name": "stderr",
     "text": [
      "100%|██████████| 150/150 [00:19<00:00,  7.63it/s, train_loss=2.18]\n",
      "100%|██████████| 75/75 [00:03<00:00, 19.45it/s]\n"
     ]
    },
    {
     "output_type": "stream",
     "name": "stdout",
     "text": [
      "speechbrain.utils.train_logger - epoch: 189, lr_adam: 4.00e-04, lr_whisper: 4.00e-04 - train loss: 2.18 - valid loss: 2.44, valid ctc_loss: 2.44, valid PER: 90.23, valid mpd_f1: 2.06e-01\n",
      "speechbrain.utils.checkpoints - Saved an end-of-epoch checkpoint in results/whisper_ctc/save/CKPT+2023-11-21+12-33-28+00\n",
      "speechbrain.utils.checkpoints - Deleted checkpoint in results/whisper_ctc/save/CKPT+2023-11-21+12-32-59+00\n",
      "speechbrain.utils.epoch_loop - Going into epoch 190\n"
     ]
    },
    {
     "output_type": "stream",
     "name": "stderr",
     "text": [
      "100%|██████████| 150/150 [00:19<00:00,  7.55it/s, train_loss=2.19]\n",
      "100%|██████████| 75/75 [00:03<00:00, 19.50it/s]\n"
     ]
    },
    {
     "output_type": "stream",
     "name": "stdout",
     "text": [
      "speechbrain.utils.train_logger - epoch: 190, lr_adam: 4.00e-04, lr_whisper: 4.00e-04 - train loss: 2.19 - valid loss: 2.45, valid ctc_loss: 2.45, valid PER: 89.47, valid mpd_f1: 2.06e-01\n",
      "speechbrain.utils.checkpoints - Saved an end-of-epoch checkpoint in results/whisper_ctc/save/CKPT+2023-11-21+12-33-59+00\n",
      "speechbrain.utils.checkpoints - Deleted checkpoint in results/whisper_ctc/save/CKPT+2023-11-21+12-33-28+00\n",
      "speechbrain.utils.epoch_loop - Going into epoch 191\n"
     ]
    },
    {
     "output_type": "stream",
     "name": "stderr",
     "text": [
      "100%|██████████| 150/150 [00:19<00:00,  7.59it/s, train_loss=2.23]\n",
      "100%|██████████| 75/75 [00:03<00:00, 19.67it/s]\n"
     ]
    },
    {
     "output_type": "stream",
     "name": "stdout",
     "text": [
      "speechbrain.utils.train_logger - epoch: 191, lr_adam: 4.00e-04, lr_whisper: 4.00e-04 - train loss: 2.23 - valid loss: 2.50, valid ctc_loss: 2.50, valid PER: 89.60, valid mpd_f1: 2.04e-01\n",
      "speechbrain.utils.checkpoints - Saved an end-of-epoch checkpoint in results/whisper_ctc/save/CKPT+2023-11-21+12-34-29+00\n",
      "speechbrain.utils.checkpoints - Deleted checkpoint in results/whisper_ctc/save/CKPT+2023-11-21+12-33-59+00\n",
      "speechbrain.utils.epoch_loop - Going into epoch 192\n"
     ]
    },
    {
     "output_type": "stream",
     "name": "stderr",
     "text": [
      "100%|██████████| 150/150 [00:19<00:00,  7.52it/s, train_loss=2.2]\n",
      "100%|██████████| 75/75 [00:03<00:00, 19.75it/s]\n"
     ]
    },
    {
     "output_type": "stream",
     "name": "stdout",
     "text": [
      "speechbrain.utils.train_logger - epoch: 192, lr_adam: 4.00e-04, lr_whisper: 4.00e-04 - train loss: 2.20 - valid loss: 2.50, valid ctc_loss: 2.50, valid PER: 89.79, valid mpd_f1: 2.04e-01\n",
      "speechbrain.utils.checkpoints - Saved an end-of-epoch checkpoint in results/whisper_ctc/save/CKPT+2023-11-21+12-34-58+00\n",
      "speechbrain.utils.checkpoints - Deleted checkpoint in results/whisper_ctc/save/CKPT+2023-11-21+12-34-29+00\n",
      "speechbrain.utils.epoch_loop - Going into epoch 193\n"
     ]
    },
    {
     "output_type": "stream",
     "name": "stderr",
     "text": [
      "100%|██████████| 150/150 [00:19<00:00,  7.61it/s, train_loss=2.19]\n",
      "100%|██████████| 75/75 [00:03<00:00, 19.54it/s]\n"
     ]
    },
    {
     "output_type": "stream",
     "name": "stdout",
     "text": [
      "speechbrain.utils.train_logger - epoch: 193, lr_adam: 4.00e-04, lr_whisper: 4.00e-04 - train loss: 2.19 - valid loss: 2.51, valid ctc_loss: 2.51, valid PER: 90.19, valid mpd_f1: 2.04e-01\n",
      "speechbrain.utils.checkpoints - Saved an end-of-epoch checkpoint in results/whisper_ctc/save/CKPT+2023-11-21+12-35-28+00\n",
      "speechbrain.utils.checkpoints - Deleted checkpoint in results/whisper_ctc/save/CKPT+2023-11-21+12-34-58+00\n",
      "speechbrain.utils.epoch_loop - Going into epoch 194\n"
     ]
    },
    {
     "output_type": "stream",
     "name": "stderr",
     "text": [
      "100%|██████████| 150/150 [00:19<00:00,  7.70it/s, train_loss=2.21]\n",
      "100%|██████████| 75/75 [00:03<00:00, 19.77it/s]\n"
     ]
    },
    {
     "output_type": "stream",
     "name": "stdout",
     "text": [
      "speechbrain.utils.train_logger - epoch: 194, lr_adam: 4.00e-04, lr_whisper: 4.00e-04 - train loss: 2.21 - valid loss: 2.52, valid ctc_loss: 2.52, valid PER: 90.21, valid mpd_f1: 2.06e-01\n",
      "speechbrain.utils.checkpoints - Saved an end-of-epoch checkpoint in results/whisper_ctc/save/CKPT+2023-11-21+12-35-58+00\n",
      "speechbrain.utils.checkpoints - Deleted checkpoint in results/whisper_ctc/save/CKPT+2023-11-21+12-35-28+00\n",
      "speechbrain.utils.epoch_loop - Going into epoch 195\n"
     ]
    },
    {
     "output_type": "stream",
     "name": "stderr",
     "text": [
      "100%|██████████| 150/150 [00:19<00:00,  7.61it/s, train_loss=2.19]\n",
      "100%|██████████| 75/75 [00:03<00:00, 19.72it/s]\n"
     ]
    },
    {
     "output_type": "stream",
     "name": "stdout",
     "text": [
      "speechbrain.utils.train_logger - epoch: 195, lr_adam: 4.00e-04, lr_whisper: 4.00e-04 - train loss: 2.19 - valid loss: 2.49, valid ctc_loss: 2.49, valid PER: 89.67, valid mpd_f1: 2.07e-01\n",
      "speechbrain.utils.checkpoints - Saved an end-of-epoch checkpoint in results/whisper_ctc/save/CKPT+2023-11-21+12-36-28+00\n",
      "speechbrain.utils.checkpoints - Deleted checkpoint in results/whisper_ctc/save/CKPT+2023-11-21+12-35-58+00\n",
      "speechbrain.utils.epoch_loop - Going into epoch 196\n"
     ]
    },
    {
     "output_type": "stream",
     "name": "stderr",
     "text": [
      "100%|██████████| 150/150 [00:19<00:00,  7.56it/s, train_loss=2.22]\n",
      "100%|██████████| 75/75 [00:03<00:00, 19.46it/s]\n"
     ]
    },
    {
     "output_type": "stream",
     "name": "stdout",
     "text": [
      "speechbrain.utils.train_logger - epoch: 196, lr_adam: 4.00e-04, lr_whisper: 4.00e-04 - train loss: 2.22 - valid loss: 2.53, valid ctc_loss: 2.53, valid PER: 89.08, valid mpd_f1: 2.07e-01\n",
      "speechbrain.utils.checkpoints - Saved an end-of-epoch checkpoint in results/whisper_ctc/save/CKPT+2023-11-21+12-36-58+00\n",
      "speechbrain.utils.checkpoints - Deleted checkpoint in results/whisper_ctc/save/CKPT+2023-11-21+12-36-28+00\n",
      "speechbrain.utils.epoch_loop - Going into epoch 197\n"
     ]
    },
    {
     "output_type": "stream",
     "name": "stderr",
     "text": [
      "100%|██████████| 150/150 [00:19<00:00,  7.62it/s, train_loss=2.25]\n",
      "100%|██████████| 75/75 [00:03<00:00, 19.44it/s]\n"
     ]
    },
    {
     "output_type": "stream",
     "name": "stdout",
     "text": [
      "speechbrain.utils.train_logger - epoch: 197, lr_adam: 4.00e-04, lr_whisper: 4.00e-04 - train loss: 2.25 - valid loss: 2.54, valid ctc_loss: 2.54, valid PER: 91.02, valid mpd_f1: 2.03e-01\n",
      "speechbrain.utils.checkpoints - Saved an end-of-epoch checkpoint in results/whisper_ctc/save/CKPT+2023-11-21+12-37-28+00\n",
      "speechbrain.utils.checkpoints - Deleted checkpoint in results/whisper_ctc/save/CKPT+2023-11-21+12-36-58+00\n",
      "speechbrain.utils.epoch_loop - Going into epoch 198\n"
     ]
    },
    {
     "output_type": "stream",
     "name": "stderr",
     "text": [
      "100%|██████████| 150/150 [00:20<00:00,  7.39it/s, train_loss=2.24]\n",
      "100%|██████████| 75/75 [00:03<00:00, 19.43it/s]\n"
     ]
    },
    {
     "output_type": "stream",
     "name": "stdout",
     "text": [
      "speechbrain.utils.train_logger - epoch: 198, lr_adam: 4.00e-04, lr_whisper: 4.00e-04 - train loss: 2.24 - valid loss: 2.54, valid ctc_loss: 2.54, valid PER: 91.37, valid mpd_f1: 2.06e-01\n",
      "speechbrain.utils.checkpoints - Saved an end-of-epoch checkpoint in results/whisper_ctc/save/CKPT+2023-11-21+12-37-58+00\n",
      "speechbrain.utils.checkpoints - Deleted checkpoint in results/whisper_ctc/save/CKPT+2023-11-21+12-37-28+00\n",
      "speechbrain.utils.epoch_loop - Going into epoch 199\n"
     ]
    },
    {
     "output_type": "stream",
     "name": "stderr",
     "text": [
      "100%|██████████| 150/150 [00:19<00:00,  7.57it/s, train_loss=2.23]\n",
      "100%|██████████| 75/75 [00:03<00:00, 19.59it/s]\n"
     ]
    },
    {
     "output_type": "stream",
     "name": "stdout",
     "text": [
      "speechbrain.utils.train_logger - epoch: 199, lr_adam: 4.00e-04, lr_whisper: 4.00e-04 - train loss: 2.23 - valid loss: 2.51, valid ctc_loss: 2.51, valid PER: 90.62, valid mpd_f1: 2.07e-01\n",
      "speechbrain.utils.checkpoints - Saved an end-of-epoch checkpoint in results/whisper_ctc/save/CKPT+2023-11-21+12-38-28+00\n",
      "speechbrain.utils.checkpoints - Deleted checkpoint in results/whisper_ctc/save/CKPT+2023-11-21+12-37-58+00\n",
      "speechbrain.utils.epoch_loop - Going into epoch 200\n"
     ]
    },
    {
     "output_type": "stream",
     "name": "stderr",
     "text": [
      "100%|██████████| 150/150 [00:34<00:00,  4.30it/s, train_loss=2.25]\n",
      "100%|██████████| 75/75 [00:03<00:00, 19.68it/s]\n"
     ]
    },
    {
     "output_type": "stream",
     "name": "stdout",
     "text": [
      "speechbrain.utils.train_logger - epoch: 200, lr_adam: 4.00e-04, lr_whisper: 4.00e-04 - train loss: 2.25 - valid loss: 2.50, valid ctc_loss: 2.50, valid PER: 90.91, valid mpd_f1: 2.08e-01\n",
      "speechbrain.utils.checkpoints - Saved an end-of-epoch checkpoint in results/whisper_ctc/save/CKPT+2023-11-21+12-39-13+00\n",
      "speechbrain.utils.checkpoints - Deleted checkpoint in results/whisper_ctc/save/CKPT+2023-11-21+12-38-28+00\n"
     ]
    }
   ],
   "source": [
    "# Training\n",
    "asr_brain.fit(\n",
    "    asr_brain.hparams.epoch_counter,\n",
    "    train_data,\n",
    "    valid_data,\n",
    "    train_loader_kwargs=hparams[\"train_dataloader_opts\"],\n",
    "    valid_loader_kwargs=hparams[\"valid_dataloader_opts\"],\n",
    ")"
   ],
   "metadata": {
    "colab": {
     "base_uri": "https://localhost:8080/"
    },
    "id": "guNzabvGXwLI",
    "outputId": "72c661ef-6cdf-4940-bef1-42c5887901a8"
   }
  },
  {
   "cell_type": "markdown",
   "source": [
    "# Testing the model"
   ],
   "metadata": {
    "collapsed": false,
    "id": "W55xdb7cXwLI"
   }
  },
  {
   "cell_type": "code",
   "execution_count": 31,
   "outputs": [
    {
     "output_type": "stream",
     "name": "stdout",
     "text": [
      "speechbrain.utils.checkpoints - Loading a checkpoint from results/whisper_ctc/save/CKPT+2023-11-21+12-30-31+00\n"
     ]
    },
    {
     "output_type": "stream",
     "name": "stderr",
     "text": [
      "100%|██████████| 300/300 [03:08<00:00,  1.59it/s]"
     ]
    },
    {
     "output_type": "stream",
     "name": "stdout",
     "text": [
      "speechbrain.utils.train_logger - Epoch loaded: 183 - test loss: 2.58, test PER: 89.32, test mpd_f1: 2.02e-01\n",
      "CTC and PER stats written to file results/whisper_ctc/wer.txt\n",
      "MPD results and stats written to file results/whisper_ctc/mpd.txt\n"
     ]
    },
    {
     "output_type": "stream",
     "name": "stderr",
     "text": [
      "\n"
     ]
    },
    {
     "output_type": "execute_result",
     "data": {
      "text/plain": [
       "2.583135099013645"
      ]
     },
     "metadata": {},
     "execution_count": 31
    }
   ],
   "source": [
    "asr_brain.evaluate(\n",
    "    test_data,\n",
    "    min_key=\"PER\",\n",
    "    test_loader_kwargs=hparams[\"test_dataloader_opts\"],\n",
    ")"
   ],
   "metadata": {
    "id": "3FE-2MVfXwLI",
    "colab": {
     "base_uri": "https://localhost:8080/"
    },
    "outputId": "7d927414-85ae-433e-88df-c68e6f682f2d"
   }
  },
  {
   "cell_type": "code",
   "source": [],
   "metadata": {
    "id": "nmYWWL60uE7P"
   },
   "execution_count": null,
   "outputs": []
  }
 ],
 "metadata": {
  "kernelspec": {
   "display_name": "Python 3",
   "name": "python3"
  },
  "language_info": {
   "codemirror_mode": {
    "name": "ipython",
    "version": 2
   },
   "file_extension": ".py",
   "mimetype": "text/x-python",
   "name": "python",
   "nbconvert_exporter": "python",
   "pygments_lexer": "ipython2",
   "version": "2.7.6"
  },
  "colab": {
   "provenance": [],
   "machine_shape": "hm",
   "gpuType": "A100"
  },
  "accelerator": "GPU"
 },
 "nbformat": 4,
 "nbformat_minor": 0
}
